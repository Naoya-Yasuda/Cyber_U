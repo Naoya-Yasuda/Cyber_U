{
 "cells": [
  {
   "cell_type": "markdown",
   "metadata": {},
   "source": [
    "# 第15回演習「論理プログラミング」その1"
   ]
  },
  {
   "cell_type": "markdown",
   "metadata": {},
   "source": [
    "この演習では、ライブラリを用いた論理プログラミングの方法を習得します。<br />\n",
    "グレイの背景のプログラムは上から順に、1つずつ実行していきましょう。<br /><hr />"
   ]
  },
  {
   "cell_type": "markdown",
   "metadata": {},
   "source": [
    "## 1) 論理プログラミングのHello, World"
   ]
  },
  {
   "cell_type": "code",
   "execution_count": 1,
   "metadata": {},
   "outputs": [
    {
     "name": "stdout",
     "output_type": "stream",
     "text": [
      "(5,)\n"
     ]
    }
   ],
   "source": [
    "from kanren import * # 論理プログラミング用のライブラリを読込\n",
    "\n",
    "x=var()\n",
    "# xは5に等しい、というゴールのもとで、xは何?\n",
    "print(run(0, x, eq(x, 5)))"
   ]
  },
  {
   "cell_type": "markdown",
   "metadata": {},
   "source": [
    "## 2) 論理プログラミングのHello, World (その2)"
   ]
  },
  {
   "cell_type": "code",
   "execution_count": 2,
   "metadata": {},
   "outputs": [
    {
     "name": "stdout",
     "output_type": "stream",
     "text": [
      "(1, 2, 3)\n"
     ]
    }
   ],
   "source": [
    "# xは(1,2,3)の要素である\n",
    "print(run(0, x, membero(x, (1,2,3))))"
   ]
  },
  {
   "cell_type": "markdown",
   "metadata": {},
   "source": [
    "## 3) 論理プログラミングのHello, World (その3)"
   ]
  },
  {
   "cell_type": "code",
   "execution_count": 3,
   "metadata": {},
   "outputs": [
    {
     "name": "stdout",
     "output_type": "stream",
     "text": [
      "(2, 3)\n",
      "(1, 2, 3, 4)\n"
     ]
    }
   ],
   "source": [
    "# xは(1,2,3)の要素であり、(2,3,4)の要素でもある\n",
    "print(run(0, x, lall(membero(x,(1,2,3)),\n",
    "                     membero(x,(2,3,4)))))\n",
    "\n",
    "# xは(1,2,3)の要素であるか、または(2,3,4)の要素である\n",
    "print(run(0, x, lany(membero(x,(1,2,3)),\n",
    "                     membero(x,(2,3,4)))))"
   ]
  },
  {
   "cell_type": "markdown",
   "metadata": {},
   "source": [
    "## 4) 論理クイズに挑戦\n",
    "4人の名前は、ケメ子、ジャ子、善次郎、お兄さんである。<br />\n",
    "4人はそれぞれ異なるペットを飼っていて、異なる車に乗っていて、<br />\n",
    "異なる場所に住んでいる。<br />\n",
    "<ul>\n",
    "    <li> ケメ子は青いパジェロに乗っている</li>\n",
    "    <li>猫を飼っている人は大阪に住んでいる</li>\n",
    "    <li> 善次郎は福岡に住んでいる</li>\n",
    "    <li>黒いセドリックに乗る人は埼玉に住んでいる</li>\n",
    "    <li>ジャ子は猫を飼っている</li>\n",
    "    <li>お兄さんは埼玉に住んでいる</li>\n",
    "    <li>未確認生物を飼っている人はアメリカに住んでいる</li>\n",
    "    <li><span style=\"color:red;\">イタチ</span>を飼っている人は誰だ?</li>\n",
    "    </ul>"
   ]
  },
  {
   "cell_type": "code",
   "execution_count": 14,
   "metadata": {},
   "outputs": [],
   "source": [
    "登場人物 = var()\n",
    "ルール = lall(\n",
    "    # 登場人物は4人\n",
    "    # 登場人物は4つの変数で成り立つ\n",
    "    # 変数の1番目は氏名、2番目はペット、3番目は乗っている車、4番目は住む国。\n",
    "    (eq, (var(), var(), var(), var()), 登場人物),\n",
    "    (membero, ('ケメ子', var(), '青いパジェロ', var()), 登場人物),\n",
    "    (membero, (var(), '猫', var(), '大阪'), 登場人物),\n",
    "    (membero, ('善次郎', var(), var(), '福岡'), 登場人物),\n",
    "    (membero, (var(), var(), '黒いセドリック', '埼玉'), 登場人物),\n",
    "    (membero, ('ジャ子', '猫', var(), var()), 登場人物),\n",
    "    (membero, ('お兄さん', var(), var(), '埼玉'), 登場人物),\n",
    "    (membero, (var(), '未確認生物', var(), 'アメリカ'), 登場人物),\n",
    "    (membero, (var(), 'イタチ', var(), var()), 登場人物)\n",
    "    )\n",
    "\n",
    "推論結果 = run(0, 登場人物, ルール)"
   ]
  },
  {
   "cell_type": "markdown",
   "metadata": {},
   "source": [
    "## 5) 論理クイズの結果を表示"
   ]
  },
  {
   "cell_type": "code",
   "execution_count": 37,
   "metadata": {},
   "outputs": [
    {
     "name": "stdout",
     "output_type": "stream",
     "text": [
      "氏名, ペット, 車, 居住地\n",
      "======================\n",
      "ケメ子, 未確認生物, 青いパジェロ, アメリカ\n",
      "ジャ子, 猫, テスラ車, 大阪\n",
      "善次郎, イタチ, モコちゃん, 福岡\n",
      "お兄さん, モモンガ, 黒いセドリック, 埼玉\n"
     ]
    }
   ],
   "source": [
    "print(\"氏名, ペット, 車, 居住地\")\n",
    "print(\"======================\")\n",
    "for 人物 in (推論結果[0]):\n",
    "    人物 = [str(項目) for 項目 in 人物] # 文字列に変えてあげないと次行のjoinでエラーになるので\n",
    "    print(\", \".join(人物)) # カンマ区切りで繋ぐ    "
   ]
  },
  {
   "cell_type": "markdown",
   "metadata": {},
   "source": [
    "↑ イタチを飼っているのは誰でしたか?<hr />"
   ]
  },
  {
   "cell_type": "markdown",
   "metadata": {},
   "source": [
    "## 任意課題1) \n",
    "上記の論理クイズで答えが出なかった\n",
    "<ul>\n",
    "    <li>ジャ子さんが乗る車</li>\n",
    "<li>善次郎さんが乗る車</li>    \n",
    "    <li>お兄さんが飼っているペット</li>\n",
    "    </ul>\n",
    "    の答えを出せるように、推論のルールを弄ってみましょう。"
   ]
  },
  {
   "cell_type": "code",
   "execution_count": 36,
   "metadata": {},
   "outputs": [
    {
     "name": "stdout",
     "output_type": "stream",
     "text": [
      "((('ケメ子', '未確認生物', '青いパジェロ', 'アメリカ'), ('ジャ子', '猫', 'テスラ車', '大阪'), ('善次郎', 'イタチ', 'モコちゃん', '福岡'), ('お兄さん', 'モモンガ', '黒いセドリック', '埼玉')), (('ジャ子', '猫', 'テスラ車', '大阪'), ('ケメ子', '未確認生物', '青いパジェロ', 'アメリカ'), ('善次郎', 'イタチ', 'モコちゃん', '福岡'), ('お兄さん', 'モモンガ', '黒いセドリック', '埼玉')), (('ジャ子', '猫', 'テスラ車', '大阪'), ('善次郎', 'イタチ', 'モコちゃん', '福岡'), ('ケメ子', '未確認生物', '青いパジェロ', 'アメリカ'), ('お兄さん', 'モモンガ', '黒いセドリック', '埼玉')), (('ジャ子', '猫', 'テスラ車', '大阪'), ('善次郎', 'イタチ', 'モコちゃん', '福岡'), ('お兄さん', 'モモンガ', '黒いセドリック', '埼玉'), ('ケメ子', '未確認生物', '青いパジェロ', 'アメリカ')), (('ケメ子', '未確認生物', '青いパジェロ', 'アメリカ'), ('善次郎', 'イタチ', 'モコちゃん', '福岡'), ('ジャ子', '猫', 'テスラ車', '大阪'), ('お兄さん', 'モモンガ', '黒いセドリック', '埼玉')), (('善次郎', 'イタチ', 'モコちゃん', '福岡'), ('ケメ子', '未確認生物', '青いパジェロ', 'アメリカ'), ('ジャ子', '猫', 'テスラ車', '大阪'), ('お兄さん', 'モモンガ', '黒いセドリック', '埼玉')), (('善次郎', 'イタチ', 'モコちゃん', '福岡'), ('ジャ子', '猫', 'テスラ車', '大阪'), ('ケメ子', '未確認生物', '青いパジェロ', 'アメリカ'), ('お兄さん', 'モモンガ', '黒いセドリック', '埼玉')), (('善次郎', 'イタチ', 'モコちゃん', '福岡'), ('ジャ子', '猫', 'テスラ車', '大阪'), ('お兄さん', 'モモンガ', '黒いセドリック', '埼玉'), ('ケメ子', '未確認生物', '青いパジェロ', 'アメリカ')), (('ケメ子', '未確認生物', '青いパジェロ', 'アメリカ'), ('善次郎', 'イタチ', 'モコちゃん', '福岡'), ('お兄さん', 'モモンガ', '黒いセドリック', '埼玉'), ('ジャ子', '猫', 'テスラ車', '大阪')), (('善次郎', 'イタチ', 'モコちゃん', '福岡'), ('ケメ子', '未確認生物', '青いパジェロ', 'アメリカ'), ('お兄さん', 'モモンガ', '黒いセドリック', '埼玉'), ('ジャ子', '猫', 'テスラ車', '大阪')), (('善次郎', 'イタチ', 'モコちゃん', '福岡'), ('お兄さん', 'モモンガ', '黒いセドリック', '埼玉'), ('ケメ子', '未確認生物', '青いパジェロ', 'アメリカ'), ('ジャ子', '猫', 'テスラ車', '大阪')), (('善次郎', 'イタチ', 'モコちゃん', '福岡'), ('お兄さん', 'モモンガ', '黒いセドリック', '埼玉'), ('ジャ子', '猫', 'テスラ車', '大阪'), ('ケメ子', '未確認生物', '青いパジェロ', 'アメリカ')), (('ケメ子', '未確認生物', '青いパジェロ', 'アメリカ'), ('ジャ子', '猫', 'テスラ車', '大阪'), ('お兄さん', 'モモンガ', '黒いセドリック', '埼玉'), ('善次郎', 'イタチ', 'モコちゃん', '福岡')), (('ジャ子', '猫', 'テスラ車', '大阪'), ('ケメ子', '未確認生物', '青いパジェロ', 'アメリカ'), ('お兄さん', 'モモンガ', '黒いセドリック', '埼玉'), ('善次郎', 'イタチ', 'モコちゃん', '福岡')), (('ジャ子', '猫', 'テスラ車', '大阪'), ('お兄さん', 'モモンガ', '黒いセドリック', '埼玉'), ('ケメ子', '未確認生物', '青いパジェロ', 'アメリカ'), ('善次郎', 'イタチ', 'モコちゃん', '福岡')), (('ジャ子', '猫', 'テスラ車', '大阪'), ('お兄さん', 'モモンガ', '黒いセドリック', '埼玉'), ('善次郎', 'イタチ', 'モコちゃん', '福岡'), ('ケメ子', '未確認生物', '青いパジェロ', 'アメリカ')), (('ケメ子', '未確認生物', '青いパジェロ', 'アメリカ'), ('お兄さん', 'モモンガ', '黒いセドリック', '埼玉'), ('ジャ子', '猫', 'テスラ車', '大阪'), ('善次郎', 'イタチ', 'モコちゃん', '福岡')), (('お兄さん', 'モモンガ', '黒いセドリック', '埼玉'), ('ケメ子', '未確認生物', '青いパジェロ', 'アメリカ'), ('ジャ子', '猫', 'テスラ車', '大阪'), ('善次郎', 'イタチ', 'モコちゃん', '福岡')), (('お兄さん', 'モモンガ', '黒いセドリック', '埼玉'), ('ジャ子', '猫', 'テスラ車', '大阪'), ('ケメ子', '未確認生物', '青いパジェロ', 'アメリカ'), ('善次郎', 'イタチ', 'モコちゃん', '福岡')), (('お兄さん', 'モモンガ', '黒いセドリック', '埼玉'), ('ジャ子', '猫', 'テスラ車', '大阪'), ('善次郎', 'イタチ', 'モコちゃん', '福岡'), ('ケメ子', '未確認生物', '青いパジェロ', 'アメリカ')), (('ケメ子', '未確認生物', '青いパジェロ', 'アメリカ'), ('お兄さん', 'モモンガ', '黒いセドリック', '埼玉'), ('善次郎', 'イタチ', 'モコちゃん', '福岡'), ('ジャ子', '猫', 'テスラ車', '大阪')), (('お兄さん', 'モモンガ', '黒いセドリック', '埼玉'), ('ケメ子', '未確認生物', '青いパジェロ', 'アメリカ'), ('善次郎', 'イタチ', 'モコちゃん', '福岡'), ('ジャ子', '猫', 'テスラ車', '大阪')), (('お兄さん', 'モモンガ', '黒いセドリック', '埼玉'), ('善次郎', 'イタチ', 'モコちゃん', '福岡'), ('ケメ子', '未確認生物', '青いパジェロ', 'アメリカ'), ('ジャ子', '猫', 'テスラ車', '大阪')), (('お兄さん', 'モモンガ', '黒いセドリック', '埼玉'), ('善次郎', 'イタチ', 'モコちゃん', '福岡'), ('ジャ子', '猫', 'テスラ車', '大阪'), ('ケメ子', '未確認生物', '青いパジェロ', 'アメリカ')))\n"
     ]
    }
   ],
   "source": [
    "登場人物 = var()\n",
    "ルール = lall(\n",
    "    # 登場人物は4人\n",
    "    # 登場人物は4つの変数で成り立つ\n",
    "    # 変数の1番目は氏名、2番目はペット、3番目は乗っている車、4番目は住む国。\n",
    "    (eq, (var(), var(), var(), var()), 登場人物),\n",
    "    (membero, ('ケメ子', var(), '青いパジェロ', var()), 登場人物),\n",
    "    (membero, (var(), '猫', var(), '大阪'), 登場人物),\n",
    "    (membero, ('善次郎', var(), var(), '福岡'), 登場人物),\n",
    "    (membero, (var(), var(), '黒いセドリック', '埼玉'), 登場人物),\n",
    "    (membero, ('ジャ子', '猫', var(), var()), 登場人物),\n",
    "    (membero, ('お兄さん', var(), var(), '埼玉'), 登場人物),\n",
    "    (membero, (var(), '未確認生物', var(), 'アメリカ'), 登場人物),\n",
    "#     (membero, (var(), 'イタチ', var(), var()), 登場人物),\n",
    "    (membero, (var(), 'イタチ', 'モコちゃん', var()), 登場人物),\n",
    "    (membero, (var(), var(), 'テスラ車', var()), 登場人物),\n",
    "    (membero, (var(), 'モモンガ', var(), var()), 登場人物)\n",
    "    )\n",
    "\n",
    "推論結果 = run(0, 登場人物, ルール)\n",
    "print(推論結果)"
   ]
  },
  {
   "cell_type": "markdown",
   "metadata": {},
   "source": [
    "## 任意課題2) \n",
    "上記の論理クイズを論理プログラミング用のライブラリを使わずに<br />\n",
    "Pythonのプログラムで解いてみましょう。<br />どれくらい大変でしょうか?"
   ]
  },
  {
   "cell_type": "code",
   "execution_count": null,
   "metadata": {},
   "outputs": [],
   "source": []
  },
  {
   "cell_type": "markdown",
   "metadata": {},
   "source": [
    "## 任意課題3) \n",
    "上記の論理クイズの元になったオリジナルのゼブラ問題 (Zebra Puzzle) について調べ、<br />Pythonのプログラムで解いてみましょう。<br />\n",
    "論理プログラミング用のライブラリを使うかどうかは、皆さんのお好みで決めましょう。"
   ]
  },
  {
   "cell_type": "code",
   "execution_count": 45,
   "metadata": {},
   "outputs": [
    {
     "ename": "TypeError",
     "evalue": "'Var' object is not iterable",
     "output_type": "error",
     "traceback": [
      "\u001b[0;31m---------------------------------------------------------------------------\u001b[0m",
      "\u001b[0;31mTypeError\u001b[0m                                 Traceback (most recent call last)",
      "\u001b[0;32m<ipython-input-45-803a62de30ee>\u001b[0m in \u001b[0;36m<module>\u001b[0;34m\u001b[0m\n\u001b[1;32m     44\u001b[0m     \u001b[0;31m# 隣接関係のルール\u001b[0m\u001b[0;34m\u001b[0m\u001b[0;34m\u001b[0m\u001b[0m\n\u001b[1;32m     45\u001b[0m     \u001b[0;31m# 緑の家は白い家のすぐ右にある\u001b[0m\u001b[0;34m\u001b[0m\u001b[0;34m\u001b[0m\u001b[0m\n\u001b[0;32m---> 46\u001b[0;31m     \u001b[0;34m(\u001b[0m\u001b[0mlany\u001b[0m\u001b[0;34m(\u001b[0m\u001b[0;32mlambda\u001b[0m \u001b[0mx\u001b[0m\u001b[0;34m,\u001b[0m \u001b[0my\u001b[0m\u001b[0;34m:\u001b[0m \u001b[0meq\u001b[0m\u001b[0;34m(\u001b[0m\u001b[0mx\u001b[0m\u001b[0;34m,\u001b[0m \u001b[0my\u001b[0m \u001b[0;34m+\u001b[0m \u001b[0;36m1\u001b[0m\u001b[0;34m)\u001b[0m\u001b[0;34m,\u001b[0m \u001b[0;34m(\u001b[0m\u001b[0mhouse_color\u001b[0m\u001b[0;34m(\u001b[0m\u001b[0;34m'緑'\u001b[0m\u001b[0;34m,\u001b[0m \u001b[0m家\u001b[0m\u001b[0;34m)\u001b[0m\u001b[0;34m,\u001b[0m \u001b[0mhouse_color\u001b[0m\u001b[0;34m(\u001b[0m\u001b[0;34m'白'\u001b[0m\u001b[0;34m,\u001b[0m \u001b[0m家\u001b[0m\u001b[0;34m)\u001b[0m\u001b[0;34m)\u001b[0m\u001b[0;34m)\u001b[0m\u001b[0;34m)\u001b[0m\u001b[0;34m,\u001b[0m\u001b[0;34m\u001b[0m\u001b[0m\n\u001b[0m\u001b[1;32m     47\u001b[0m     \u001b[0;31m# チェスターフィールドを吸う人は狐を飼っている人の隣に住んでいる\u001b[0m\u001b[0;34m\u001b[0m\u001b[0;34m\u001b[0m\u001b[0m\n\u001b[1;32m     48\u001b[0m     \u001b[0;34m(\u001b[0m\u001b[0mlany\u001b[0m\u001b[0;34m(\u001b[0m\u001b[0;32mlambda\u001b[0m \u001b[0mx\u001b[0m\u001b[0;34m,\u001b[0m \u001b[0my\u001b[0m\u001b[0;34m:\u001b[0m \u001b[0mabs\u001b[0m\u001b[0;34m(\u001b[0m\u001b[0mx\u001b[0m \u001b[0;34m-\u001b[0m \u001b[0my\u001b[0m\u001b[0;34m)\u001b[0m \u001b[0;34m==\u001b[0m \u001b[0;36m1\u001b[0m\u001b[0;34m,\u001b[0m \u001b[0;34m(\u001b[0m\u001b[0mhouse_pet\u001b[0m\u001b[0;34m(\u001b[0m\u001b[0;34m'狐'\u001b[0m\u001b[0;34m,\u001b[0m \u001b[0m家\u001b[0m\u001b[0;34m)\u001b[0m\u001b[0;34m,\u001b[0m \u001b[0mhouse_smoke\u001b[0m\u001b[0;34m(\u001b[0m\u001b[0;34m'チェスターフィールド'\u001b[0m\u001b[0;34m,\u001b[0m \u001b[0m家\u001b[0m\u001b[0;34m)\u001b[0m\u001b[0;34m)\u001b[0m\u001b[0;34m)\u001b[0m\u001b[0;34m)\u001b[0m\u001b[0;34m,\u001b[0m\u001b[0;34m\u001b[0m\u001b[0m\n",
      "\u001b[0;32m<ipython-input-45-803a62de30ee>\u001b[0m in \u001b[0;36mhouse_color\u001b[0;34m(c, houses)\u001b[0m\n\u001b[1;32m      8\u001b[0m \u001b[0;34m\u001b[0m\u001b[0m\n\u001b[1;32m      9\u001b[0m \u001b[0;32mdef\u001b[0m \u001b[0mhouse_color\u001b[0m\u001b[0;34m(\u001b[0m\u001b[0mc\u001b[0m\u001b[0;34m,\u001b[0m \u001b[0mhouses\u001b[0m\u001b[0;34m)\u001b[0m\u001b[0;34m:\u001b[0m\u001b[0;34m\u001b[0m\u001b[0m\n\u001b[0;32m---> 10\u001b[0;31m     \u001b[0;32mreturn\u001b[0m \u001b[0mnext\u001b[0m\u001b[0;34m(\u001b[0m\u001b[0mi\u001b[0m \u001b[0;32mfor\u001b[0m \u001b[0mi\u001b[0m\u001b[0;34m,\u001b[0m \u001b[0mhouse\u001b[0m \u001b[0;32min\u001b[0m \u001b[0menumerate\u001b[0m\u001b[0;34m(\u001b[0m\u001b[0mhouses\u001b[0m\u001b[0;34m)\u001b[0m \u001b[0;32mif\u001b[0m \u001b[0mhouse\u001b[0m\u001b[0;34m[\u001b[0m\u001b[0;36m1\u001b[0m\u001b[0;34m]\u001b[0m \u001b[0;34m==\u001b[0m \u001b[0mc\u001b[0m\u001b[0;34m)\u001b[0m\u001b[0;34m\u001b[0m\u001b[0m\n\u001b[0m\u001b[1;32m     11\u001b[0m \u001b[0;34m\u001b[0m\u001b[0m\n\u001b[1;32m     12\u001b[0m \u001b[0;32mdef\u001b[0m \u001b[0mhouse_pet\u001b[0m\u001b[0;34m(\u001b[0m\u001b[0mp\u001b[0m\u001b[0;34m,\u001b[0m \u001b[0mhouses\u001b[0m\u001b[0;34m)\u001b[0m\u001b[0;34m:\u001b[0m\u001b[0;34m\u001b[0m\u001b[0m\n",
      "\u001b[0;31mTypeError\u001b[0m: 'Var' object is not iterable"
     ]
    }
   ],
   "source": [
    "from kanren import run, var, eq, membero, lall\n",
    "from kanren.core import lany\n",
    "import itertools\n",
    "\n",
    "# 各特性の位置を返す補助関数\n",
    "def house_nationality(n, houses):\n",
    "    return next(i for i, house in enumerate(houses) if house[0] == n)\n",
    "\n",
    "def house_color(c, houses):\n",
    "    return next(i for i, house in enumerate(houses) if house[1] == c)\n",
    "\n",
    "def house_pet(p, houses):\n",
    "    return next(i for i, house in enumerate(houses) if house[2] == p)\n",
    "\n",
    "def house_drink(d, houses):\n",
    "    return next(i for i, house in enumerate(houses) if house[3] == d)\n",
    "\n",
    "def house_smoke(s, houses):\n",
    "    return next(i for i, house in enumerate(houses) if house[4] == s)\n",
    "\n",
    "# 各家の特性を表す変数\n",
    "家 = var()\n",
    "\n",
    "# ルールを定義\n",
    "ルール = lall(\n",
    "    # 5つの家についての情報\n",
    "    (eq, (var(), var(), var(), var(), var()), 家),\n",
    "\n",
    "    # 各家は異なる色、国籍、ペット、飲み物、タバコ\n",
    "    # 各特性の順番は [国籍, 色, ペット, 飲み物, タバコ]\n",
    "    (membero, ('イギリス人', '赤', var(), var(), var()), 家),\n",
    "    (membero, ('スペイン人', var(), '犬', var(), var()), 家),\n",
    "    (membero, (var(), '緑', var(), 'コーヒー', var()), 家),\n",
    "    (membero, ('ウクライナ人', var(), var(), '茶', var()), 家),\n",
    "    (membero, (var(), '白', var(), var(), var()), 家),\n",
    "    (membero, (var(), var(), var(), var(), 'オールド・ゴールド'), 家),\n",
    "    (membero, (var(), '黄', var(), var(), 'クール'), 家),\n",
    "    (membero, ('ノルウェー人', var(), var(), var(), var()), 家),\n",
    "    (membero, (var(), var(), var(), var(), 'チェスターフィールド'), 家),\n",
    "    (membero, (var(), var(), '馬', var(), var()), 家),\n",
    "    (membero, (var(), var(), var(), 'オレンジジュース', 'ラッキー・ストライク'), 家),\n",
    "    (membero, ('日本人', var(), var(), var(), 'パーラメント'), 家),\n",
    "\n",
    "    # 隣接関係のルール\n",
    "    # 緑の家は白い家のすぐ右にある\n",
    "    (lany(lambda x, y: eq(x, y + 1), (house_color('緑', 家), house_color('白', 家)))),\n",
    "    # チェスターフィールドを吸う人は狐を飼っている人の隣に住んでいる\n",
    "    (lany(lambda x, y: abs(x - y) == 1, (house_pet('狐', 家), house_smoke('チェスターフィールド', 家)))),\n",
    "    # ノルウェー人は青い家の隣に住んでいる\n",
    "    (lany(lambda x, y: abs(x - y) == 1, (house_nationality('ノルウェー人', 家), house_color('青', 家)))),\n",
    "    # オールド・ゴールドを吸う人はカタツムリを飼っている\n",
    "    (lany(lambda x, y: eq(x, y), (house_pet('カタツムリ', 家), house_smoke('オールド・ゴールド', 家)))),\n",
    "    # 黄色の家ではクールを吸う\n",
    "    (lany(lambda x, y: eq(x, y), (house_color('黄', 家), house_smoke('クール', 家)))),\n",
    "    # ノルウェー人は最初の家に住む\n",
    "    (membero, ('ノルウェー人', var(), var(), var(), var()), 家[0]),\n",
    "    # 真ん中の家ではミルクを飲む\n",
    "    (membero, (var(), var(), var(), 'ミルク', var()), 家[2]),\n",
    "    # 馬を飼っている家の隣ではクールを吸う\n",
    "    (lany(lambda x, y: abs(x - y) == 1, (house_pet('馬', 家), house_smoke('クール', 家)))),\n",
    "    # ラッキー・ストライクを吸っている人はオレンジジュースを飲む\n",
    "    (lany(lambda x, y: eq(x, y), (house_drink('オレンジジュース', 家), house_smoke('ラッキー・ストライク', 家)))),\n",
    "    # 日本人はパーラメントを吸う\n",
    "    (lany(lambda x, y: eq(x, y), (house_nationality('日本人', 家), house_smoke('パーラメント', 家))))\n",
    ")\n",
    "\n",
    "# 解を求める\n",
    "解 = run(0, 家, ルール)\n",
    "\n",
    "# 解を表示\n",
    "for 解 in 解:\n",
    "    print(解)\n"
   ]
  },
  {
   "cell_type": "code",
   "execution_count": 46,
   "metadata": {},
   "outputs": [],
   "source": [
    "from kanren import run, eq, membero, var, conde\n",
    "from kanren.core import lall\n",
    "def right_of(p, q, l):\n",
    "    return membero((q, p), zip(l, l[1:]))\n",
    "def next_to(p, q, l):\n",
    "    return conde([right_of(p, q, l)], [right_of(q, p, l)])\n",
    "answer = \"It is the %s who drinks the water.\\nThe %s keeps the zebra.\"\n",
    "houses = var()\n",
    "constraints = lall(\n",
    "    # There are five houses\n",
    "    (eq, (var(), var(), var(), var(), var()), houses),\n",
    "    # The Englishman lives in the red house\n",
    "    (membero, ('Englishman', 'red', var(), var(), var()), houses),\n",
    "    # The Spaniard owns the dog\n",
    "    (membero, ('Spaniard', var(), 'dog', var(), var()), houses),\n",
    "    # Coffee is drunk in the green house\n",
    "    (membero, (var(), 'green', var(), 'coffee', var()), houses),\n",
    "    # The Ukrainian drinks tea\n",
    "    (membero, ('Ukrainian', var(), var(), 'tea', var()), houses),\n",
    "    # The green house is immediately to the right of the ivory house\n",
    "    (right_of, \n",
    "        (var(), 'green', var(), var(), var()),\n",
    "        (var(), 'ivory', var(), var(), var()),\n",
    "        houses),\n",
    "    # The Old Gold smoker owns snails\n",
    "    (membero, (var(), var(), 'snails', var(), 'Old Gold'), houses),\n",
    "    # Kools are smoked in the yellow house\n",
    "    (membero, (var(), 'yellow', var(), var(), 'Kools'), houses),\n",
    "    # Milk is drunk in the middle house\n",
    "    (eq, (var(), var(),\n",
    "        (var(), var(), var(), 'milk', var()),\n",
    "               var(), var()), houses),\n",
    "    # The Norwegian lives in the middle house\n",
    "    (eq, (\n",
    "        ('Norwegian', var(), var(), var(), var()),\n",
    "               var(), var(), var(), var()), houses),\n",
    "    # The man who smokes Chesterfields lives in the house next to\n",
    "    # the man with the fox\n",
    "    (next_to,\n",
    "        (var(), var(), var(), var(), 'Chesterfield'),\n",
    "        (var(), var(), 'fox', var(), var()),\n",
    "        houses),\n",
    "    # Kools are smoked in the house next to\n",
    "    # the house where he horse is kept\n",
    "    (next_to,\n",
    "        (var(), var(), var(), var(), 'Kools'),\n",
    "        (var(), var(), 'horse', var(), var()),\n",
    "        houses),\n",
    "    # The Lucky Strike smoker drinks orange juice\n",
    "    (membero, (var(), var(), var(), 'juice', 'Lucky Strike'), houses),\n",
    "    # The Japanese smokes Parliaments\n",
    "    (membero, ('Japanese', var(), var(), var(), 'Parliament'), houses),\n",
    "    # The Norwegian lives next to the blue house\n",
    "    (next_to,\n",
    "        ('Norwegian', var(), var(), var(), var()),\n",
    "        (var(), 'blue', var(), var(), var()),\n",
    "        houses),\n",
    "    # Someone drinks water, which one?\n",
    "    (membero, (var(), var(), var(), 'water', var()), houses),\n",
    "    # Someone owns a zebra, which one?\n",
    "    (membero, (var(), var(), 'zebra', var(), var()), houses),\n",
    ")\n",
    "def solution():\n",
    "    solutions = run(0, houses, constraints)\n",
    "    water_drinker = [h for h in solutions[0] if 'water' in h][0][0]\n",
    "    zebra_keeper = [h for h in solutions[0] if 'zebra' in h][0][0]\n",
    "    return answer % (water_drinker, zebra_keeper)"
   ]
  },
  {
   "cell_type": "code",
   "execution_count": 48,
   "metadata": {},
   "outputs": [
    {
     "data": {
      "text/plain": [
       "'It is the Norwegian who drinks the water.\\nThe Japanese keeps the zebra.'"
      ]
     },
     "execution_count": 48,
     "metadata": {},
     "output_type": "execute_result"
    }
   ],
   "source": [
    "solution()"
   ]
  },
  {
   "cell_type": "code",
   "execution_count": null,
   "metadata": {},
   "outputs": [],
   "source": []
  }
 ],
 "metadata": {
  "kernelspec": {
   "display_name": "Python 3",
   "language": "python",
   "name": "python3"
  },
  "language_info": {
   "codemirror_mode": {
    "name": "ipython",
    "version": 3
   },
   "file_extension": ".py",
   "mimetype": "text/x-python",
   "name": "python",
   "nbconvert_exporter": "python",
   "pygments_lexer": "ipython3",
   "version": "3.5.4"
  }
 },
 "nbformat": 4,
 "nbformat_minor": 2
}
