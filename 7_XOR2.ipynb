{
 "cells": [
  {
   "cell_type": "markdown",
   "metadata": {},
   "source": [
    "# 第7回演習「論理回路を学習させる」"
   ]
  },
  {
   "cell_type": "markdown",
   "metadata": {},
   "source": [
    "この演習では、勾配法によるニューラルネットワークの学習を習得します。<hr />"
   ]
  },
  {
   "cell_type": "code",
   "execution_count": 4,
   "metadata": {},
   "outputs": [
    {
     "name": "stdout",
     "output_type": "stream",
     "text": [
      "初期状態の「中間層への」重み\n",
      " [[0.5488135  0.71518937 0.60276338 0.54488318 0.4236548  0.64589411\n",
      "  0.43758721 0.891773   0.96366276 0.38344152]\n",
      " [0.79172504 0.52889492 0.56804456 0.92559664 0.07103606 0.0871293\n",
      "  0.0202184  0.83261985 0.77815675 0.87001215]\n",
      " [0.97861834 0.79915856 0.46147936 0.78052918 0.11827443 0.63992102\n",
      "  0.14335329 0.94466892 0.52184832 0.41466194]]\n",
      "初期状態の「出力層への」重み\n",
      " [[0.26455561 0.77423369]\n",
      " [0.45615033 0.56843395]\n",
      " [0.0187898  0.6176355 ]\n",
      " [0.61209572 0.616934  ]\n",
      " [0.94374808 0.6818203 ]\n",
      " [0.3595079  0.43703195]\n",
      " [0.6976312  0.06022547]\n",
      " [0.66676672 0.67063787]\n",
      " [0.21038256 0.1289263 ]\n",
      " [0.31542835 0.36371077]\n",
      " [0.57019677 0.43860151]]\n",
      "学習する前のネットワークの出力\n",
      "[0 0] [0.41331644 0.58668356]\n",
      "[0 1] [0.42068526 0.57931474]\n",
      "[1 0] [0.41488198 0.58511802]\n",
      "[1 1] [0.4230695 0.5769305]\n",
      "-------------\n",
      "i= 500 0.4471454793631319\n",
      "-------------\n",
      "i= 1000 0.17195573182803361\n",
      "-------------\n",
      "i= 1500 0.031407099624446044\n",
      "-------------\n",
      "i= 2000 0.013086211058787446\n",
      "-------------\n",
      "i= 2500 0.007721031722917419\n",
      "-------------\n",
      "i= 3000 0.0053310002662903784\n",
      "-------------\n",
      "i= 3500 0.004015607107497745\n",
      "-------------\n",
      "i= 4000 0.003194964540991392\n",
      "-------------\n",
      "i= 4500 0.00263892219040717\n",
      "-------------\n",
      "i= 5000 0.002239531488013425\n",
      "-------------\n",
      "学習後のネットワークの出力\n",
      "[0 0] [0.98070159 0.01929841]\n",
      "[0 1] [0.03406492 0.96593508]\n",
      "[1 0] [0.03427669 0.96572331]\n",
      "[1 1] [0.9579129 0.0420871]\n"
     ]
    },
    {
     "data": {
      "image/png": "[encoded data removed]",
      "text/plain": [
       "<Figure size 432x288 with 1 Axes>"
      ]
     },
     "metadata": {
      "needs_background": "light"
     },
     "output_type": "display_data"
    }
   ],
   "source": [
    "%matplotlib inline\n",
    "import numpy as np\n",
    "import matplotlib.pyplot as plt\n",
    "\n",
    "中間層への重み = []\n",
    "出力層への重み = []\n",
    "誤差の記録用 = []\n",
    "\n",
    "入力の行列 = np.array([[0,0],[0,1],[1,0],[1,1]])  \n",
    "\n",
    "# 正解の行列 = np.array([[0,1],[0,1],[0,1],[1,0]])  #ANDの時の確率\n",
    "# 正解の行列 = np.array([[0,1],[1,0],[1,0],[1,0]])  #ORの時の確率\n",
    "# 正解の行列 = np.array([[1,0],[1,0],[1,0],[0,1]])  #NANDの時の確率\n",
    "正解の行列 = np.array([[1,0],[0,1],[0,1],[1,0]])  #XORの時の確率\n",
    "\n",
    "繰り返し数 = 5000\n",
    "学習率 = 0.2 # 勾配法の学習率\n",
    "\n",
    "def ネットワーク初期化(入力層ノード数, 中間層ノード数, 出力層ノード数):\n",
    "    global 中間層への重み,出力層への重み\n",
    "    np.random.seed(0) # 乱数の種\n",
    "    中間層への重み = np.random.rand(入力層ノード数+1,中間層ノード数) # 重みをランダムに決定\n",
    "    出力層への重み = np.random.rand(中間層ノード数+1,出力層ノード数)# 重みをランダムに決定\n",
    "\n",
    "def 損失関数(入力,正解):\n",
    "    出力 = 入力から出力までを計算(入力,中間層への重み,出力層への重み)\n",
    "    行列の要素数 = 出力.shape[0] # 行数x列数\n",
    "    return(np.sum(np.power(出力-正解,2))/行列の要素数) # 平均二乗誤差を返す\n",
    "\n",
    "def 数値微分(関数, 現在地):\n",
    "    微小な変化 = 0.01\n",
    "    勾配 = np.zeros_like(現在地) # まずゼロ埋め\n",
    "    繰り返し = np.nditer(現在地, flags=['multi_index']) # 行列の全要素にアクセス\n",
    "    while not 繰り返し.finished: # アクセス完了まで\n",
    "        i = 繰り返し.multi_index # インデックス番号を取得(0,0のように)\n",
    "        一時的な値 = 現在地[i]\n",
    "        現在地[i] = 一時的な値 + 微小な変化\n",
    "        微小に増やした時の関数の値 = 関数(現在地)               \n",
    "        現在地[i] = 一時的な値 - 微小な変化\n",
    "        微小に減らした時の関数の値 = 関数(現在地)        \n",
    "\n",
    "        勾配[i] = (微小に増やした時の関数の値-微小に減らした時の関数の値)/(2*微小な変化) # 傾き\n",
    "        現在地[i] = 一時的な値 # 増減させる前に戻す\n",
    "        繰り返し.iternext()   # 次の繰り返しへ\n",
    "    return 勾配\n",
    " \n",
    "def シグモイド関数(x): # 中間層での活性化関数\n",
    "    return 1/(1+np.exp(-x))    \n",
    " \n",
    "def ソフトマックス関数(x): # 出力層からの出力を確率に変換する時に使う\n",
    "    exp_x = np.exp(x)\n",
    "    return exp_x / np.sum(np.exp(x), axis=1, keepdims=True)\n",
    "\n",
    "def 入力から出力までを計算(x,中間層への重み,出力層への重み): \n",
    "    入力層の値 = np.insert(x,0,1,axis=1) # バイアスニューロンを加え、入力層の各ノードの値とする\n",
    "    中間層の仮の値 = np.dot(入力層の値,中間層への重み) # 重みを掛けて合計\n",
    "    中間層の値 = シグモイド関数(中間層の仮の値) # 活性化関数を適用し中間層の各ノードの値とする\n",
    "    中間層の値 = np.insert(中間層の値,0,1,axis=1) # バイアスニューロンも加え、中間層の各ノードの値とする\n",
    "    出力層の仮の値 = np.dot(中間層の値,出力層への重み) # 重みを掛けて合計\n",
    "    出力層の値 = ソフトマックス関数(出力層の仮の値) # 出力は確率とする\n",
    "    return 出力層の値\n",
    "\n",
    "############### これよりメインの処理 ###############\n",
    "\n",
    "ネットワーク初期化(入力層ノード数=2, 中間層ノード数=10, 出力層ノード数=2)\n",
    "\n",
    "print(\"初期状態の「中間層への」重み\\n\",中間層への重み)\n",
    "print(\"初期状態の「出力層への」重み\\n\",出力層への重み)\n",
    " \n",
    "print(\"学習する前のネットワークの出力\")\n",
    "学習する前の出力 = 入力から出力までを計算(入力の行列,中間層への重み,出力層への重み)\n",
    "入力の行列の行数 = 入力の行列.shape[0]\n",
    "\n",
    "for i in range(入力の行列の行数):\n",
    "    print(入力の行列[i],学習する前の出力[i])\n",
    "\n",
    "############### 学習開始 ###############\n",
    "    \n",
    "for i in range(繰り返し数):\n",
    "    無名の損失関数 = lambda 重み: 損失関数(入力の行列,正解の行列)    \n",
    "\n",
    "    中間層への重みの勾配=数値微分(無名の損失関数,中間層への重み)\n",
    "    出力層への重みの勾配=数値微分(無名の損失関数,出力層への重み)\n",
    "    \n",
    "    中間層への重み -= 学習率 * 中間層への重みの勾配 # 重みを更新\n",
    "    出力層への重み -= 学習率 * 出力層への重みの勾配 # 重みを更新     \n",
    "    \n",
    "    損失関数の値=損失関数(入力の行列,正解の行列)\n",
    "    誤差の記録用.append(損失関数の値)    \n",
    "    \n",
    "    if (((i+1) % 500) == 0):\n",
    "        print(\"-------------\")\n",
    "        print(\"i=\",i+1,損失関数の値)\n",
    "\n",
    "############### 学習終了 ###############\n",
    "\n",
    "print(\"-------------\") \n",
    "print(\"学習後のネットワークの出力\")\n",
    "学習後の出力 = 入力から出力までを計算(入力の行列,中間層への重み,出力層への重み)\n",
    "\n",
    "for i in range(入力の行列の行数):\n",
    "    print(入力の行列[i],学習後の出力[i])\n",
    "\n",
    "################ 誤差が減っていく過程を図示 ################\n",
    "x = np.arange(0,繰り返し数,1)\n",
    "plt.plot(x,誤差の記録用)\n",
    "plt.show()       "
   ]
  },
  {
   "cell_type": "markdown",
   "metadata": {},
   "source": [
    "## 任意課題(1)\n",
    "\n",
    "上のプログラムでは AND の学習の経過と結果を出力しました。<br />\n",
    "この出力を見たうえで、OR、NAND、XOR も試してください。<br />\n",
    "XORについては「正解の行列」の変数を自力で作ってください。"
   ]
  },
  {
   "cell_type": "markdown",
   "metadata": {},
   "source": [
    "## 任意課題(2)\n",
    "\n",
    "誤差関数の値が下がっていく様子を図示してください。<br />\n",
    "ANDでもORでもNANDでもXORでも、どれを選んでも構いません。\n"
   ]
  },
  {
   "cell_type": "markdown",
   "metadata": {},
   "source": [
    "## 任意課題(3)\n",
    "\n",
    "XOR の学習に関して、中間層のノード数が「2の場合」と「10の場合」を試してみましょう。<br />\n",
    "誤差関数のグラフの出力結果は「2の場合」と「10の場合」で、何か違いが見られるでしょうか?\n"
   ]
  },
  {
   "cell_type": "markdown",
   "metadata": {},
   "source": [
    "ここまでで、第7回第4章は終了です。お疲れさまでした。 "
   ]
  },
  {
   "cell_type": "markdown",
   "metadata": {},
   "source": []
  }
 ],
 "metadata": {
  "kernelspec": {
   "display_name": "Python 3",
   "language": "python",
   "name": "python3"
  },
  "language_info": {
   "codemirror_mode": {
    "name": "ipython",
    "version": 3
   },
   "file_extension": ".py",
   "mimetype": "text/x-python",
   "name": "python",
   "nbconvert_exporter": "python",
   "pygments_lexer": "ipython3",
   "version": "3.5.4"
  }
 },
 "nbformat": 4,
 "nbformat_minor": 2
}
