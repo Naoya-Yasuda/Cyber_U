{
 "cells": [
  {
   "cell_type": "markdown",
   "metadata": {},
   "source": [
    "# 第1回演習「発展的なプログラムを書いてみる」"
   ]
  },
  {
   "cell_type": "markdown",
   "metadata": {},
   "source": [
    "この演習では制御構造の知識を生かして、Pythonで探索と並べ替えのプログラムを記述します。<hr />"
   ]
  },
  {
   "cell_type": "markdown",
   "metadata": {},
   "source": [
    "## 【1-14】バイナリサーチ\n",
    "<img src=\"https://pfe.p.cyber-u.ac.jp/img/Python/Week1/1-14.png\" style=\"margin:30px;float: left;width:600px;\">\n",
    "<div style=\"clear: both;\"></div>\n",
    "上の画像を見ながらバイナリサーチ(二分探索)のプログラムを完成させましょう。<br />\n",
    "下のプログラム中に「ここが不完全なので補ってください!!!!」が3か所あります。<br />\n",
    "その全てを修正し、上の画像と同じになるようにしてください。<br />\n",
    "修正がうまくいけば、実行時に \"7\" と 「ありません」が出力されます。"
   ]
  },
  {
   "cell_type": "code",
   "execution_count": 2,
   "metadata": {},
   "outputs": [
    {
     "name": "stdout",
     "output_type": "stream",
     "text": [
      "7\n",
      "ありません\n"
     ]
    }
   ],
   "source": [
    "def バイナリサーチ(リスト, 探す値):\n",
    "    最小の位置 = 0                      # 調べる範囲の最小の位置\n",
    "    最大の位置 = len(リスト)-1           # リストの項目数が9なら「最大の位置」は8\n",
    "    while 最小の位置 <= 最大の位置:      # 最小の位置が「最大の位置」以下である間\n",
    "        真ん中の位置 = (最小の位置 + 最大の位置) // 2 # // で整数の商を得る\n",
    "        候補 = リスト[真ん中の位置]       # 真ん中の位置にあるデータ\n",
    "        if 候補 == 探す値:              # 当たりだったら\n",
    "            # ここが不完全なので補ってください!!!! # 値を返す\n",
    "            return 真ん中の位置\n",
    "        elif 候補 > 探す値:             # 探す値よりも候補が大きすぎた\n",
    "            # ここが不完全なので補ってください!!!! # 次は下半分を探すことにする\n",
    "            if 最小の位置 == 最大の位置:\n",
    "              break\n",
    "            最大の位置 =  真ん中の位置 // 2\n",
    "        else:                        # 探す値よりも候補が小さすぎた\n",
    "            # ここが不完全なので補ってください!!!! # 次は上半分を探すことにする\n",
    "            最小の位置 = 最小の位置 + (最大の位置 - 真ん中の位置) // 2\n",
    "    return 'ありません'                # 見つからなかった orz\n",
    "\n",
    "リスト = [12,21,31,46,53,69,74,88,92]         \n",
    "\n",
    "print(バイナリサーチ(リスト,88)) # 7が出力されるはず\n",
    "print(バイナリサーチ(リスト,-5)) # 「ありません」が出力されるはず"
   ]
  },
  {
   "cell_type": "markdown",
   "metadata": {},
   "source": [
    "<img src=\"https://pfe.p.cyber-u.ac.jp/img/Python/Week1/1-14-2.png\" style=\"margin:30px;float: left;width:240px;\">\n",
    "<div style=\"clear: both;\"></div>"
   ]
  },
  {
   "cell_type": "markdown",
   "metadata": {},
   "source": [
    "## 【1-15】バブルソート\n",
    "<img src=\"https://pfe.p.cyber-u.ac.jp/img/Python/Week1/1-15.png\" style=\"margin:30px;float: left;width:550px;\">\n",
    "<div style=\"clear: both;\"></div>\n",
    "上の画像を見ながらバブルソート(泡立ち法)のプログラムを完成させましょう。<br />\n",
    "1-14 のバイナリサーチとは違い、今度はプログラムを全て入力しないといけません。<br />\n",
    "うまくいけば、実行結果は [12, 21, 31, 46, 53, 69, 74, 88, 92] になります。"
   ]
  },
  {
   "cell_type": "code",
   "execution_count": 3,
   "metadata": {
    "scrolled": false
   },
   "outputs": [
    {
     "name": "stdout",
     "output_type": "stream",
     "text": [
      "[12, 21, 31, 46, 53, 69, 74, 88, 92]\n"
     ]
    }
   ],
   "source": [
    "# ↓ここにバブルソートの全てのプログラムを書き、Shift + Enter で実行します。\n",
    "def バブルソート(リスト):\n",
    "    for i in range(len(リスト)):\n",
    "        for j in range(len(リスト)-1,i,-1):\n",
    "            if リスト[j] < リスト[j-1]:\n",
    "                一時的な値 = リスト[j]\n",
    "                リスト[j] = リスト[j-1]\n",
    "                リスト[j-1] = 一時的な値\n",
    "    return リスト\n",
    "\n",
    "print(バブルソート([31,53,69,12,74,88,46,92,21]))"
   ]
  },
  {
   "cell_type": "markdown",
   "metadata": {},
   "source": [
    "<img src=\"https://pfe.p.cyber-u.ac.jp/img/Python/Week1/1-16.png\" style=\"margin:30px;float: left;width:240px;\">\n",
    "<div style=\"clear: both;\"></div>"
   ]
  },
  {
   "cell_type": "markdown",
   "metadata": {},
   "source": [
    "ここまでで、第1回第4章は終了です。お疲れさまでした。"
   ]
  }
 ],
 "metadata": {
  "kernelspec": {
   "display_name": "Python 3",
   "language": "python",
   "name": "python3"
  },
  "language_info": {
   "codemirror_mode": {
    "name": "ipython",
    "version": 3
   },
   "file_extension": ".py",
   "mimetype": "text/x-python",
   "name": "python",
   "nbconvert_exporter": "python",
   "pygments_lexer": "ipython3",
   "version": "3.5.4"
  }
 },
 "nbformat": 4,
 "nbformat_minor": 2
}
