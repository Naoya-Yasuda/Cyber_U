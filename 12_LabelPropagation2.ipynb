{
 "cells": [
  {
   "cell_type": "markdown",
   "metadata": {},
   "source": [
    "# 第12回演習「ラベル伝播法」その2"
   ]
  },
  {
   "cell_type": "markdown",
   "metadata": {},
   "source": [
    "この演習では、ラベル無しデータの割合に対するラベル伝播法の結果の違いを見ていきます。<br />\n",
    "グレイの背景のプログラムは上から順に、1つずつ実行していきましょう。<br />\n",
    "<hr />"
   ]
  },
  {
   "cell_type": "markdown",
   "metadata": {},
   "source": [
    "## 15) まずここを実行しましょう"
   ]
  },
  {
   "cell_type": "code",
   "execution_count": 3,
   "metadata": {
    "scrolled": true
   },
   "outputs": [
    {
     "name": "stdout",
     "output_type": "stream",
     "text": [
      "[0 0 0 0 0 0 0 0 0 0 0 0 0 0 0 0 0 0 0 0 0 0 0 0 0 0 0 0 0 0 0 0 0 0 0 0 0\n",
      " 0 0 0 0 0 0 0 0 0 0 0 0 0 2 2 2 1 2 1 2 2 2 2 2 1 1 1 1 2 1 1 1 1 1 1 1 1\n",
      " 2 2 2 2 1 1 1 1 1 1 1 2 2 1 1 1 1 2 1 2 1 1 1 2 2 1 2 1 2 2 2 2 2 2 2 2 2\n",
      " 2 2 1 1 2 2 2 2 1 2 1 2 2 2 2 2 2 2 2 2 2 2 2 1 2 2 2 1 2 2 2 1 2 2 2 1 2\n",
      " 2 1]\n"
     ]
    },
    {
     "data": {
      "image/png": "[encoded data removed]",
      "text/plain": [
       "<Figure size 432x288 with 1 Axes>"
      ]
     },
     "metadata": {
      "needs_background": "light"
     },
     "output_type": "display_data"
    },
    {
     "data": {
      "image/png": "[encoded data removed]",
      "text/plain": [
       "<Figure size 432x288 with 1 Axes>"
      ]
     },
     "metadata": {
      "needs_background": "light"
     },
     "output_type": "display_data"
    },
    {
     "data": {
      "image/png": "[encoded data removed]",
      "text/plain": [
       "<Figure size 432x288 with 1 Axes>"
      ]
     },
     "metadata": {
      "needs_background": "light"
     },
     "output_type": "display_data"
    }
   ],
   "source": [
    "import seaborn as sns\n",
    "アヤメのデータ = sns.load_dataset(\"iris\")\n",
    "説明変数X=アヤメのデータ.values[:,[0,1,2,3]]\n",
    "説明変数X=説明変数X[:,:2] # sepal_lengthとsepal_widthを取り出す\n",
    "\n",
    "y=アヤメのデータ.values[:,4]\n",
    "y = [s.replace('setosa', '0') for s in y] # setosa を 0 に\n",
    "y = [s.replace('versicolor', '1') for s in y] # versicolor を 1 に\n",
    "y = [s.replace('virginica', '2') for s in y] # virginica を 2 に\n",
    "y = [int(n) for n in y] # 文字を数値に\n",
    "\n",
    "import numpy as np\n",
    "目的変数y = np.array(y) # NumPyの配列に\n",
    "\n",
    "import matplotlib.pyplot as plt\n",
    "plt.figure()\n",
    "plt.scatter(説明変数X[目的変数y==0,0],説明変数X[目的変数y==0,1],c = 'red')\n",
    "plt.scatter(説明変数X[目的変数y==1,0],説明変数X[目的変数y==1,1],c = 'blue')\n",
    "plt.scatter(説明変数X[目的変数y==2,0],説明変数X[目的変数y==2,1],c = 'yellow')\n",
    "plt.scatter(説明変数X[目的変数y==-1,0],説明変数X[目的変数y==-1,1],c = 'black')\n",
    "\n",
    "範囲の下限=0\n",
    "範囲の上限=目的変数y.size\n",
    "ランダムにする割合=0.7\n",
    "ランダムにする個数=int((目的変数y.size)*ランダムにする割合)\n",
    "ラベル無しのインデックス=np.random.choice(range(範囲の下限,範囲の上限),\n",
    "                              ランダムにする個数,replace=False)\n",
    "ラベル配列=np.copy(目的変数y)\n",
    "ラベル配列[ラベル無しのインデックス] = -1\n",
    "\n",
    "plt.figure()\n",
    "plt.scatter(説明変数X[ラベル配列==0,0],説明変数X[ラベル配列==0,1],c = 'red')\n",
    "plt.scatter(説明変数X[ラベル配列==1,0],説明変数X[ラベル配列==1,1],c = 'blue')\n",
    "plt.scatter(説明変数X[ラベル配列==2,0],説明変数X[ラベル配列==2,1],c = 'yellow')\n",
    "plt.scatter(説明変数X[ラベル配列==-1,0],説明変数X[ラベル配列==-1,1],c = 'black')\n",
    "\n",
    "from sklearn.semi_supervised import LabelPropagation\n",
    "ラベル伝播=LabelPropagation(max_iter=10000) # 最大繰り返し数\n",
    "ラベル伝播.fit(説明変数X,ラベル配列) # 学習\n",
    "予測されたy=ラベル伝播.predict(説明変数X)\n",
    "print(予測されたy)\n",
    "\n",
    "plt.figure()\n",
    "plt.scatter(説明変数X[予測されたy==0,0],説明変数X[予測されたy==0,1],c = 'red')\n",
    "plt.scatter(説明変数X[予測されたy==1,0],説明変数X[予測されたy==1,1],c = 'blue')\n",
    "plt.scatter(説明変数X[予測されたy==2,0],説明変数X[予測されたy==2,1],c = 'yellow')\n",
    "plt.scatter(説明変数X[予測されたy==-1,0],説明変数X[予測されたy==-1,1],c = 'black')\n",
    "plt.show()"
   ]
  },
  {
   "cell_type": "markdown",
   "metadata": {},
   "source": [
    "## 16) 正解率を表示"
   ]
  },
  {
   "cell_type": "code",
   "execution_count": 2,
   "metadata": {},
   "outputs": [
    {
     "name": "stdout",
     "output_type": "stream",
     "text": [
      "0.7523809523809524\n"
     ]
    }
   ],
   "source": [
    "# ラベル無し部分だけ見て比較し、スコアを出す\n",
    "print(ラベル伝播.score(説明変数X[ラベル無しのインデックス],目的変数y[ラベル無しのインデックス]))"
   ]
  },
  {
   "cell_type": "markdown",
   "metadata": {},
   "source": [
    "## 17) 説明変数を4次元に戻す"
   ]
  },
  {
   "cell_type": "code",
   "execution_count": 4,
   "metadata": {},
   "outputs": [
    {
     "name": "stdout",
     "output_type": "stream",
     "text": [
      "[[5.1 3.5 1.4 0.2]\n",
      " [4.9 3.0 1.4 0.2]\n",
      " [4.7 3.2 1.3 0.2]\n",
      " [4.6 3.1 1.5 0.2]\n",
      " [5.0 3.6 1.4 0.2]\n",
      " [5.4 3.9 1.7 0.4]\n",
      " [4.6 3.4 1.4 0.3]\n",
      " [5.0 3.4 1.5 0.2]\n",
      " [4.4 2.9 1.4 0.2]\n",
      " [4.9 3.1 1.5 0.1]\n",
      " [5.4 3.7 1.5 0.2]\n",
      " [4.8 3.4 1.6 0.2]\n",
      " [4.8 3.0 1.4 0.1]\n",
      " [4.3 3.0 1.1 0.1]\n",
      " [5.8 4.0 1.2 0.2]\n",
      " [5.7 4.4 1.5 0.4]\n",
      " [5.4 3.9 1.3 0.4]\n",
      " [5.1 3.5 1.4 0.3]\n",
      " [5.7 3.8 1.7 0.3]\n",
      " [5.1 3.8 1.5 0.3]\n",
      " [5.4 3.4 1.7 0.2]\n",
      " [5.1 3.7 1.5 0.4]\n",
      " [4.6 3.6 1.0 0.2]\n",
      " [5.1 3.3 1.7 0.5]\n",
      " [4.8 3.4 1.9 0.2]\n",
      " [5.0 3.0 1.6 0.2]\n",
      " [5.0 3.4 1.6 0.4]\n",
      " [5.2 3.5 1.5 0.2]\n",
      " [5.2 3.4 1.4 0.2]\n",
      " [4.7 3.2 1.6 0.2]\n",
      " [4.8 3.1 1.6 0.2]\n",
      " [5.4 3.4 1.5 0.4]\n",
      " [5.2 4.1 1.5 0.1]\n",
      " [5.5 4.2 1.4 0.2]\n",
      " [4.9 3.1 1.5 0.2]\n",
      " [5.0 3.2 1.2 0.2]\n",
      " [5.5 3.5 1.3 0.2]\n",
      " [4.9 3.6 1.4 0.1]\n",
      " [4.4 3.0 1.3 0.2]\n",
      " [5.1 3.4 1.5 0.2]\n",
      " [5.0 3.5 1.3 0.3]\n",
      " [4.5 2.3 1.3 0.3]\n",
      " [4.4 3.2 1.3 0.2]\n",
      " [5.0 3.5 1.6 0.6]\n",
      " [5.1 3.8 1.9 0.4]\n",
      " [4.8 3.0 1.4 0.3]\n",
      " [5.1 3.8 1.6 0.2]\n",
      " [4.6 3.2 1.4 0.2]\n",
      " [5.3 3.7 1.5 0.2]\n",
      " [5.0 3.3 1.4 0.2]\n",
      " [7.0 3.2 4.7 1.4]\n",
      " [6.4 3.2 4.5 1.5]\n",
      " [6.9 3.1 4.9 1.5]\n",
      " [5.5 2.3 4.0 1.3]\n",
      " [6.5 2.8 4.6 1.5]\n",
      " [5.7 2.8 4.5 1.3]\n",
      " [6.3 3.3 4.7 1.6]\n",
      " [4.9 2.4 3.3 1.0]\n",
      " [6.6 2.9 4.6 1.3]\n",
      " [5.2 2.7 3.9 1.4]\n",
      " [5.0 2.0 3.5 1.0]\n",
      " [5.9 3.0 4.2 1.5]\n",
      " [6.0 2.2 4.0 1.0]\n",
      " [6.1 2.9 4.7 1.4]\n",
      " [5.6 2.9 3.6 1.3]\n",
      " [6.7 3.1 4.4 1.4]\n",
      " [5.6 3.0 4.5 1.5]\n",
      " [5.8 2.7 4.1 1.0]\n",
      " [6.2 2.2 4.5 1.5]\n",
      " [5.6 2.5 3.9 1.1]\n",
      " [5.9 3.2 4.8 1.8]\n",
      " [6.1 2.8 4.0 1.3]\n",
      " [6.3 2.5 4.9 1.5]\n",
      " [6.1 2.8 4.7 1.2]\n",
      " [6.4 2.9 4.3 1.3]\n",
      " [6.6 3.0 4.4 1.4]\n",
      " [6.8 2.8 4.8 1.4]\n",
      " [6.7 3.0 5.0 1.7]\n",
      " [6.0 2.9 4.5 1.5]\n",
      " [5.7 2.6 3.5 1.0]\n",
      " [5.5 2.4 3.8 1.1]\n",
      " [5.5 2.4 3.7 1.0]\n",
      " [5.8 2.7 3.9 1.2]\n",
      " [6.0 2.7 5.1 1.6]\n",
      " [5.4 3.0 4.5 1.5]\n",
      " [6.0 3.4 4.5 1.6]\n",
      " [6.7 3.1 4.7 1.5]\n",
      " [6.3 2.3 4.4 1.3]\n",
      " [5.6 3.0 4.1 1.3]\n",
      " [5.5 2.5 4.0 1.3]\n",
      " [5.5 2.6 4.4 1.2]\n",
      " [6.1 3.0 4.6 1.4]\n",
      " [5.8 2.6 4.0 1.2]\n",
      " [5.0 2.3 3.3 1.0]\n",
      " [5.6 2.7 4.2 1.3]\n",
      " [5.7 3.0 4.2 1.2]\n",
      " [5.7 2.9 4.2 1.3]\n",
      " [6.2 2.9 4.3 1.3]\n",
      " [5.1 2.5 3.0 1.1]\n",
      " [5.7 2.8 4.1 1.3]\n",
      " [6.3 3.3 6.0 2.5]\n",
      " [5.8 2.7 5.1 1.9]\n",
      " [7.1 3.0 5.9 2.1]\n",
      " [6.3 2.9 5.6 1.8]\n",
      " [6.5 3.0 5.8 2.2]\n",
      " [7.6 3.0 6.6 2.1]\n",
      " [4.9 2.5 4.5 1.7]\n",
      " [7.3 2.9 6.3 1.8]\n",
      " [6.7 2.5 5.8 1.8]\n",
      " [7.2 3.6 6.1 2.5]\n",
      " [6.5 3.2 5.1 2.0]\n",
      " [6.4 2.7 5.3 1.9]\n",
      " [6.8 3.0 5.5 2.1]\n",
      " [5.7 2.5 5.0 2.0]\n",
      " [5.8 2.8 5.1 2.4]\n",
      " [6.4 3.2 5.3 2.3]\n",
      " [6.5 3.0 5.5 1.8]\n",
      " [7.7 3.8 6.7 2.2]\n",
      " [7.7 2.6 6.9 2.3]\n",
      " [6.0 2.2 5.0 1.5]\n",
      " [6.9 3.2 5.7 2.3]\n",
      " [5.6 2.8 4.9 2.0]\n",
      " [7.7 2.8 6.7 2.0]\n",
      " [6.3 2.7 4.9 1.8]\n",
      " [6.7 3.3 5.7 2.1]\n",
      " [7.2 3.2 6.0 1.8]\n",
      " [6.2 2.8 4.8 1.8]\n",
      " [6.1 3.0 4.9 1.8]\n",
      " [6.4 2.8 5.6 2.1]\n",
      " [7.2 3.0 5.8 1.6]\n",
      " [7.4 2.8 6.1 1.9]\n",
      " [7.9 3.8 6.4 2.0]\n",
      " [6.4 2.8 5.6 2.2]\n",
      " [6.3 2.8 5.1 1.5]\n",
      " [6.1 2.6 5.6 1.4]\n",
      " [7.7 3.0 6.1 2.3]\n",
      " [6.3 3.4 5.6 2.4]\n",
      " [6.4 3.1 5.5 1.8]\n",
      " [6.0 3.0 4.8 1.8]\n",
      " [6.9 3.1 5.4 2.1]\n",
      " [6.7 3.1 5.6 2.4]\n",
      " [6.9 3.1 5.1 2.3]\n",
      " [5.8 2.7 5.1 1.9]\n",
      " [6.8 3.2 5.9 2.3]\n",
      " [6.7 3.3 5.7 2.5]\n",
      " [6.7 3.0 5.2 2.3]\n",
      " [6.3 2.5 5.0 1.9]\n",
      " [6.5 3.0 5.2 2.0]\n",
      " [6.2 3.4 5.4 2.3]\n",
      " [5.9 3.0 5.1 1.8]]\n"
     ]
    }
   ],
   "source": [
    "# プログラム#15では 説明変数X=説明変数X[:,:2] として2列だけ取り出していたが、\n",
    "# 改めて元のデータから4列、読み直す\n",
    "説明変数X=アヤメのデータ.values[:,[0,1,2,3]]\n",
    "print(説明変数X)"
   ]
  },
  {
   "cell_type": "markdown",
   "metadata": {},
   "source": [
    "## 18) 4次元のデータで、ふたたびラベル伝播法を適用"
   ]
  },
  {
   "cell_type": "code",
   "execution_count": 5,
   "metadata": {},
   "outputs": [
    {
     "name": "stdout",
     "output_type": "stream",
     "text": [
      "[0 0 0 0 0 0 0 0 0 0 0 0 0 0 0 0 0 0 0 0 0 0 0 0 0 0 0 0 0 0 0 0 0 0 0 0 0\n",
      " 0 0 0 0 0 0 0 0 0 0 0 0 0 1 1 1 1 1 1 1 1 1 1 1 1 1 1 1 1 1 1 1 1 2 1 1 1\n",
      " 1 1 1 1 1 1 1 1 1 1 1 1 1 1 1 1 1 1 1 1 1 1 1 1 1 1 2 2 2 2 2 2 2 2 2 2 2\n",
      " 2 2 2 2 2 2 2 2 2 2 2 2 2 2 2 2 2 2 2 2 2 2 2 2 2 2 2 2 2 2 2 2 2 2 2 2 2\n",
      " 2 2]\n"
     ]
    },
    {
     "data": {
      "image/png": "[encoded data removed]",
      "text/plain": [
       "<Figure size 432x288 with 1 Axes>"
      ]
     },
     "metadata": {
      "needs_background": "light"
     },
     "output_type": "display_data"
    },
    {
     "name": "stdout",
     "output_type": "stream",
     "text": [
      "0.9904761904761905\n"
     ]
    }
   ],
   "source": [
    "# ランダムに「ラベル無し」にする処理は、やり直す\n",
    "範囲の下限=0\n",
    "範囲の上限=目的変数y.size\n",
    "ランダムにする割合=0.7\n",
    "ランダムにする個数=int((目的変数y.size)*ランダムにする割合)\n",
    "ラベル無しのインデックス=np.random.choice(range(範囲の下限,範囲の上限),\n",
    "                              ランダムにする個数,replace=False)\n",
    "ラベル配列=np.copy(目的変数y)\n",
    "ラベル配列[ラベル無しのインデックス] = -1\n",
    "\n",
    "ラベル伝播=LabelPropagation(max_iter=10000) # 最大繰り返し数\n",
    "ラベル伝播.fit(説明変数X,ラベル配列) # 4次元の説明変数を使って学習\n",
    "予測されたy=ラベル伝播.predict(説明変数X)\n",
    "print(予測されたy)\n",
    "\n",
    "plt.figure()\n",
    "plt.scatter(説明変数X[予測されたy==0,0],説明変数X[予測されたy==0,1],c = 'red')\n",
    "plt.scatter(説明変数X[予測されたy==1,0],説明変数X[予測されたy==1,1],c = 'blue')\n",
    "plt.scatter(説明変数X[予測されたy==2,0],説明変数X[予測されたy==2,1],c = 'yellow')\n",
    "plt.scatter(説明変数X[予測されたy==-1,0],説明変数X[予測されたy==-1,1],c = 'black')\n",
    "plt.show()\n",
    "\n",
    "print(ラベル伝播.score(説明変数X[ラベル無しのインデックス],目的変数y[ラベル無しのインデックス]))"
   ]
  },
  {
   "cell_type": "markdown",
   "metadata": {},
   "source": [
    "## 19) 「ラベル無し」の割合を変化させてみる"
   ]
  },
  {
   "cell_type": "code",
   "execution_count": 8,
   "metadata": {
    "scrolled": false
   },
   "outputs": [
    {
     "name": "stdout",
     "output_type": "stream",
     "text": [
      "[0 0 0 0 0 0 0 0 0 0 0 0 0 0 0 0 0 0 0 0 0 0 0 0 0 0 0 0 0 0 0 0 0 0 0 0 0\n",
      " 0 0 0 0 0 0 0 0 0 0 0 0 0 1 1 1 1 1 1 1 1 1 1 1 1 1 1 1 1 1 1 1 1 1 1 1 1\n",
      " 1 1 1 1 1 1 1 1 1 1 1 1 1 1 1 1 1 1 1 1 1 1 1 1 1 1 2 1 2 2 2 2 1 2 2 2 2\n",
      " 2 2 1 1 2 2 2 2 1 2 1 2 1 2 2 1 1 2 2 2 2 2 1 2 2 2 2 1 2 2 2 1 2 2 2 1 2\n",
      " 2 1]\n"
     ]
    },
    {
     "data": {
      "image/png": "[encoded data removed]",
      "text/plain": [
       "<Figure size 432x288 with 1 Axes>"
      ]
     },
     "metadata": {
      "needs_background": "light"
     },
     "output_type": "display_data"
    },
    {
     "name": "stdout",
     "output_type": "stream",
     "text": [
      "0.9014084507042254\n"
     ]
    }
   ],
   "source": [
    "# 変数「ランダムにする割合」の値が変わっていることに注意\n",
    "範囲の下限=0\n",
    "範囲の上限=目的変数y.size\n",
    "ランダムにする割合=0.95 ######### ← ここが変わっています!\n",
    "ランダムにする個数=int((目的変数y.size)*ランダムにする割合)\n",
    "ラベル無しのインデックス=np.random.choice(range(範囲の下限,範囲の上限),\n",
    "                              ランダムにする個数,replace=False)\n",
    "ラベル配列=np.copy(目的変数y)\n",
    "ラベル配列[ラベル無しのインデックス] = -1\n",
    "\n",
    "ラベル伝播=LabelPropagation(max_iter=10000) # 最大繰り返し数\n",
    "ラベル伝播.fit(説明変数X,ラベル配列) # 4次元の説明変数を使って学習\n",
    "予測されたy=ラベル伝播.predict(説明変数X)\n",
    "print(予測されたy)\n",
    "\n",
    "plt.figure()\n",
    "plt.scatter(説明変数X[予測されたy==0,0],説明変数X[予測されたy==0,1],c = 'red')\n",
    "plt.scatter(説明変数X[予測されたy==1,0],説明変数X[予測されたy==1,1],c = 'blue')\n",
    "plt.scatter(説明変数X[予測されたy==2,0],説明変数X[予測されたy==2,1],c = 'yellow')\n",
    "plt.scatter(説明変数X[予測されたy==-1,0],説明変数X[予測されたy==-1,1],c = 'black')\n",
    "plt.show()\n",
    "\n",
    "print(ラベル伝播.score(説明変数X[ラベル無しのインデックス],目的変数y[ラベル無しのインデックス]))"
   ]
  },
  {
   "cell_type": "markdown",
   "metadata": {},
   "source": [
    "## 小出しの任意課題4) \n",
    "<span style=\"background-color:#FFFF99\">\n",
    "「ランダムにする割合」の割合を0.9 以外の好きな値に変え、何度も実行してみましょう。<br />どの程度割合を上げると、満足のいくスコアを得られにくくなるでしょうか?\n",
    "</span><hr />"
   ]
  },
  {
   "cell_type": "code",
   "execution_count": null,
   "metadata": {},
   "outputs": [],
   "source": []
  },
  {
   "cell_type": "markdown",
   "metadata": {},
   "source": [
    "## 20) 「ラベル付き」の割合を次々に変化させる練習"
   ]
  },
  {
   "cell_type": "code",
   "execution_count": 9,
   "metadata": {
    "scrolled": true
   },
   "outputs": [
    {
     "name": "stdout",
     "output_type": "stream",
     "text": [
      "[0.05 0.1  0.15 0.2  0.25 0.3  0.35 0.4 ]\n"
     ]
    }
   ],
   "source": [
    "割合の下限 = 0.05\n",
    "割合の上限 = 0.45\n",
    "刻み = 0.05\n",
    "ラベル付き割合の配列 = np.arange(割合の下限,割合の上限,刻み)\n",
    "print(ラベル付き割合の配列)"
   ]
  },
  {
   "cell_type": "markdown",
   "metadata": {},
   "source": [
    "## 21) 「ラベル付き」の割合を次々に変化させながら、ラベル伝播法の結果を見る\n",
    "注) 全て出力されるまで、十数秒かかります"
   ]
  },
  {
   "cell_type": "code",
   "execution_count": 17,
   "metadata": {
    "scrolled": false
   },
   "outputs": [
    {
     "name": "stdout",
     "output_type": "stream",
     "text": [
      "ラベル付の割合: 0.05, 平均正解率: 0.840352\n",
      "ラベル付の割合: 0.10, 平均正解率: 0.904889\n",
      "ラベル付の割合: 0.15, 平均正解率: 0.942047\n",
      "ラベル付の割合: 0.20, 平均正解率: 0.952250\n",
      "ラベル付の割合: 0.25, 平均正解率: 0.949821\n",
      "ラベル付の割合: 0.30, 平均正解率: 0.958571\n",
      "ラベル付の割合: 0.35, 平均正解率: 0.958454\n",
      "ラベル付の割合: 0.40, 平均正解率: 0.960667\n"
     ]
    }
   ],
   "source": [
    "def ラベル無しのインデックスを作る(ラベル付きにしたい割合):\n",
    "    範囲の下限=0\n",
    "    範囲の上限=目的変数y.size\n",
    "    ランダムにする割合=1-ラベル付きにしたい割合 \n",
    "    ランダムにする個数=int((目的変数y.size)*ランダムにする割合)\n",
    "    ラベル無しのインデックス=np.random.choice(range(範囲の下限,範囲の上限),\n",
    "                                  ランダムにする個数,replace=False)\n",
    "    return ラベル無しのインデックス\n",
    "\n",
    "全体サイズ=目的変数y.size\n",
    "試行回数=100\n",
    "正解率 = []\n",
    "for ラベル付き割合 in ラベル付き割合の配列:\n",
    "    正解率合計=0\n",
    "    for i in range(試行回数):\n",
    "        ラベル無しのインデックス=ラベル無しのインデックスを作る(ラベル付き割合)\n",
    "        ラベル配列=np.copy(目的変数y)\n",
    "        ラベル配列[ラベル無しのインデックス]= -1\n",
    "        ラベル伝播.fit(説明変数X,ラベル配列)\n",
    "        正解率合計 += ラベル伝播.score(説明変数X[ラベル無しのインデックス],\n",
    "                             目的変数y[ラベル無しのインデックス])    \n",
    "    print(\"ラベル付の割合:\",'{:.2f}'.format(ラベル付き割合),end=\"\")\n",
    "    print(\", 平均正解率:\",'{:.6f}'.format(正解率合計/試行回数))\n",
    "    正解率.append(正解率合計/試行回数)"
   ]
  },
  {
   "cell_type": "markdown",
   "metadata": {},
   "source": [
    "## 小出しの任意課題5) \n",
    "<span style=\"background-color:#FFFF99\">\n",
    "「ラベル付きの割合が変わることによる、平均正解率の変化」を matplotlib で図にしましょう。<br />\n",
    "折れ線グラフでも棒グラフでもその他でも、構いません。</span><hr />"
   ]
  },
  {
   "cell_type": "code",
   "execution_count": 19,
   "metadata": {},
   "outputs": [
    {
     "data": {
      "image/png": "[encoded data removed]",
      "text/plain": [
       "<Figure size 432x288 with 1 Axes>"
      ]
     },
     "metadata": {
      "needs_background": "light"
     },
     "output_type": "display_data"
    }
   ],
   "source": [
    "plt.plot(ラベル付き割合の配列,正解率,c = 'red')\n",
    "plt.show()"
   ]
  },
  {
   "cell_type": "markdown",
   "metadata": {},
   "source": [
    "## 小出しの任意課題6) \n",
    "<span style=\"background-color:#FFFF99\">\n",
    "半教師あり学習にも様々な手法があります。<br />\n",
    "ラベル伝播法 (Label Propagation) とよく似た手法としてラベル拡散法 (Label Spreading)という<br />\n",
    "ものがあります。両者の違いは\n",
    "    <ul>\n",
    "        <li>ラベル伝播法では、元のラベルは書き変わらない</li>\n",
    "        <li>ラベル拡散法では、元のラベルも書き変わりうる</li>\n",
    "    </ul>\n",
    "です。ここで、疑い深いジャ子さんのために<br />\n",
    "    「ラベル伝播法で、元のラベルが本当に書き変わっていないか」<br />\n",
    "    を確かめるプログラムを書いてみましょう。\n",
    "    </span><hr />"
   ]
  },
  {
   "cell_type": "code",
   "execution_count": 32,
   "metadata": {},
   "outputs": [
    {
     "data": {
      "text/plain": [
       "array([0, 0, 0, 0, 0, 0, 0, 0, 0, 0, 0, 0, 0, 0, 0, 0, 0, 0, 1, 1, 1, 1,\n",
       "       1, 1, 1, 1, 1, 1, 1, 1, 1, 1, 1, 1, 1, 1, 1, 1, 1, 2, 2, 2, 2, 2,\n",
       "       2, 2, 2, 2, 2, 2, 2, 2, 2, 2, 2, 2, 2, 2, 2, 2])"
      ]
     },
     "metadata": {},
     "output_type": "display_data"
    },
    {
     "data": {
      "text/plain": [
       "array([0, 0, 0, 0, 0, 0, 0, 0, 0, 0, 0, 0, 0, 0, 0, 0, 0, 0, 1, 1, 1, 1,\n",
       "       1, 1, 1, 1, 1, 1, 1, 1, 1, 1, 1, 1, 1, 1, 1, 1, 1, 2, 2, 2, 2, 2,\n",
       "       2, 2, 2, 2, 2, 2, 2, 2, 2, 2, 2, 2, 2, 2, 2, 2])"
      ]
     },
     "metadata": {},
     "output_type": "display_data"
    },
    {
     "name": "stdout",
     "output_type": "stream",
     "text": [
      "[ True  True  True  True  True  True  True  True  True  True  True  True\n",
      "  True  True  True  True  True  True  True  True  True  True  True  True\n",
      "  True  True  True  True  True  True  True  True  True  True  True  True\n",
      "  True  True  True  True  True  True  True  True  True  True  True  True\n",
      "  True  True  True  True  True  True  True  True  True  True  True  True]\n",
      "True\n"
     ]
    }
   ],
   "source": [
    "# print(目的変数y.shape)\n",
    "all_index = np.arange(150)\n",
    "non_existing_index = np.setdiff1d(all_index, ラベル無しのインデックス)\n",
    "# print(ラベル無しのインデックス,non_existing_index)\n",
    "display(目的変数y[non_existing_index])\n",
    "display(ラベル配列[non_existing_index])\n",
    "print(目的変数y[non_existing_index] == ラベル配列[non_existing_index])\n",
    "# numpy配列が完全に一致するか確認\n",
    "print(np.array_equal(目的変数y[non_existing_index],ラベル配列[non_existing_index]))"
   ]
  },
  {
   "cell_type": "markdown",
   "metadata": {},
   "source": [
    "第12回第4章の演習はここまでです。お疲れさまでした。"
   ]
  }
 ],
 "metadata": {
  "kernelspec": {
   "display_name": "Python 3",
   "language": "python",
   "name": "python3"
  },
  "language_info": {
   "codemirror_mode": {
    "name": "ipython",
    "version": 3
   },
   "file_extension": ".py",
   "mimetype": "text/x-python",
   "name": "python",
   "nbconvert_exporter": "python",
   "pygments_lexer": "ipython3",
   "version": "3.5.4"
  }
 },
 "nbformat": 4,
 "nbformat_minor": 2
}
