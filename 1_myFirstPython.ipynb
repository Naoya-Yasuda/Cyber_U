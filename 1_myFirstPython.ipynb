{
 "cells": [
  {
   "cell_type": "markdown",
   "metadata": {},
   "source": [
    "# 第1回演習「Python プログラムの記述」"
   ]
  },
  {
   "cell_type": "markdown",
   "metadata": {},
   "source": [
    "この演習ではPythonによる制御構造とオブジェクト指向の基本を習得します。<hr />\n"
   ]
  },
  {
   "cell_type": "markdown",
   "metadata": {},
   "source": [
    "## 【1-1】こんにちは世界\n",
    "<img src=\"https://pfe.p.cyber-u.ac.jp/img/Python/Week1/1-1.png\" style=\"margin:30px;float: left;width:300px;\">\n",
    "<div style=\"clear: both;\"></div>\n",
    "上の画像を見ながら \"Hello, World\" を出力させるプログラムを作成しましょう。"
   ]
  },
  {
   "cell_type": "code",
   "execution_count": 1,
   "metadata": {},
   "outputs": [
    {
     "name": "stdout",
     "output_type": "stream",
     "text": [
      "Hello, World\n"
     ]
    }
   ],
   "source": [
    "# ↓ここにプログラムを書き、Shift + Enter で実行します。\n",
    "print(\"Hello, World\")"
   ]
  },
  {
   "cell_type": "markdown",
   "metadata": {},
   "source": [
    "## 【1-2】10回繰り返す\n",
    "<img src=\"https://pfe.p.cyber-u.ac.jp/img/Python/Week1/1-2.png\" style=\"margin:30px;float: left;width:500px;\">\n",
    "<div style=\"clear: both;\"></div>\n",
    "上の画像を見ながら \"CYBER\" を10回出力させるプログラムを作成しましょう。<br />\n",
    "慣れるまでの間 \":\" (コロン) を忘れる人が多いので、気をつけましょう。<br />\n",
    "print関数のある行の最初のインデント(字下げ)は自動で入りますが、<br />\n",
    "入っていなかったら「タブ」キーを打ちましょう。"
   ]
  },
  {
   "cell_type": "code",
   "execution_count": 2,
   "metadata": {
    "scrolled": true
   },
   "outputs": [
    {
     "name": "stdout",
     "output_type": "stream",
     "text": [
      "CYBER\n",
      "CYBER\n",
      "CYBER\n",
      "CYBER\n",
      "CYBER\n",
      "CYBER\n",
      "CYBER\n",
      "CYBER\n",
      "CYBER\n",
      "CYBER\n"
     ]
    }
   ],
   "source": [
    "# ↓ここにプログラムを書き、Shift + Enter で実行します。\n",
    "for i in range(10):\n",
    "    print(\"CYBER\")"
   ]
  },
  {
   "cell_type": "markdown",
   "metadata": {},
   "source": [
    "## 【1-3】改行させない\n",
    "<img src=\"https://pfe.p.cyber-u.ac.jp/img/Python/Week1/1-3.png\" style=\"margin:30px;float: left;width:500px;\">\n",
    "<div style=\"clear: both;\"></div>\n",
    "上の画像を見ながら \"CYBER\" を改行させずに10回出力させるプログラムを作成しましょう。<br />\n",
    "既に書いたプログラムからコピー&ペーストしてきても構いません。"
   ]
  },
  {
   "cell_type": "code",
   "execution_count": 3,
   "metadata": {},
   "outputs": [
    {
     "name": "stdout",
     "output_type": "stream",
     "text": [
      "CYBERCYBERCYBERCYBERCYBERCYBERCYBERCYBERCYBERCYBER"
     ]
    }
   ],
   "source": [
    "# ↓ここにプログラムを書き… はもうわかってきた頃なので以後、割愛します。\n",
    "for i in range(10):\n",
    "    print(\"CYBER\", end=\"\")"
   ]
  },
  {
   "cell_type": "markdown",
   "metadata": {},
   "source": [
    "## 【1-4】文字列と数値を連結\n",
    "<img src=\"https://pfe.p.cyber-u.ac.jp/img/Python/Week1/1-4.png\" style=\"margin:30px;float: left;width:500px;\">\n",
    "<div style=\"clear: both;\"></div>\n",
    "上の画像を見ながら、繰り返し回数込で \"CYBER\" を10回出力させるプログラムを<br />\n",
    "作成しましょう。\"+\"(プラス)記号で文字列同士を連結できます。<br />\n",
    "文字列と数値はそのままでは連結できないので、str関数で変換しています。"
   ]
  },
  {
   "cell_type": "code",
   "execution_count": 4,
   "metadata": {},
   "outputs": [
    {
     "name": "stdout",
     "output_type": "stream",
     "text": [
      "CYBER0\n",
      "CYBER1\n",
      "CYBER2\n",
      "CYBER3\n",
      "CYBER4\n",
      "CYBER5\n",
      "CYBER6\n",
      "CYBER7\n",
      "CYBER8\n",
      "CYBER9\n"
     ]
    }
   ],
   "source": [
    "# ↓ここにプログラム…\n",
    "for i in range(10):\n",
    "    print(\"CYBER\" + str(i))"
   ]
  },
  {
   "cell_type": "markdown",
   "metadata": {},
   "source": [
    "## 【1-5】iが変化する範囲\n",
    "<img src=\"https://pfe.p.cyber-u.ac.jp/img/Python/Week1/1-5.png\" style=\"margin:30px;float: left;width:500px;\">\n",
    "<div style=\"clear: both;\"></div>\n",
    "上の画像を見ながら、変数iが5から9まで変化するように \"CYBER\" を出力させる<br />\n",
    "プログラムを作成しましょう。CYBER は5回出力されるはずです。<br />\n",
    "上の画像の書き方で「5から10まで」にならないことに注意しましょう。"
   ]
  },
  {
   "cell_type": "code",
   "execution_count": 5,
   "metadata": {},
   "outputs": [
    {
     "name": "stdout",
     "output_type": "stream",
     "text": [
      "CYBER5\n",
      "CYBER6\n",
      "CYBER7\n",
      "CYBER8\n",
      "CYBER9\n"
     ]
    }
   ],
   "source": [
    "# ↓ここにプ…\n",
    "for i in range(5,10):\n",
    "    print(\"CYBER\" + str(i))"
   ]
  },
  {
   "cell_type": "markdown",
   "metadata": {},
   "source": [
    "## 【1-6】while文で繰り返し\n",
    "<img src=\"https://pfe.p.cyber-u.ac.jp/img/Python/Week1/1-6.png\" style=\"margin:30px;float: left;width:500px;\">\n",
    "<div style=\"clear: both;\"></div>\n",
    "上の画像を見ながら、while文を使って \"CYBER\" を出力させるプログラムを<br />\n",
    "作成しましょう。5回繰り返し出力されるはずです。"
   ]
  },
  {
   "cell_type": "code",
   "execution_count": 6,
   "metadata": {},
   "outputs": [
    {
     "name": "stdout",
     "output_type": "stream",
     "text": [
      "CYBER_1CYBER_2CYBER_3CYBER_4CYBER_5"
     ]
    }
   ],
   "source": [
    "# ↓ここ…\n",
    "値=1\n",
    "while(値<=5):\n",
    "    print(\"CYBER_\"+str(値),end=\"\")\n",
    "    値=値+1"
   ]
  },
  {
   "cell_type": "markdown",
   "metadata": {},
   "source": [
    "## 【1-7】if文で条件分岐\n",
    "<img src=\"https://pfe.p.cyber-u.ac.jp/img/Python/Week1/1-7.png\" style=\"margin:30px;float: left;width:400px;\">\n",
    "<div style=\"clear: both;\"></div>\n",
    "上の画像を見ながら条件分岐のプログラムを作成しましょう。<br />\n",
    "値には3が代入されていますが、動作を確認できたら値を弄ってみましょう。"
   ]
  },
  {
   "cell_type": "code",
   "execution_count": 7,
   "metadata": {},
   "outputs": [
    {
     "name": "stdout",
     "output_type": "stream",
     "text": [
      "値は10より小さい\n"
     ]
    }
   ],
   "source": [
    "値=3\n",
    "if 値<5:\n",
    "    print(\"値は10より小さい\")"
   ]
  },
  {
   "cell_type": "markdown",
   "metadata": {},
   "source": [
    "## 【1-8】3方向への条件分岐\n",
    "<img src=\"https://pfe.p.cyber-u.ac.jp/img/Python/Week1/1-8.png\" style=\"margin:30px;float: left;width:400px;\">\n",
    "<div style=\"clear: both;\"></div>\n",
    "上の画像を見ながら条件分岐のプログラムを作成しましょう。<br />値には5が代入されていますが、動作を確認できたら値を弄ってみましょう。<br />elseifやelsifではなく elif であることに注意しましょう。"
   ]
  },
  {
   "cell_type": "code",
   "execution_count": 11,
   "metadata": {},
   "outputs": [
    {
     "name": "stdout",
     "output_type": "stream",
     "text": [
      "値は10より小さい\n"
     ]
    }
   ],
   "source": [
    "値=4\n",
    "if 値<5:\n",
    "    print(\"値は10より小さい\")\n",
    "elif 値==5:\n",
    "        print(\"値は５\")\n",
    "else:\n",
    "        print(\"値は5より大きい\")"
   ]
  },
  {
   "cell_type": "markdown",
   "metadata": {},
   "source": [
    "## 【1-9】関数の定義と呼び出し\n",
    "<img src=\"https://pfe.p.cyber-u.ac.jp/img/Python/Week1/1-9.png\" style=\"margin:30px;float: left;width:400px;\">\n",
    "<div style=\"clear: both;\"></div>\n",
    "上の画像を見ながら、関数を定義して呼び出すプログラムを<br />\n",
    "作成しましょう。\"Hello, World\" が出力されるはずです。"
   ]
  },
  {
   "cell_type": "code",
   "execution_count": 12,
   "metadata": {},
   "outputs": [
    {
     "name": "stdout",
     "output_type": "stream",
     "text": [
      "Hello, World\n"
     ]
    }
   ],
   "source": [
    "def ハローワールドな関数():\n",
    "    print(\"Hello, World\")\n",
    "\n",
    "ハローワールドな関数()"
   ]
  },
  {
   "cell_type": "markdown",
   "metadata": {},
   "source": [
    "## 【1-10】引数を取る関数\n",
    "<img src=\"https://pfe.p.cyber-u.ac.jp/img/Python/Week1/1-10.png\" style=\"margin:30px;float: left;width:400px;\">\n",
    "<div style=\"clear: both;\"></div>\n",
    "上の画像を見ながら、足し算の結果を出力させるプログラムを<br />作成しましょう。3と5を足した結果が出力されるはずです。"
   ]
  },
  {
   "cell_type": "code",
   "execution_count": 14,
   "metadata": {},
   "outputs": [
    {
     "name": "stdout",
     "output_type": "stream",
     "text": [
      "8\n"
     ]
    }
   ],
   "source": [
    "def 足し算の結果を表示(x,y):\n",
    "    print(x+y)\n",
    "足し算の結果を表示(3,5)"
   ]
  },
  {
   "cell_type": "markdown",
   "metadata": {},
   "source": [
    "## 【1-11】値を返す関数\n",
    "<img src=\"https://pfe.p.cyber-u.ac.jp/img/Python/Week1/1-11.png\" style=\"margin:30px;float: left;width:400px;\">\n",
    "<div style=\"clear: both;\"></div>\n",
    "上の画像を見ながら、足し算の結果を出力させるプログラムを<br />\n",
    "作成しましょう。1-10との違いは、足し算の結果を呼び出し元に返し、<br />呼び出し元で画面出力していることです。"
   ]
  },
  {
   "cell_type": "code",
   "execution_count": 15,
   "metadata": {
    "scrolled": true
   },
   "outputs": [
    {
     "name": "stdout",
     "output_type": "stream",
     "text": [
      "8\n"
     ]
    }
   ],
   "source": [
    "# ↓疲れてきたらコピ・ペで\n",
    "def 足し算の結果を表示(x,y):\n",
    "    return x+y\n",
    "print(足し算の結果を表示(3,5))"
   ]
  },
  {
   "cell_type": "markdown",
   "metadata": {},
   "source": [
    "## 【1-12】オブジェクト指向\n",
    "<img src=\"https://pfe.p.cyber-u.ac.jp/img/Python/Week1/1-12.png\" style=\"margin:30px;float: left;width:500px;\">\n",
    "<div style=\"clear: both;\"></div>\n",
    "上の画像を見ながら、クラスを定義しインスタンスを生成する<br />\n",
    "プログラムを作成しましょう。「受講者1」や「受講者2」がインスタンスです。<br />\n",
    "インスタンス生成時にコンストラクタが自動的に呼び出され、<br />「self.学籍番号」や\n",
    "「self.氏名」に値が代入されます。<br /><br />\n",
    "実行すると \"3012345678\" と「国分寺善次郎」が出力されるはずです。"
   ]
  },
  {
   "cell_type": "code",
   "execution_count": 16,
   "metadata": {
    "scrolled": true
   },
   "outputs": [
    {
     "name": "stdout",
     "output_type": "stream",
     "text": [
      "3012345678\n",
      "国分寺善次郎\n"
     ]
    }
   ],
   "source": [
    "class 受講者:\n",
    "    def __init__(self,学籍番号,氏名):\n",
    "        self.学籍番号=学籍番号\n",
    "        self.氏名=氏名\n",
    "\n",
    "受講者1=受講者(\"3012345678\",\"藤沢ケメ子\")\n",
    "受講者2=受講者(\"3023456789\",\"国分寺善次郎\")\n",
    "\n",
    "print(受講者1.学籍番号)\n",
    "print(受講者2.氏名)"
   ]
  },
  {
   "cell_type": "markdown",
   "metadata": {},
   "source": [
    "## 【1-13】オブジェクトのメソッド\n",
    "<img src=\"https://pfe.p.cyber-u.ac.jp/img/Python/Week1/1-13.png\" style=\"margin:30px;float: left;width:500px;\">\n",
    "<div style=\"clear: both;\"></div>\n",
    "上の画像を見ながら、オブジェクトのメソッドを呼び出すプログラムを<br />\n",
    "作成しましょう。メソッドはオブジェクトの中で「関数のように処理のまとまりに<br />名前をつけたもの」です。"
   ]
  },
  {
   "cell_type": "code",
   "execution_count": 17,
   "metadata": {},
   "outputs": [
    {
     "name": "stdout",
     "output_type": "stream",
     "text": [
      "3012345678\n",
      "国分寺善次郎\n",
      "8\n",
      "9\n"
     ]
    }
   ],
   "source": [
    "# ↓疲れていたら1-12のプログラムをコピ・ペして弄りましょう\n",
    "class 受講者:\n",
    "    def __init__(self,学籍番号,氏名):\n",
    "        self.学籍番号=学籍番号\n",
    "        self.氏名=氏名\n",
    "    def 学籍番号の末尾を返す(self):\n",
    "        return self.学籍番号[9]\n",
    "\n",
    "受講者1=受講者(\"3012345678\",\"藤沢ケメ子\")\n",
    "受講者2=受講者(\"3023456789\",\"国分寺善次郎\")\n",
    "\n",
    "print(受講者1.学籍番号)\n",
    "print(受講者2.氏名)\n",
    "\n",
    "print(受講者1.学籍番号の末尾を返す())\n",
    "print(受講者2.学籍番号の末尾を返す())"
   ]
  },
  {
   "cell_type": "markdown",
   "metadata": {},
   "source": [
    "ここまでで、第1回第2章は終了です。お疲れさまでした。\n",
    "一息入れて、第3章の講義に進んでください。"
   ]
  }
 ],
 "metadata": {
  "kernelspec": {
   "display_name": "Python 3",
   "language": "python",
   "name": "python3"
  },
  "language_info": {
   "codemirror_mode": {
    "name": "ipython",
    "version": 3
   },
   "file_extension": ".py",
   "mimetype": "text/x-python",
   "name": "python",
   "nbconvert_exporter": "python",
   "pygments_lexer": "ipython3",
   "version": "3.5.4"
  }
 },
 "nbformat": 4,
 "nbformat_minor": 2
}
