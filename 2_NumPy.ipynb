{
 "cells": [
  {
   "cell_type": "markdown",
   "metadata": {},
   "source": [
    "# 第2回演習「NumPyによる行列の記述」"
   ]
  },
  {
   "cell_type": "markdown",
   "metadata": {},
   "source": [
    "この演習では数値計算ライブラリを用いた行列の記述方法を習得します。<hr />\n"
   ]
  },
  {
   "cell_type": "markdown",
   "metadata": {},
   "source": [
    "## 【2-1】はじめてのNumPy\n",
    "<img src=\"https://pfe.p.cyber-u.ac.jp/img/Python/Week2/2-1.png\" style=\"margin:30px;float: left;width:400px;\">\n",
    "<div style=\"clear: both;\"></div>\n",
    "上の画像を見ながら、配列の中身を出力させるプログラムを作成しましょう。"
   ]
  },
  {
   "cell_type": "code",
   "execution_count": 1,
   "metadata": {},
   "outputs": [
    {
     "name": "stdout",
     "output_type": "stream",
     "text": [
      "[1 2 3]\n",
      "1\n"
     ]
    }
   ],
   "source": [
    "# ↓ここにプログラムを書き、Shift + Enter で実行します。\n",
    "import numpy as np\n",
    "x=np.array([1,2,3])\n",
    "print(x)\n",
    "print(x[0])"
   ]
  },
  {
   "cell_type": "markdown",
   "metadata": {},
   "source": [
    "## 【2-2】行ベクトルの加算\n",
    "<img src=\"https://pfe.p.cyber-u.ac.jp/img/Python/Week2/2-2.png\" style=\"margin:30px;float: left;width:500px;\">\n",
    "<div style=\"clear: both;\"></div>\n",
    "上の画像を見ながら x と y の和を出力するプログラムを作成しましょう。<br />\n",
    "x には、上の2-1で既に[1,2,3]が代入されています。"
   ]
  },
  {
   "cell_type": "code",
   "execution_count": 2,
   "metadata": {
    "scrolled": true
   },
   "outputs": [
    {
     "name": "stdout",
     "output_type": "stream",
     "text": [
      "[2 4 6]\n"
     ]
    }
   ],
   "source": [
    "# ↓ここにプログラムを書き、Shift + Enter で実行します。\n",
    "# xにはすでに[1,2,3]が代入されています。\n",
    "y=np.array([1,2,3])\n",
    "print(x+y)"
   ]
  },
  {
   "cell_type": "markdown",
   "metadata": {},
   "source": [
    "## 【2-3】成分の書き換え\n",
    "<img src=\"https://pfe.p.cyber-u.ac.jp/img/Python/Week2/2-3.png\" style=\"margin:30px;float: left;width:500px;\">\n",
    "<div style=\"clear: both;\"></div>\n",
    "上の画像を見ながら、配列の0番目の値を書き換えるプログラムを作成しましょう。<br />\n",
    "xにはすでに[1,2,3]が代入されています。"
   ]
  },
  {
   "cell_type": "code",
   "execution_count": 3,
   "metadata": {},
   "outputs": [
    {
     "name": "stdout",
     "output_type": "stream",
     "text": [
      "[100   2   3]\n"
     ]
    }
   ],
   "source": [
    "# ↓ここにプログラムを書き… は以後、割愛します。\n",
    "x[0]=100\n",
    "print(x)"
   ]
  },
  {
   "cell_type": "markdown",
   "metadata": {},
   "source": [
    "## 【2-4】2次元にすると行列らしくなる\n",
    "<img src=\"https://pfe.p.cyber-u.ac.jp/img/Python/Week2/2-4.png\" style=\"margin:30px;float: left;width:500px;\">\n",
    "<div style=\"clear: both;\"></div>\n",
    "上の画像を見ながら、行列(このプログラム中では2次元の配列)の中身を出力する<br />\n",
    "プログラムを作成しましょう。<br />\n",
    "x[0][1] や x[1][2] とはそれぞれどこなのか? と意識しながら書きましょう。<br />\n",
    "最後に2次元配列のサイズ(行数と列数)も出力させましょう。"
   ]
  },
  {
   "cell_type": "code",
   "execution_count": 4,
   "metadata": {},
   "outputs": [
    {
     "name": "stdout",
     "output_type": "stream",
     "text": [
      "[[1 2 3]\n",
      " [4 5 6]]\n",
      "2\n",
      "6\n",
      "(2, 3)\n",
      "2\n",
      "3\n"
     ]
    }
   ],
   "source": [
    "# ↓ここにプログラム…\n",
    "x=np.array([[1,2,3],[4,5,6]])\n",
    "print(x)\n",
    "print(x[0][1])\n",
    "print(x[1][2])\n",
    "print(x.shape)\n",
    "m,n=x.shape\n",
    "print(m)\n",
    "print(n)"
   ]
  },
  {
   "cell_type": "markdown",
   "metadata": {},
   "source": [
    "## 【2-5】ゼロで埋める\n",
    "<img src=\"https://pfe.p.cyber-u.ac.jp/img/Python/Week2/2-5.png\" style=\"margin:30px;float: left;width:600px;\">\n",
    "<div style=\"clear: both;\"></div>\n",
    "上の画像を見ながら、全ての成分が0の配列を作って出力させましょう。<br />\n",
    "2次元の配列も作って出力させましょう。型(dtype)を指定する時としない時で、<br />\n",
    "何が変わるでしょうか?"
   ]
  },
  {
   "cell_type": "code",
   "execution_count": 5,
   "metadata": {
    "scrolled": true
   },
   "outputs": [
    {
     "name": "stdout",
     "output_type": "stream",
     "text": [
      "[0. 0. 0. 0. 0. 0. 0. 0. 0. 0.]\n",
      "[[0. 0. 0.]\n",
      " [0. 0. 0.]]\n",
      "[[0 0 0]\n",
      " [0 0 0]]\n"
     ]
    }
   ],
   "source": [
    "# ↓ここにプ…\n",
    "x=np.zeros(10)\n",
    "print(x)\n",
    "x=np.zeros((2,3))\n",
    "print(x)\n",
    "x=np.zeros((2,3),dtype='int')\n",
    "print(x)\n"
   ]
  },
  {
   "cell_type": "markdown",
   "metadata": {},
   "source": [
    "## 【2-6】1で埋める\n",
    "<img src=\"https://pfe.p.cyber-u.ac.jp/img/Python/Week2/2-6.png\" style=\"margin:30px;float: left;width:760px;\">\n",
    "<div style=\"clear: both;\"></div>\n",
    "上の画像を見ながら、全ての成分が1の配列を作って出力させましょう。<br />\n",
    "2-5 の手順とよく似ています。<br />\n",
    "型(dtype)も指定しましょう。"
   ]
  },
  {
   "cell_type": "code",
   "execution_count": 6,
   "metadata": {},
   "outputs": [
    {
     "name": "stdout",
     "output_type": "stream",
     "text": [
      "[[1 1 1 1]\n",
      " [1 1 1 1]\n",
      " [1 1 1 1]]\n"
     ]
    }
   ],
   "source": [
    "# ↓ここ…\n",
    "x=np.ones((3,4),dtype='int')\n",
    "print(x)\n"
   ]
  },
  {
   "cell_type": "markdown",
   "metadata": {},
   "source": [
    "## 【2-7】ランダムな行列を作る\n",
    "<img src=\"https://pfe.p.cyber-u.ac.jp/img/Python/Week2/2-7.png\" style=\"margin:30px;float: left;width:720px;\">\n",
    "<div style=\"clear: both;\"></div>\n",
    "上の画像を見ながら、ランダムな成分の行列(2次元の配列)を作って出力させましょう。<br />\n",
    "ランダムな成分の値は「0以上1未満」です。<br />\n",
    "ランダムな整数を得る方法も使いましょう。"
   ]
  },
  {
   "cell_type": "code",
   "execution_count": 7,
   "metadata": {},
   "outputs": [
    {
     "name": "stdout",
     "output_type": "stream",
     "text": [
      "[[0.14362139 0.77071633 0.315465   0.85434878 0.59720728]\n",
      " [0.17138198 0.63062416 0.27563269 0.8545931  0.57807085]\n",
      " [0.25061213 0.63731848 0.56299076 0.12360976 0.10825951]\n",
      " [0.06717173 0.46523984 0.77887411 0.50025139 0.04274601]]\n",
      "[[6 7 7 9 6]\n",
      " [8 5 6 6 5]\n",
      " [8 5 9 8 6]\n",
      " [5 8 7 5 6]]\n"
     ]
    }
   ],
   "source": [
    "# 2-7 ランダムな行列を作る\n",
    "x=np.random.rand(4,5)\n",
    "print(x)\n",
    "x=np.random.randint(5,10,(4,5))\n",
    "print(x)\n"
   ]
  },
  {
   "cell_type": "markdown",
   "metadata": {},
   "source": [
    "## 【2-8】行列の加算と減算\n",
    "<img src=\"https://pfe.p.cyber-u.ac.jp/img/Python/Week2/2-8.png\" style=\"margin:30px;float: left;width:400px;\">\n",
    "<div style=\"clear: both;\"></div>\n",
    "上の画像を見ながら行列の加算、減算のプログラムを作成しましょう。<br />\n",
    "それぞれ、どの成分が足されたり、引かれたりするかを見ましょう。"
   ]
  },
  {
   "cell_type": "code",
   "execution_count": 8,
   "metadata": {},
   "outputs": [
    {
     "name": "stdout",
     "output_type": "stream",
     "text": [
      "[[2 3 4]\n",
      " [5 6 7]]\n",
      "[[0 1 2]\n",
      " [3 4 5]]\n"
     ]
    }
   ],
   "source": [
    "x=np.array([[1,2,3],[4,5,6]])\n",
    "y=np.array([[1,1,1],[1,1,1]])\n",
    "print(x+y)\n",
    "print(x-y)"
   ]
  },
  {
   "cell_type": "markdown",
   "metadata": {},
   "source": [
    "## 【2-9】スカラー倍\n",
    "<img src=\"https://pfe.p.cyber-u.ac.jp/img/Python/Week2/2-9.png\" style=\"margin:30px;float: left;width:400px;\">\n",
    "<div style=\"clear: both;\"></div>\n",
    "上の画像を見ながら、行列のスカラー倍を出力させるプログラムを作成しましょう。<br />\n",
    "次の 2-10 にある行列の積とは、何が違うでしょうか?"
   ]
  },
  {
   "cell_type": "code",
   "execution_count": 9,
   "metadata": {},
   "outputs": [
    {
     "name": "stdout",
     "output_type": "stream",
     "text": [
      "[[10 20 30]\n",
      " [40 50 60]]\n"
     ]
    }
   ],
   "source": [
    "print(x*10)"
   ]
  },
  {
   "cell_type": "markdown",
   "metadata": {},
   "source": [
    "## 【2-10】行列の積\n",
    "<img src=\"https://pfe.p.cyber-u.ac.jp/img/Python/Week2/2-10.png\" style=\"margin:30px;float: left;width:500px;\">\n",
    "<div style=\"clear: both;\"></div>\n",
    "上の画像を見ながら、行列の積を求めるプログラムを作成しましょう。<br />\n",
    "積は順番に注意が必要です。一般に行列の AB=BA は成り立ちません。"
   ]
  },
  {
   "cell_type": "code",
   "execution_count": 10,
   "metadata": {},
   "outputs": [
    {
     "name": "stdout",
     "output_type": "stream",
     "text": [
      "[[1 2]\n",
      " [3 4]]\n",
      "[[5 6]\n",
      " [7 8]]\n",
      "[[19 22]\n",
      " [43 50]]\n"
     ]
    }
   ],
   "source": [
    "v=np.array([[1,2],[3,4]])\n",
    "w=np.array([[5,6],[7,8]])\n",
    "print(v)\n",
    "print(w)\n",
    "print(v.dot(w)) # 積を出力"
   ]
  },
  {
   "cell_type": "markdown",
   "metadata": {},
   "source": [
    "## 【2-11】便利なスライシング\n",
    "<img src=\"https://pfe.p.cyber-u.ac.jp/img/Python/Week2/2-11.png\" style=\"margin:30px;float: left;width:760px;\">\n",
    "<div style=\"clear: both;\"></div>\n",
    "上の画像を見ながら、行列に対するスライシングの機能を試しましょう。<br />\n",
    "好きな箇所を切り出したり、逆順に並べることもできます。"
   ]
  },
  {
   "cell_type": "code",
   "execution_count": 11,
   "metadata": {
    "scrolled": true
   },
   "outputs": [
    {
     "name": "stdout",
     "output_type": "stream",
     "text": [
      "[0 1 2]\n",
      "[3 4 5 6 7 8 9]\n",
      "[3 4 5 6 7]\n",
      "[3 5 7]\n",
      "[9 8 7 6 5 4 3 2 1 0]\n",
      "[[ 1  2  3  4]\n",
      " [ 5  6  7  8]\n",
      " [ 9 10 11 12]]\n",
      "[[1 2 3]\n",
      " [5 6 7]]\n"
     ]
    }
   ],
   "source": [
    "x=np.array([0,1,2,3,4,5,6,7,8,9])\n",
    "print(x[:3])\n",
    "print(x[3:])\n",
    "print(x[3:8])\n",
    "print(x[3:8:2])\n",
    "print(x[::-1])\n",
    "x=np.array([[1,2,3,4],[5,6,7,8],[9,10,11,12]])\n",
    "print(x)\n",
    "print(x[:2,:3])"
   ]
  },
  {
   "cell_type": "markdown",
   "metadata": {},
   "source": [
    "## 【2-12】転置行列\n",
    "<img src=\"https://pfe.p.cyber-u.ac.jp/img/Python/Week2/2-12.png\" style=\"margin:30px;float: left;width:640px;\">\n",
    "<div style=\"clear: both;\"></div>\n",
    "上の画像を見ながら、転置行列のプログラムを作成しましょう。<br />\n",
    "行と列が入れ替わります。<br />\n",
    "入れ替えたものを再度入れ替えたら、元に戻りますか?"
   ]
  },
  {
   "cell_type": "code",
   "execution_count": 13,
   "metadata": {
    "scrolled": true
   },
   "outputs": [
    {
     "name": "stdout",
     "output_type": "stream",
     "text": [
      "[[ 1  5  9]\n",
      " [ 2  6 10]\n",
      " [ 3  7 11]\n",
      " [ 4  8 12]]\n"
     ]
    }
   ],
   "source": [
    "x=np.array([[1,2,3,4],[5,6,7,8],[9,10,11,12]])\n",
    "print(x.T)"
   ]
  },
  {
   "cell_type": "markdown",
   "metadata": {},
   "source": [
    "## 【2-13】転置行列の続き\n",
    "<img src=\"https://pfe.p.cyber-u.ac.jp/img/Python/Week2/2-13.png\" style=\"margin:30px;float: left;width:550px;\">\n",
    "<div style=\"clear: both;\"></div>\n",
    "上の画像を見ながら、行ベクトルの転置や列ベクトルの転置を行いましょう。<br />\n",
    "列ベクトルの書き方に注意しましょう。"
   ]
  },
  {
   "cell_type": "code",
   "execution_count": 14,
   "metadata": {},
   "outputs": [
    {
     "name": "stdout",
     "output_type": "stream",
     "text": [
      "[[1]\n",
      " [2]\n",
      " [3]]\n",
      "[[1 2 3]]\n"
     ]
    }
   ],
   "source": [
    "x=np.array([[1,2,3]])\n",
    "print(x.T)\n",
    "x=np.array([[1],[2],[3]])\n",
    "print(x.T)"
   ]
  },
  {
   "cell_type": "markdown",
   "metadata": {},
   "source": [
    "## 【2-14】アダマール積\n",
    "<img src=\"https://pfe.p.cyber-u.ac.jp/img/Python/Week2/2-14.png\" style=\"margin:30px;float: left;width:500px;\">\n",
    "<div style=\"clear: both;\"></div>\n",
    "上の画像を見ながら、行列のアダマール積を求めるプログラムを<br />\n",
    "作成しましょう。大仰な名前がついていますが、やっていることは各成分の掛け算です。"
   ]
  },
  {
   "cell_type": "code",
   "execution_count": 15,
   "metadata": {},
   "outputs": [
    {
     "name": "stdout",
     "output_type": "stream",
     "text": [
      "[ 4 10 18]\n"
     ]
    }
   ],
   "source": [
    "x=np.array([1,2,3])\n",
    "y=np.array([4,5,6])\n",
    "print(x*y)"
   ]
  },
  {
   "cell_type": "markdown",
   "metadata": {},
   "source": [
    "## 【2-15】単位行列\n",
    "<img src=\"https://pfe.p.cyber-u.ac.jp/img/Python/Week2/2-15.png\" style=\"margin:30px;float: left;width:720px;\">\n",
    "<div style=\"clear: both;\"></div>\n",
    "上の画像を見ながら、3行3列の単位行列を出力するプログラムを<br />\n",
    "作成しましょう。対角成分が1で、それ以外の成分が0になります。<br />\n",
    "余力があったら3*3以外も試しましょう。"
   ]
  },
  {
   "cell_type": "code",
   "execution_count": 19,
   "metadata": {},
   "outputs": [
    {
     "name": "stdout",
     "output_type": "stream",
     "text": [
      "[[1. 0. 0.]\n",
      " [0. 1. 0.]\n",
      " [0. 0. 1.]]\n",
      "[[1 0 0]\n",
      " [0 1 0]\n",
      " [0 0 1]]\n"
     ]
    }
   ],
   "source": [
    "print(np.identity(3))\n",
    "print(np.identity(3,dtype='int'))"
   ]
  },
  {
   "cell_type": "markdown",
   "metadata": {},
   "source": [
    "## 【2-16】逆行列\n",
    "<img src=\"https://pfe.p.cyber-u.ac.jp/img/Python/Week2/2-16.png\" style=\"margin:30px;float: left;width:500px;\">\n",
    "<div style=\"clear: both;\"></div>\n",
    "上の画像を見ながら、逆行列を求めるプログラムを<br />\n",
    "作成しましょう。余力があったら、逆行列と元の行列の積を求めましょう。\n",
    "<hr />"
   ]
  },
  {
   "cell_type": "code",
   "execution_count": 23,
   "metadata": {},
   "outputs": [
    {
     "name": "stdout",
     "output_type": "stream",
     "text": [
      "[[  7.   3.  -4.]\n",
      " [-12.  -5.   7.]\n",
      " [ -8.  -4.   5.]]\n",
      "[[1. 0. 0.]\n",
      " [0. 1. 0.]\n",
      " [0. 0. 1.]]\n",
      "[[1. 0. 0.]\n",
      " [0. 1. 0.]\n",
      " [0. 0. 1.]]\n"
     ]
    }
   ],
   "source": [
    "p=np.array([[3,1,1],[4,3,-1],[8,4,1]])\n",
    "q=np.linalg.inv(p) # 逆行列\n",
    "print(q)\n",
    "print(p.dot(q))\n",
    "print(q.dot(p))"
   ]
  },
  {
   "cell_type": "markdown",
   "metadata": {},
   "source": [
    "ここまでで、第2回第2章は終了です。お疲れさまでした。\n",
    "一息入れて、第3章の講義に進んでください。"
   ]
  }
 ],
 "metadata": {
  "kernelspec": {
   "display_name": "Python 3",
   "language": "python",
   "name": "python3"
  },
  "language_info": {
   "codemirror_mode": {
    "name": "ipython",
    "version": 3
   },
   "file_extension": ".py",
   "mimetype": "text/x-python",
   "name": "python",
   "nbconvert_exporter": "python",
   "pygments_lexer": "ipython3",
   "version": "3.5.4"
  }
 },
 "nbformat": 4,
 "nbformat_minor": 2
}
