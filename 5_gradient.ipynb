{
 "cells": [
  {
   "cell_type": "markdown",
   "metadata": {},
   "source": [
    "# 第5回演習「勾配法」"
   ]
  },
  {
   "cell_type": "markdown",
   "metadata": {},
   "source": [
    "この演習では勾配法を用いた関数の最適化の方法を習得します。<hr />"
   ]
  },
  {
   "cell_type": "markdown",
   "metadata": {},
   "source": [
    "<img src=\"https://pfe.p.cyber-u.ac.jp/img/Python/Week5/gradient.png\" style=\"width:200px\">"
   ]
  },
  {
   "cell_type": "markdown",
   "metadata": {
    "scrolled": true
   },
   "source": [
    "上の画像のような $f(x)=x^2$ で、$f(x)$ の値を最小にする $x$ を見つけるにはどうしたらよいでしょうか。<br />\n",
    "さまざまな関数に対応させるには、グラフを指さして「ここ、ここが最小です」ではいけません。<br />\n",
    "プログラムに探させないといけません。\n"
   ]
  },
  {
   "cell_type": "code",
   "execution_count": 10,
   "metadata": {
    "scrolled": true
   },
   "outputs": [
    {
     "name": "stdout",
     "output_type": "stream",
     "text": [
      "0 9.999999999976694 2.0000000000023306\n",
      "1 7.999999999981355 1.200000000004195\n",
      "2 6.399999999997519 0.5600000000044432\n",
      "3 5.119999999996239 0.0480000000048193\n",
      "4 4.096000000015643 -0.36159999999674497\n",
      "5 3.276800000007185 -0.6892799999974635\n",
      "6 2.621440000005748 -0.9514239999980383\n",
      "7 2.0971520000001576 -1.161139199998054\n",
      "8 1.6777216000041228 -1.3289113599984663\n",
      "9 1.342177280001522 -1.4631290879986185\n",
      "10 1.0737418240025498 -1.5705032703988735\n",
      "11 0.858993459202928 -1.6564026163191663\n",
      "12 0.6871947673614542 -1.7251220930553117\n",
      "13 0.5497558138878311 -1.7800976744440948\n",
      "14 0.4398046511111531 -1.8240781395552101\n",
      "15 0.35184372088936655 -1.8592625116441468\n",
      "16 0.28147497671104915 -1.8874100093152517\n",
      "17 0.2251799813701716 -1.9099280074522689\n",
      "18 0.18014398509569318 -1.9279424059618382\n",
      "19 0.14411518807655455 -1.9423539247694936\n",
      "20 0.11529215046213181 -1.9538831398157068\n",
      "21 0.0922337203679291 -1.9631065118524997\n",
      "22 0.07378697629567554 -1.9704852094820673\n",
      "23 0.059029581036540435 -1.9763881675857213\n",
      "24 0.04722366482745599 -1.981110534068467\n",
      "25 0.03777893186285297 -1.9848884272547522\n",
      "26 0.030223145490726466 -1.9879107418038249\n",
      "27 0.02417851639346935 -1.9903285934431718\n",
      "28 0.019342813113443214 -1.9922628747545161\n",
      "29 0.015474250489866392 -1.9938102998035028\n",
      "30 0.01237940039366947 -1.9950482398428697\n",
      "31 0.009903520314935577 -1.9960385918743633\n",
      "32 0.007922816251948461 -1.9968308734995581\n",
      "33 0.006338253000226501 -1.9974646987995808\n",
      "34 0.005070602402401647 -1.997971759039821\n",
      "35 0.0040564819214772285 -1.9983774072319687\n",
      "36 0.003245185535849515 -1.9987019257855536\n",
      "37 0.0025961484295677906 -1.9989615406285104\n",
      "38 0.0020769187414337864 -1.9991692325026538\n",
      "39 0.0016615349940352075 -1.9993353860020573\n",
      "40 0.0013292279943399876 -1.9994683088014913\n",
      "41 0.0010633823976924361 -1.9995746470412605\n",
      "42 0.0008507059168216813 -1.9996597176329427\n",
      "43 0.000680564733457345 -1.9997277741062884\n",
      "44 0.0005444517880981437 -1.9997822192850983\n",
      "45 0.00043556143136669334 -1.999825775428235\n",
      "46 0.0003484491428729086 -1.9998606203425222\n",
      "47 0.00027875931563059453 -1.9998884962740853\n",
      "48 0.00022300745028402957 -1.9999107970191137\n",
      "49 0.00017840596111540208 -1.9999286376152252\n",
      "50 0.00014272476978050008 -1.9999429100922033\n",
      "51 0.00011417981449213244 -1.9999543280736525\n",
      "52 9.134385248188437e-05 -1.9999634624589007\n",
      "関数が最小になるxは -1.9999634624589007\n"
     ]
    },
    {
     "data": {
      "image/png": "[encoded data removed]",
      "text/plain": [
       "<Figure size 432x288 with 1 Axes>"
      ]
     },
     "metadata": {
      "needs_background": "light"
     },
     "output_type": "display_data"
    }
   ],
   "source": [
    "# 勾配法で2次関数の最小の点を見つける\n",
    "import numpy as np\n",
    "from matplotlib import pyplot as plt\n",
    "\n",
    "def 最小値を求めたい関数(x):    \n",
    "    return (x+2)**2+3 # x^2\n",
    "\n",
    "def 微分もどき(関数, x): # xは今いる位置\n",
    "    微小な横幅 = 0.0001 # とっても小さな値を横幅に使う\n",
    "    # 差分を取って割り算し、結果を返す\n",
    "    return(関数(x+微小な横幅) - 関数(x-微小な横幅)) / (2*微小な横幅) \n",
    "\n",
    "# 勾配法で最小値を求める\n",
    "def 勾配法(関数, 出発地点のx, 学習率, 最大繰り返し数=100,収束条件の傾き= 0.0001): \n",
    "    ##################### ↓ここからは任意課題(3)の図示用ヒントです\n",
    "    繰り返し数の配列 = np.empty(0)\n",
    "    傾きの経過の配列 = np.empty(0)\n",
    "    ##################### ↑ここまでは任意課題(3)の図示用ヒントです\n",
    "    x = 出発地点のx # 現在地\n",
    "    for i in range(最大繰り返し数): \n",
    "        繰り返し数の配列=np.append(繰り返し数の配列,i)\n",
    "        接線の傾き = 微分もどき(関数, x) # 今いる場所(x)での傾きを求める       \n",
    "        傾きの経過の配列= np.append(傾きの経過の配列,接線の傾き)\n",
    "        x = x - 学習率*接線の傾き # 傾きに基づいて、xを移動\n",
    "        print(str(i)+ \" \",end=\"\")\n",
    "        print(接線の傾き,end=\"\")\n",
    "        print(\" \",end=\"\")\n",
    "        print(x)\n",
    "        if abs(接線の傾き) < 収束条件の傾き: # 傾きは絶対値を取る\n",
    "            break # 傾きが条件を下回ったら繰り返し終了 \n",
    "    plt.plot(繰り返し数の配列,傾きの経過の配列)\n",
    "    return x # 繰り返しが終わり、最後にたどり着いたxを返す\n",
    "\n",
    "関数が最小になるx = 勾配法(最小値を求めたい関数,3,0.1) # 出発点が1、学習率が0.1\n",
    "print(\"関数が最小になるxは \",end=\"\")\n",
    "print(関数が最小になるx)\n"
   ]
  },
  {
   "cell_type": "markdown",
   "metadata": {},
   "source": [
    "## 任意課題(1)\n",
    "\n",
    "上のプログラムでは $x$ の出発点を1にしていました。他の値に変えてみて、<br />\n",
    "同じように「関数の値を最小にする $x$」を見つけられるかどうか、試してみましょう。\n",
    "\n",
    "## 任意課題(2)\n",
    "\n",
    "上のプログラムでは $f(x)=x^2$ について最小の点を探しました。別の関数についても同様にやってみましょう。\n",
    "$f(x)=(x-1)^2$ <br />や<br /> $f(x)=(x+2)^2+3 $ <br />等がよいでしょう。<br />\n",
    "下に凸の関数でないと最小の点が見つからないので、気をつけてください。\n",
    "\n",
    "## 任意課題(3)\n",
    "\n",
    "繰り返し処理によって「接線の傾きが0に向けて収束していく様子」を図示してください。<br />\n",
    "matplotlib で折れ線グラフとして出力させるとよいでしょう。\n",
    "\n",
    "<img src=\"https://pfe.p.cyber-u.ac.jp/img/Python/Week5/visual_gradient.png\" style=\"width:200px\">"
   ]
  },
  {
   "cell_type": "markdown",
   "metadata": {},
   "source": [
    "ここまでで、第5回第2章は終了です。お疲れさまでした。\n",
    "一息入れて、第3章の講義に進んでください。"
   ]
  }
 ],
 "metadata": {
  "kernelspec": {
   "display_name": "Python 3",
   "language": "python",
   "name": "python3"
  },
  "language_info": {
   "codemirror_mode": {
    "name": "ipython",
    "version": 3
   },
   "file_extension": ".py",
   "mimetype": "text/x-python",
   "name": "python",
   "nbconvert_exporter": "python",
   "pygments_lexer": "ipython3",
   "version": "3.5.4"
  }
 },
 "nbformat": 4,
 "nbformat_minor": 2
}
