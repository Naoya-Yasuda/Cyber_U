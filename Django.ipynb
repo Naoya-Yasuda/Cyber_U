{
  "nbformat": 4,
  "nbformat_minor": 0,
  "metadata": {
    "colab": {
      "provenance": []
    },
    "kernelspec": {
      "name": "python3",
      "display_name": "Python 3"
    },
    "language_info": {
      "name": "python"
    }
  },
  "cells": [
    {
      "cell_type": "code",
      "execution_count": null,
      "metadata": {
        "colab": {
          "base_uri": "https://localhost:8080/"
        },
        "id": "ro1E7ReJLVPX",
        "outputId": "c9db97aa-a76c-46eb-e6d0-5d6c6743c7e7"
      },
      "outputs": [
        {
          "output_type": "stream",
          "name": "stdout",
          "text": [
            "Collecting django\n",
            "  Using cached Django-5.0.1-py3-none-any.whl (8.1 MB)\n",
            "Collecting asgiref<4,>=3.7.0 (from django)\n",
            "  Using cached asgiref-3.7.2-py3-none-any.whl (24 kB)\n",
            "Requirement already satisfied: sqlparse>=0.3.1 in /usr/local/lib/python3.10/dist-packages (from django) (0.4.4)\n",
            "Requirement already satisfied: typing-extensions>=4 in /usr/local/lib/python3.10/dist-packages (from asgiref<4,>=3.7.0->django) (4.5.0)\n",
            "Installing collected packages: asgiref, django\n",
            "Successfully installed asgiref-3.7.2 django-5.0.1\n"
          ]
        }
      ],
      "source": [
        "!pip install django"
      ]
    },
    {
      "cell_type": "code",
      "source": [
        "!django-admin startproject mysite"
      ],
      "metadata": {
        "id": "TC53XnCdLusb"
      },
      "execution_count": null,
      "outputs": []
    },
    {
      "cell_type": "code",
      "source": [
        "! python mysite/manage.py migrate"
      ],
      "metadata": {
        "colab": {
          "base_uri": "https://localhost:8080/"
        },
        "id": "01_IjeyrL0xY",
        "outputId": "36478368-8567-4e20-c279-2a8702d7bdfa"
      },
      "execution_count": null,
      "outputs": [
        {
          "output_type": "stream",
          "name": "stdout",
          "text": [
            "\u001b[36;1mOperations to perform:\u001b[0m\n",
            "\u001b[1m  Apply all migrations: \u001b[0madmin, auth, contenttypes, sessions\n",
            "\u001b[36;1mRunning migrations:\u001b[0m\n",
            "  Applying contenttypes.0001_initial...\u001b[32;1m OK\u001b[0m\n",
            "  Applying auth.0001_initial...\u001b[32;1m OK\u001b[0m\n",
            "  Applying admin.0001_initial...\u001b[32;1m OK\u001b[0m\n",
            "  Applying admin.0002_logentry_remove_auto_add...\u001b[32;1m OK\u001b[0m\n",
            "  Applying admin.0003_logentry_add_action_flag_choices...\u001b[32;1m OK\u001b[0m\n",
            "  Applying contenttypes.0002_remove_content_type_name...\u001b[32;1m OK\u001b[0m\n",
            "  Applying auth.0002_alter_permission_name_max_length...\u001b[32;1m OK\u001b[0m\n",
            "  Applying auth.0003_alter_user_email_max_length...\u001b[32;1m OK\u001b[0m\n",
            "  Applying auth.0004_alter_user_username_opts...\u001b[32;1m OK\u001b[0m\n",
            "  Applying auth.0005_alter_user_last_login_null...\u001b[32;1m OK\u001b[0m\n",
            "  Applying auth.0006_require_contenttypes_0002...\u001b[32;1m OK\u001b[0m\n",
            "  Applying auth.0007_alter_validators_add_error_messages...\u001b[32;1m OK\u001b[0m\n",
            "  Applying auth.0008_alter_user_username_max_length...\u001b[32;1m OK\u001b[0m\n",
            "  Applying auth.0009_alter_user_last_name_max_length...\u001b[32;1m OK\u001b[0m\n",
            "  Applying auth.0010_alter_group_name_max_length...\u001b[32;1m OK\u001b[0m\n",
            "  Applying auth.0011_update_proxy_permissions...\u001b[32;1m OK\u001b[0m\n",
            "  Applying auth.0012_alter_user_first_name_max_length...\u001b[32;1m OK\u001b[0m\n",
            "  Applying sessions.0001_initial...\u001b[32;1m OK\u001b[0m\n"
          ]
        }
      ]
    },
    {
      "cell_type": "markdown",
      "source": [
        "ColabでWebサーバを起動する前に、外部から開くっセスできるようにsettings.pyのL28を修正する。<br>\n",
        "ALLOWED_HOSTS = ['colab.research.google.com']"
      ],
      "metadata": {
        "id": "u-dQlKFJNgRN"
      }
    },
    {
      "cell_type": "code",
      "source": [
        "# ブラウザからサーバにアクセスするURLを調べる\n",
        "from google.colab.output import eval_js\n",
        "print(eval_js('google.colab.kernel.proxyPort(8000)'))"
      ],
      "metadata": {
        "colab": {
          "base_uri": "https://localhost:8080/",
          "height": 34
        },
        "id": "vlwmFwgGML0c",
        "outputId": "64a7142e-c372-408b-802d-15f135f46cd6"
      },
      "execution_count": null,
      "outputs": [
        {
          "output_type": "stream",
          "name": "stdout",
          "text": [
            "https://25uckzmebbf-496ff2e9c6d22116-8000-colab.googleusercontent.com/\n"
          ]
        }
      ]
    },
    {
      "cell_type": "code",
      "source": [
        "# Webサーバ起動\n",
        "!python mysite/manage.py runserver"
      ],
      "metadata": {
        "colab": {
          "base_uri": "https://localhost:8080/"
        },
        "id": "7eaommmWM81b",
        "outputId": "c88e5e7e-5b9b-458b-f809-6c78535daa0f"
      },
      "execution_count": null,
      "outputs": [
        {
          "output_type": "stream",
          "name": "stdout",
          "text": [
            "Watching for file changes with StatReloader\n",
            "Performing system checks...\n",
            "\n",
            "System check identified no issues (0 silenced).\n",
            "January 21, 2024 - 08:53:02\n",
            "Django version 5.0.1, using settings 'mysite.settings'\n",
            "Starting development server at http://127.0.0.1:8000/\n",
            "Quit the server with CONTROL-C.\n",
            "\n"
          ]
        }
      ]
    },
    {
      "cell_type": "markdown",
      "source": [
        "2章 ここからはGoogleドライブでマウントして実行。上のサーバは停止すること"
      ],
      "metadata": {
        "id": "iZd_OJK_Ohus"
      }
    },
    {
      "cell_type": "code",
      "source": [
        "%cd /content/drive/MyDrive\n",
        "! django-admin startproject mysite"
      ],
      "metadata": {
        "colab": {
          "base_uri": "https://localhost:8080/"
        },
        "id": "RE8aPLc4NFE8",
        "outputId": "b6c9bca8-230b-46b3-e101-59149957959a"
      },
      "execution_count": null,
      "outputs": [
        {
          "output_type": "stream",
          "name": "stdout",
          "text": [
            "/content/drive/MyDrive\n"
          ]
        }
      ]
    },
    {
      "cell_type": "code",
      "source": [
        "%cd /content/drive/MyDrive/\n",
        "!python mysite/manage.py migrate"
      ],
      "metadata": {
        "colab": {
          "base_uri": "https://localhost:8080/"
        },
        "id": "ZkOqSN1hO1PH",
        "outputId": "6a2e6e8a-c349-47a5-fdbe-48a918cf3b76"
      },
      "execution_count": null,
      "outputs": [
        {
          "output_type": "stream",
          "name": "stdout",
          "text": [
            "/content/drive/MyDrive\n",
            "\u001b[36;1mOperations to perform:\u001b[0m\n",
            "\u001b[1m  Apply all migrations: \u001b[0madmin, auth, contenttypes, sessions\n",
            "\u001b[36;1mRunning migrations:\u001b[0m\n",
            "  Applying contenttypes.0001_initial...\u001b[32;1m OK\u001b[0m\n",
            "  Applying auth.0001_initial...\u001b[32;1m OK\u001b[0m\n",
            "  Applying admin.0001_initial...\u001b[32;1m OK\u001b[0m\n",
            "  Applying admin.0002_logentry_remove_auto_add...\u001b[32;1m OK\u001b[0m\n",
            "  Applying admin.0003_logentry_add_action_flag_choices...\u001b[32;1m OK\u001b[0m\n",
            "  Applying contenttypes.0002_remove_content_type_name...\u001b[32;1m OK\u001b[0m\n",
            "  Applying auth.0002_alter_permission_name_max_length...\u001b[32;1m OK\u001b[0m\n",
            "  Applying auth.0003_alter_user_email_max_length...\u001b[32;1m OK\u001b[0m\n",
            "  Applying auth.0004_alter_user_username_opts...\u001b[32;1m OK\u001b[0m\n",
            "  Applying auth.0005_alter_user_last_login_null...\u001b[32;1m OK\u001b[0m\n",
            "  Applying auth.0006_require_contenttypes_0002...\u001b[32;1m OK\u001b[0m\n",
            "  Applying auth.0007_alter_validators_add_error_messages...\u001b[32;1m OK\u001b[0m\n",
            "  Applying auth.0008_alter_user_username_max_length...\u001b[32;1m OK\u001b[0m\n",
            "  Applying auth.0009_alter_user_last_name_max_length...\u001b[32;1m OK\u001b[0m\n",
            "  Applying auth.0010_alter_group_name_max_length...\u001b[32;1m OK\u001b[0m\n",
            "  Applying auth.0011_update_proxy_permissions...\u001b[32;1m OK\u001b[0m\n",
            "  Applying auth.0012_alter_user_first_name_max_length...\u001b[32;1m OK\u001b[0m\n",
            "  Applying sessions.0001_initial...\u001b[32;1m OK\u001b[0m\n"
          ]
        }
      ]
    },
    {
      "cell_type": "code",
      "source": [
        "# ブラウザからサーバにアクセスするURLを調べる\n",
        "from google.colab.output import eval_js\n",
        "print(eval_js('google.colab.kernel.proxyPort(8000)'))"
      ],
      "metadata": {
        "colab": {
          "base_uri": "https://localhost:8080/",
          "height": 34
        },
        "id": "42F8NzQePyT0",
        "outputId": "99ad7874-983b-4bcf-ca91-87c7aa9872ab"
      },
      "execution_count": 21,
      "outputs": [
        {
          "output_type": "stream",
          "name": "stdout",
          "text": [
            "https://gvjbqlqs5tc-496ff2e9c6d22116-8000-colab.googleusercontent.com/\n"
          ]
        }
      ]
    },
    {
      "cell_type": "code",
      "source": [
        "# Webサーバ起動\n",
        "!python mysite/manage.py runserver"
      ],
      "metadata": {
        "colab": {
          "base_uri": "https://localhost:8080/"
        },
        "id": "JFNNWJi2QMq-",
        "outputId": "c6a1fc5e-3a7d-415c-b187-d4a1a57a0f1b"
      },
      "execution_count": null,
      "outputs": [
        {
          "output_type": "stream",
          "name": "stdout",
          "text": [
            "python3: can't open file '/content/drive/MyDrive/mysite/mysite/manage.py': [Errno 2] No such file or directory\n"
          ]
        }
      ]
    },
    {
      "cell_type": "code",
      "source": [
        "# アプリの雛形を作成\n",
        "%cd /content/drive/MyDrive/mysite\n",
        "! django-admin startapp hello"
      ],
      "metadata": {
        "colab": {
          "base_uri": "https://localhost:8080/"
        },
        "id": "oTra5tApQOzc",
        "outputId": "035e5e56-1ef0-44b8-bbcd-51eaca9c5fb5"
      },
      "execution_count": null,
      "outputs": [
        {
          "output_type": "stream",
          "name": "stdout",
          "text": [
            "/content/drive/MyDrive/mysite\n"
          ]
        }
      ]
    },
    {
      "cell_type": "markdown",
      "source": [
        "アプリケーションは作成しただけでは使えない<br>\n",
        "mysite/mysite/settings.py内のINSTALLED_APPSに'hello'を追加する"
      ],
      "metadata": {
        "id": "EC9SSDUVRFXv"
      }
    },
    {
      "cell_type": "markdown",
      "source": [
        "「こんにちは」と表示するWebページを\n",
        "生成するビュー関数を作成する\n",
        "◼ 先ほど生成したhelloアプリケーションには、すでに、ビュー関数の\n",
        "ひな形（以下）が作成されているので、それを修正する\n",
        "◼ mysite/hello/views.py"
      ],
      "metadata": {
        "id": "J6SX0m6gRuL3"
      }
    },
    {
      "cell_type": "markdown",
      "source": [
        "今回は、ブラウザで、サーバのURL以外何も指定\n",
        "しなかった時に、helloのURLディスパッチャを\n",
        "読み込むようにする\n",
        "\n",
        "作成したurls.pyを開き、以下のディスパッチャを書く"
      ],
      "metadata": {
        "id": "ZjnpL2sRS0ex"
      }
    },
    {
      "cell_type": "code",
      "source": [
        "%cd /content/drive/MyDrive\n",
        "!python mysite/manage.py runserver"
      ],
      "metadata": {
        "colab": {
          "base_uri": "https://localhost:8080/"
        },
        "id": "Xyd2MB2xQ5mF",
        "outputId": "d40520b3-ee21-4bde-d1f0-c0de47d32907"
      },
      "execution_count": 22,
      "outputs": [
        {
          "output_type": "stream",
          "name": "stdout",
          "text": [
            "/content/drive/MyDrive\n",
            "Watching for file changes with StatReloader\n",
            "Performing system checks...\n",
            "\n",
            "System check identified no issues (0 silenced).\n",
            "January 21, 2024 - 09:34:57\n",
            "Django version 5.0.1, using settings 'mysite.settings'\n",
            "Starting development server at http://127.0.0.1:8000/\n",
            "Quit the server with CONTROL-C.\n",
            "\n",
            "[21/Jan/2024 09:35:03] \u001b[m\"GET / HTTP/1.1\" 200 36\u001b[0m\n",
            "Not Found: /favicon.ico\n",
            "[21/Jan/2024 09:35:04] \u001b[33m\"GET /favicon.ico HTTP/1.1\" 404 2268\u001b[0m\n",
            "[21/Jan/2024 09:35:06] \u001b[m\"GET / HTTP/1.1\" 200 36\u001b[0m\n",
            "Not Found: /favicon.ico\n",
            "[21/Jan/2024 09:35:06] \u001b[33m\"GET /favicon.ico HTTP/1.1\" 404 2268\u001b[0m\n",
            "/content/drive/MyDrive/mysite/hello/views.py changed, reloading.\n",
            "Watching for file changes with StatReloader\n",
            "Performing system checks...\n",
            "\n",
            "Exception in thread django-main-thread:\n",
            "Traceback (most recent call last):\n",
            "  File \"/usr/lib/python3.10/threading.py\", line 1016, in _bootstrap_inner\n",
            "    self.run()\n",
            "  File \"/usr/lib/python3.10/threading.py\", line 953, in run\n",
            "    self._target(*self._args, **self._kwargs)\n",
            "  File \"/usr/local/lib/python3.10/dist-packages/django/utils/autoreload.py\", line 64, in wrapper\n",
            "    fn(*args, **kwargs)\n",
            "  File \"/usr/local/lib/python3.10/dist-packages/django/core/management/commands/runserver.py\", line 133, in inner_run\n",
            "    self.check(display_num_errors=True)\n",
            "  File \"/usr/local/lib/python3.10/dist-packages/django/core/management/base.py\", line 485, in check\n",
            "    all_issues = checks.run_checks(\n",
            "  File \"/usr/local/lib/python3.10/dist-packages/django/core/checks/registry.py\", line 88, in run_checks\n",
            "    new_errors = check(app_configs=app_configs, databases=databases)\n",
            "  File \"/usr/local/lib/python3.10/dist-packages/django/core/checks/urls.py\", line 14, in check_url_config\n",
            "    return check_resolver(resolver)\n",
            "  File \"/usr/local/lib/python3.10/dist-packages/django/core/checks/urls.py\", line 24, in check_resolver\n",
            "    return check_method()\n",
            "  File \"/usr/local/lib/python3.10/dist-packages/django/urls/resolvers.py\", line 516, in check\n",
            "    for pattern in self.url_patterns:\n",
            "  File \"/usr/local/lib/python3.10/dist-packages/django/utils/functional.py\", line 47, in __get__\n",
            "    res = instance.__dict__[self.name] = self.func(instance)\n",
            "  File \"/usr/local/lib/python3.10/dist-packages/django/urls/resolvers.py\", line 735, in url_patterns\n",
            "    patterns = getattr(self.urlconf_module, \"urlpatterns\", self.urlconf_module)\n",
            "  File \"/usr/local/lib/python3.10/dist-packages/django/utils/functional.py\", line 47, in __get__\n",
            "    res = instance.__dict__[self.name] = self.func(instance)\n",
            "  File \"/usr/local/lib/python3.10/dist-packages/django/urls/resolvers.py\", line 728, in urlconf_module\n",
            "    return import_module(self.urlconf_name)\n",
            "  File \"/usr/lib/python3.10/importlib/__init__.py\", line 126, in import_module\n",
            "    return _bootstrap._gcd_import(name[level:], package, level)\n",
            "  File \"<frozen importlib._bootstrap>\", line 1050, in _gcd_import\n",
            "  File \"<frozen importlib._bootstrap>\", line 1027, in _find_and_load\n",
            "  File \"<frozen importlib._bootstrap>\", line 1006, in _find_and_load_unlocked\n",
            "  File \"<frozen importlib._bootstrap>\", line 688, in _load_unlocked\n",
            "  File \"<frozen importlib._bootstrap_external>\", line 883, in exec_module\n",
            "  File \"<frozen importlib._bootstrap>\", line 241, in _call_with_frames_removed\n",
            "  File \"/content/drive/MyDrive/mysite/mysite/urls.py\", line 22, in <module>\n",
            "    path('', include('hello.urls')) # 何もURLに指定しないでアクセスした場合\n",
            "  File \"/usr/local/lib/python3.10/dist-packages/django/urls/conf.py\", line 38, in include\n",
            "    urlconf_module = import_module(urlconf_module)\n",
            "  File \"/usr/lib/python3.10/importlib/__init__.py\", line 126, in import_module\n",
            "    return _bootstrap._gcd_import(name[level:], package, level)\n",
            "  File \"<frozen importlib._bootstrap>\", line 1050, in _gcd_import\n",
            "  File \"<frozen importlib._bootstrap>\", line 1027, in _find_and_load\n",
            "  File \"<frozen importlib._bootstrap>\", line 1006, in _find_and_load_unlocked\n",
            "  File \"<frozen importlib._bootstrap>\", line 688, in _load_unlocked\n",
            "  File \"<frozen importlib._bootstrap_external>\", line 883, in exec_module\n",
            "  File \"<frozen importlib._bootstrap>\", line 241, in _call_with_frames_removed\n",
            "  File \"/content/drive/MyDrive/mysite/hello/urls.py\", line 2, in <module>\n",
            "    from . import views # 作成したビュー関数を読み込む\n",
            "  File \"/content/drive/MyDrive/mysite/hello/views.py\", line 18\n",
            "    url = 'https://weather.tsukumijima.net/api/forecast/city/'\n",
            "    ^\n",
            "IndentationError: expected an indented block after function definition on line 17\n",
            "/content/drive/MyDrive/mysite/hello/views.py changed, reloading.\n",
            "Watching for file changes with StatReloader\n",
            "Performing system checks...\n",
            "\n",
            "System check identified no issues (0 silenced).\n",
            "January 21, 2024 - 09:37:44\n",
            "Django version 5.0.1, using settings 'mysite.settings'\n",
            "Starting development server at http://127.0.0.1:8000/\n",
            "Quit the server with CONTROL-C.\n",
            "\n",
            "/content/drive/MyDrive/mysite/hello/views.py changed, reloading.\n",
            "Watching for file changes with StatReloader\n",
            "Performing system checks...\n",
            "\n",
            "System check identified no issues (0 silenced).\n",
            "January 21, 2024 - 09:37:46\n",
            "Django version 5.0.1, using settings 'mysite.settings'\n",
            "Starting development server at http://127.0.0.1:8000/\n",
            "Quit the server with CONTROL-C.\n",
            "\n",
            "/content/drive/MyDrive/mysite/hello/views.py changed, reloading.\n",
            "Watching for file changes with StatReloader\n",
            "Performing system checks...\n",
            "\n",
            "System check identified no issues (0 silenced).\n",
            "January 21, 2024 - 09:37:55\n",
            "Django version 5.0.1, using settings 'mysite.settings'\n",
            "Starting development server at http://127.0.0.1:8000/\n",
            "Quit the server with CONTROL-C.\n",
            "\n",
            "/content/drive/MyDrive/mysite/hello/urls.py changed, reloading.\n",
            "Watching for file changes with StatReloader\n",
            "Performing system checks...\n",
            "\n",
            "System check identified no issues (0 silenced).\n",
            "January 21, 2024 - 09:38:00\n",
            "Django version 5.0.1, using settings 'mysite.settings'\n",
            "Starting development server at http://127.0.0.1:8000/\n",
            "Quit the server with CONTROL-C.\n",
            "\n",
            "/content/drive/MyDrive/mysite/hello/urls.py changed, reloading.\n",
            "Watching for file changes with StatReloader\n",
            "Performing system checks...\n",
            "\n",
            "System check identified no issues (0 silenced).\n",
            "January 21, 2024 - 09:38:02\n",
            "Django version 5.0.1, using settings 'mysite.settings'\n",
            "Starting development server at http://127.0.0.1:8000/\n",
            "Quit the server with CONTROL-C.\n",
            "\n",
            "[21/Jan/2024 09:38:37] \u001b[m\"GET / HTTP/1.1\" 200 48\u001b[0m\n",
            "Not Found: /favicon.ico\n",
            "[21/Jan/2024 09:38:38] \u001b[33m\"GET /favicon.ico HTTP/1.1\" 404 2268\u001b[0m\n",
            "/content/drive/MyDrive/mysite/hello/views.py changed, reloading.\n",
            "Watching for file changes with StatReloader\n",
            "Performing system checks...\n",
            "\n",
            "System check identified no issues (0 silenced).\n",
            "January 21, 2024 - 09:42:20\n",
            "Django version 5.0.1, using settings 'mysite.settings'\n",
            "Starting development server at http://127.0.0.1:8000/\n",
            "Quit the server with CONTROL-C.\n",
            "\n",
            "/content/drive/MyDrive/mysite/hello/views.py changed, reloading.\n",
            "Watching for file changes with StatReloader\n",
            "Performing system checks...\n",
            "\n",
            "System check identified no issues (0 silenced).\n",
            "January 21, 2024 - 09:42:24\n",
            "Django version 5.0.1, using settings 'mysite.settings'\n",
            "Starting development server at http://127.0.0.1:8000/\n",
            "Quit the server with CONTROL-C.\n",
            "\n",
            "/content/drive/MyDrive/mysite/hello/views.py changed, reloading.\n",
            "Watching for file changes with StatReloader\n",
            "Performing system checks...\n",
            "\n",
            "System check identified no issues (0 silenced).\n",
            "January 21, 2024 - 09:42:42\n",
            "Django version 5.0.1, using settings 'mysite.settings'\n",
            "Starting development server at http://127.0.0.1:8000/\n",
            "Quit the server with CONTROL-C.\n",
            "\n",
            "/content/drive/MyDrive/mysite/hello/urls.py changed, reloading.\n",
            "Watching for file changes with StatReloader\n",
            "Performing system checks...\n",
            "\n",
            "System check identified no issues (0 silenced).\n",
            "January 21, 2024 - 09:42:46\n",
            "Django version 5.0.1, using settings 'mysite.settings'\n",
            "Starting development server at http://127.0.0.1:8000/\n",
            "Quit the server with CONTROL-C.\n",
            "\n",
            "/content/drive/MyDrive/mysite/hello/urls.py changed, reloading.\n",
            "Watching for file changes with StatReloader\n",
            "Performing system checks...\n",
            "\n",
            "System check identified no issues (0 silenced).\n",
            "January 21, 2024 - 09:42:47\n",
            "Django version 5.0.1, using settings 'mysite.settings'\n",
            "Starting development server at http://127.0.0.1:8000/\n",
            "Quit the server with CONTROL-C.\n",
            "\n",
            "/content/drive/MyDrive/mysite/hello/urls.py changed, reloading.\n",
            "Watching for file changes with StatReloader\n",
            "Performing system checks...\n",
            "\n",
            "System check identified no issues (0 silenced).\n",
            "January 21, 2024 - 09:42:50\n",
            "Django version 5.0.1, using settings 'mysite.settings'\n",
            "Starting development server at http://127.0.0.1:8000/\n",
            "Quit the server with CONTROL-C.\n",
            "\n",
            "/content/drive/MyDrive/mysite/hello/urls.py changed, reloading.\n",
            "Watching for file changes with StatReloader\n",
            "Performing system checks...\n",
            "\n",
            "System check identified no issues (0 silenced).\n",
            "January 21, 2024 - 09:42:54\n",
            "Django version 5.0.1, using settings 'mysite.settings'\n",
            "Starting development server at http://127.0.0.1:8000/\n",
            "Quit the server with CONTROL-C.\n",
            "\n",
            "[21/Jan/2024 09:42:58] \u001b[m\"GET /omikuji HTTP/1.1\" 200 174\u001b[0m\n",
            "Not Found: /favicon.ico\n",
            "[21/Jan/2024 09:42:59] \u001b[33m\"GET /favicon.ico HTTP/1.1\" 404 2422\u001b[0m\n",
            "/content/drive/MyDrive/mysite/hello/urls.py changed, reloading.\n",
            "Watching for file changes with StatReloader\n",
            "Performing system checks...\n",
            "\n",
            "System check identified no issues (0 silenced).\n",
            "January 21, 2024 - 09:44:44\n",
            "Django version 5.0.1, using settings 'mysite.settings'\n",
            "Starting development server at http://127.0.0.1:8000/\n",
            "Quit the server with CONTROL-C.\n",
            "\n",
            "/content/drive/MyDrive/mysite/hello/urls.py changed, reloading.\n",
            "Watching for file changes with StatReloader\n",
            "Performing system checks...\n",
            "\n",
            "Exception in thread django-main-thread:\n",
            "Traceback (most recent call last):\n",
            "  File \"/usr/lib/python3.10/threading.py\", line 1016, in _bootstrap_inner\n",
            "    self.run()\n",
            "  File \"/usr/lib/python3.10/threading.py\", line 953, in run\n",
            "    self._target(*self._args, **self._kwargs)\n",
            "  File \"/usr/local/lib/python3.10/dist-packages/django/utils/autoreload.py\", line 64, in wrapper\n",
            "    fn(*args, **kwargs)\n",
            "  File \"/usr/local/lib/python3.10/dist-packages/django/core/management/commands/runserver.py\", line 133, in inner_run\n",
            "    self.check(display_num_errors=True)\n",
            "  File \"/usr/local/lib/python3.10/dist-packages/django/core/management/base.py\", line 485, in check\n",
            "    all_issues = checks.run_checks(\n",
            "  File \"/usr/local/lib/python3.10/dist-packages/django/core/checks/registry.py\", line 88, in run_checks\n",
            "    new_errors = check(app_configs=app_configs, databases=databases)\n",
            "  File \"/usr/local/lib/python3.10/dist-packages/django/core/checks/urls.py\", line 14, in check_url_config\n",
            "    return check_resolver(resolver)\n",
            "  File \"/usr/local/lib/python3.10/dist-packages/django/core/checks/urls.py\", line 24, in check_resolver\n",
            "    return check_method()\n",
            "  File \"/usr/local/lib/python3.10/dist-packages/django/urls/resolvers.py\", line 516, in check\n",
            "    for pattern in self.url_patterns:\n",
            "  File \"/usr/local/lib/python3.10/dist-packages/django/utils/functional.py\", line 47, in __get__\n",
            "    res = instance.__dict__[self.name] = self.func(instance)\n",
            "  File \"/usr/local/lib/python3.10/dist-packages/django/urls/resolvers.py\", line 735, in url_patterns\n",
            "    patterns = getattr(self.urlconf_module, \"urlpatterns\", self.urlconf_module)\n",
            "  File \"/usr/local/lib/python3.10/dist-packages/django/utils/functional.py\", line 47, in __get__\n",
            "    res = instance.__dict__[self.name] = self.func(instance)\n",
            "  File \"/usr/local/lib/python3.10/dist-packages/django/urls/resolvers.py\", line 728, in urlconf_module\n",
            "    return import_module(self.urlconf_name)\n",
            "  File \"/usr/lib/python3.10/importlib/__init__.py\", line 126, in import_module\n",
            "    return _bootstrap._gcd_import(name[level:], package, level)\n",
            "  File \"<frozen importlib._bootstrap>\", line 1050, in _gcd_import\n",
            "  File \"<frozen importlib._bootstrap>\", line 1027, in _find_and_load\n",
            "  File \"<frozen importlib._bootstrap>\", line 1006, in _find_and_load_unlocked\n",
            "  File \"<frozen importlib._bootstrap>\", line 688, in _load_unlocked\n",
            "  File \"<frozen importlib._bootstrap_external>\", line 883, in exec_module\n",
            "  File \"<frozen importlib._bootstrap>\", line 241, in _call_with_frames_removed\n",
            "  File \"/content/drive/MyDrive/mysite/mysite/urls.py\", line 22, in <module>\n",
            "    path('', include('hello.urls')) # 何もURLに指定しないでアクセスした場合\n",
            "  File \"/usr/local/lib/python3.10/dist-packages/django/urls/conf.py\", line 38, in include\n",
            "    urlconf_module = import_module(urlconf_module)\n",
            "  File \"/usr/lib/python3.10/importlib/__init__.py\", line 126, in import_module\n",
            "    return _bootstrap._gcd_import(name[level:], package, level)\n",
            "  File \"<frozen importlib._bootstrap>\", line 1050, in _gcd_import\n",
            "  File \"<frozen importlib._bootstrap>\", line 1027, in _find_and_load\n",
            "  File \"<frozen importlib._bootstrap>\", line 1006, in _find_and_load_unlocked\n",
            "  File \"<frozen importlib._bootstrap>\", line 688, in _load_unlocked\n",
            "  File \"<frozen importlib._bootstrap_external>\", line 879, in exec_module\n",
            "  File \"<frozen importlib._bootstrap_external>\", line 1017, in get_code\n",
            "  File \"<frozen importlib._bootstrap_external>\", line 947, in source_to_code\n",
            "  File \"<frozen importlib._bootstrap>\", line 241, in _call_with_frames_removed\n",
            "  File \"/content/drive/MyDrive/mysite/hello/urls.py\", line 10\n",
            "    path('form', views2.),\n",
            "                        ^\n",
            "SyntaxError: invalid syntax\n",
            "/content/drive/MyDrive/mysite/hello/urls.py changed, reloading.\n",
            "Watching for file changes with StatReloader\n",
            "Performing system checks...\n",
            "\n",
            "System check identified no issues (0 silenced).\n",
            "January 21, 2024 - 09:48:17\n",
            "Django version 5.0.1, using settings 'mysite.settings'\n",
            "Starting development server at http://127.0.0.1:8000/\n",
            "Quit the server with CONTROL-C.\n",
            "\n",
            "/content/drive/MyDrive/mysite/hello/urls.py changed, reloading.\n",
            "Watching for file changes with StatReloader\n",
            "Performing system checks...\n",
            "\n",
            "System check identified no issues (0 silenced).\n",
            "January 21, 2024 - 09:48:19\n",
            "Django version 5.0.1, using settings 'mysite.settings'\n",
            "Starting development server at http://127.0.0.1:8000/\n",
            "Quit the server with CONTROL-C.\n",
            "\n",
            "[21/Jan/2024 09:48:24] \u001b[m\"GET /form HTTP/1.1\" 200 504\u001b[0m\n",
            "Not Found: /favicon.ico\n",
            "[21/Jan/2024 09:48:24] \u001b[33m\"GET /favicon.ico HTTP/1.1\" 404 2573\u001b[0m\n",
            "Forbidden (Origin checking failed - https://colab.research.google.com does not match any trusted origins.): /form\n",
            "[21/Jan/2024 09:48:37] \u001b[31;1m\"POST /form HTTP/1.1\" 403 2580\u001b[0m\n",
            "[21/Jan/2024 09:48:40] \u001b[m\"GET /omikuji HTTP/1.1\" 200 174\u001b[0m\n",
            "Not Found: /favicon.ico\n",
            "[21/Jan/2024 09:48:40] \u001b[33m\"GET /favicon.ico HTTP/1.1\" 404 2573\u001b[0m\n",
            "[21/Jan/2024 09:48:47] \u001b[m\"GET /form HTTP/1.1\" 200 504\u001b[0m\n",
            "Not Found: /favicon.ico\n",
            "[21/Jan/2024 09:48:47] \u001b[33m\"GET /favicon.ico HTTP/1.1\" 404 2573\u001b[0m\n",
            "/content/drive/MyDrive/mysite/hello/urls.py changed, reloading.\n",
            "Watching for file changes with StatReloader\n",
            "Performing system checks...\n",
            "\n",
            "System check identified no issues (0 silenced).\n",
            "January 21, 2024 - 09:50:09\n",
            "Django version 5.0.1, using settings 'mysite.settings'\n",
            "Starting development server at http://127.0.0.1:8000/\n",
            "Quit the server with CONTROL-C.\n",
            "\n",
            "/content/drive/MyDrive/mysite/hello/views2.py changed, reloading.\n",
            "Watching for file changes with StatReloader\n",
            "Performing system checks...\n",
            "\n",
            "System check identified no issues (0 silenced).\n",
            "January 21, 2024 - 09:51:37\n",
            "Django version 5.0.1, using settings 'mysite.settings'\n",
            "Starting development server at http://127.0.0.1:8000/\n",
            "Quit the server with CONTROL-C.\n",
            "\n",
            "/content/drive/MyDrive/mysite/hello/views2.py changed, reloading.\n",
            "Watching for file changes with StatReloader\n",
            "Performing system checks...\n",
            "\n",
            "System check identified no issues (0 silenced).\n",
            "January 21, 2024 - 09:51:39\n",
            "Django version 5.0.1, using settings 'mysite.settings'\n",
            "Starting development server at http://127.0.0.1:8000/\n",
            "Quit the server with CONTROL-C.\n",
            "\n",
            "/content/drive/MyDrive/mysite/hello/views2.py changed, reloading.\n",
            "Watching for file changes with StatReloader\n",
            "Performing system checks...\n",
            "\n",
            "System check identified no issues (0 silenced).\n",
            "January 21, 2024 - 09:51:41\n",
            "Django version 5.0.1, using settings 'mysite.settings'\n",
            "Starting development server at http://127.0.0.1:8000/\n",
            "Quit the server with CONTROL-C.\n",
            "\n",
            "/content/drive/MyDrive/mysite/hello/views2.py changed, reloading.\n",
            "Watching for file changes with StatReloader\n",
            "Performing system checks...\n",
            "\n",
            "Exception in thread django-main-thread:\n",
            "Traceback (most recent call last):\n",
            "  File \"/usr/lib/python3.10/threading.py\", line 1016, in _bootstrap_inner\n",
            "    self.run()\n",
            "  File \"/usr/lib/python3.10/threading.py\", line 953, in run\n",
            "    self._target(*self._args, **self._kwargs)\n",
            "  File \"/usr/local/lib/python3.10/dist-packages/django/utils/autoreload.py\", line 64, in wrapper\n",
            "    fn(*args, **kwargs)\n",
            "  File \"/usr/local/lib/python3.10/dist-packages/django/core/management/commands/runserver.py\", line 133, in inner_run\n",
            "    self.check(display_num_errors=True)\n",
            "  File \"/usr/local/lib/python3.10/dist-packages/django/core/management/base.py\", line 485, in check\n",
            "    all_issues = checks.run_checks(\n",
            "  File \"/usr/local/lib/python3.10/dist-packages/django/core/checks/registry.py\", line 88, in run_checks\n",
            "    new_errors = check(app_configs=app_configs, databases=databases)\n",
            "  File \"/usr/local/lib/python3.10/dist-packages/django/core/checks/urls.py\", line 14, in check_url_config\n",
            "    return check_resolver(resolver)\n",
            "  File \"/usr/local/lib/python3.10/dist-packages/django/core/checks/urls.py\", line 24, in check_resolver\n",
            "    return check_method()\n",
            "  File \"/usr/local/lib/python3.10/dist-packages/django/urls/resolvers.py\", line 516, in check\n",
            "    for pattern in self.url_patterns:\n",
            "  File \"/usr/local/lib/python3.10/dist-packages/django/utils/functional.py\", line 47, in __get__\n",
            "    res = instance.__dict__[self.name] = self.func(instance)\n",
            "  File \"/usr/local/lib/python3.10/dist-packages/django/urls/resolvers.py\", line 735, in url_patterns\n",
            "    patterns = getattr(self.urlconf_module, \"urlpatterns\", self.urlconf_module)\n",
            "  File \"/usr/local/lib/python3.10/dist-packages/django/utils/functional.py\", line 47, in __get__\n",
            "    res = instance.__dict__[self.name] = self.func(instance)\n",
            "  File \"/usr/local/lib/python3.10/dist-packages/django/urls/resolvers.py\", line 728, in urlconf_module\n",
            "    return import_module(self.urlconf_name)\n",
            "  File \"/usr/lib/python3.10/importlib/__init__.py\", line 126, in import_module\n",
            "    return _bootstrap._gcd_import(name[level:], package, level)\n",
            "  File \"<frozen importlib._bootstrap>\", line 1050, in _gcd_import\n",
            "  File \"<frozen importlib._bootstrap>\", line 1027, in _find_and_load\n",
            "  File \"<frozen importlib._bootstrap>\", line 1006, in _find_and_load_unlocked\n",
            "  File \"<frozen importlib._bootstrap>\", line 688, in _load_unlocked\n",
            "  File \"<frozen importlib._bootstrap_external>\", line 883, in exec_module\n",
            "  File \"<frozen importlib._bootstrap>\", line 241, in _call_with_frames_removed\n",
            "  File \"/content/drive/MyDrive/mysite/mysite/urls.py\", line 22, in <module>\n",
            "    path('', include('hello.urls')) # 何もURLに指定しないでアクセスした場合\n",
            "  File \"/usr/local/lib/python3.10/dist-packages/django/urls/conf.py\", line 38, in include\n",
            "    urlconf_module = import_module(urlconf_module)\n",
            "  File \"/usr/lib/python3.10/importlib/__init__.py\", line 126, in import_module\n",
            "    return _bootstrap._gcd_import(name[level:], package, level)\n",
            "  File \"<frozen importlib._bootstrap>\", line 1050, in _gcd_import\n",
            "  File \"<frozen importlib._bootstrap>\", line 1027, in _find_and_load\n",
            "  File \"<frozen importlib._bootstrap>\", line 1006, in _find_and_load_unlocked\n",
            "  File \"<frozen importlib._bootstrap>\", line 688, in _load_unlocked\n",
            "  File \"<frozen importlib._bootstrap_external>\", line 883, in exec_module\n",
            "  File \"<frozen importlib._bootstrap>\", line 241, in _call_with_frames_removed\n",
            "  File \"/content/drive/MyDrive/mysite/hello/urls.py\", line 3, in <module>\n",
            "    from . import views2\n",
            "  File \"/content/drive/MyDrive/mysite/hello/views2.py\", line 8, in <module>\n",
            "    @csrf_exempt\n",
            "NameError: name 'csrf_exempt' is not defined\n",
            "/content/drive/MyDrive/mysite/hello/views2.py changed, reloading.\n",
            "Watching for file changes with StatReloader\n",
            "Performing system checks...\n",
            "\n",
            "System check identified no issues (0 silenced).\n",
            "January 21, 2024 - 09:51:55\n",
            "Django version 5.0.1, using settings 'mysite.settings'\n",
            "Starting development server at http://127.0.0.1:8000/\n",
            "Quit the server with CONTROL-C.\n",
            "\n",
            "/content/drive/MyDrive/mysite/hello/views2.py changed, reloading.\n",
            "Watching for file changes with StatReloader\n",
            "Performing system checks...\n",
            "\n",
            "System check identified no issues (0 silenced).\n",
            "January 21, 2024 - 09:51:57\n",
            "Django version 5.0.1, using settings 'mysite.settings'\n",
            "Starting development server at http://127.0.0.1:8000/\n",
            "Quit the server with CONTROL-C.\n",
            "\n",
            "[21/Jan/2024 09:51:57] \u001b[m\"GET /form HTTP/1.1\" 200 504\u001b[0m\n",
            "Not Found: /favicon.ico\n",
            "[21/Jan/2024 09:51:57] \u001b[33m\"GET /favicon.ico HTTP/1.1\" 404 2573\u001b[0m\n",
            "[21/Jan/2024 09:52:01] \u001b[m\"POST /form HTTP/1.1\" 200 507\u001b[0m\n",
            "Not Found: /favicon.ico\n",
            "[21/Jan/2024 09:52:02] \u001b[33m\"GET /favicon.ico HTTP/1.1\" 404 2573\u001b[0m\n",
            "/content/drive/MyDrive/mysite/hello/views2.py changed, reloading.\n",
            "Watching for file changes with StatReloader\n",
            "Performing system checks...\n",
            "\n",
            "System check identified no issues (0 silenced).\n",
            "January 21, 2024 - 09:53:21\n",
            "Django version 5.0.1, using settings 'mysite.settings'\n",
            "Starting development server at http://127.0.0.1:8000/\n",
            "Quit the server with CONTROL-C.\n",
            "\n",
            "/content/drive/MyDrive/mysite/hello/views2.py changed, reloading.\n",
            "Watching for file changes with StatReloader\n",
            "Performing system checks...\n",
            "\n",
            "System check identified no issues (0 silenced).\n",
            "January 21, 2024 - 09:54:00\n",
            "Django version 5.0.1, using settings 'mysite.settings'\n",
            "Starting development server at http://127.0.0.1:8000/\n",
            "Quit the server with CONTROL-C.\n",
            "\n",
            "/content/drive/MyDrive/mysite/hello/views2.py changed, reloading.\n",
            "Watching for file changes with StatReloader\n",
            "Performing system checks...\n",
            "\n",
            "System check identified no issues (0 silenced).\n",
            "January 21, 2024 - 09:54:04\n",
            "Django version 5.0.1, using settings 'mysite.settings'\n",
            "Starting development server at http://127.0.0.1:8000/\n",
            "Quit the server with CONTROL-C.\n",
            "\n",
            "[21/Jan/2024 09:54:05] \u001b[m\"POST /form HTTP/1.1\" 200 522\u001b[0m\n",
            "Not Found: /favicon.ico\n",
            "[21/Jan/2024 09:54:06] \u001b[33m\"GET /favicon.ico HTTP/1.1\" 404 2573\u001b[0m\n",
            "[21/Jan/2024 09:54:12] \u001b[m\"POST /form HTTP/1.1\" 200 522\u001b[0m\n",
            "Not Found: /favicon.ico\n",
            "[21/Jan/2024 09:54:12] \u001b[33m\"GET /favicon.ico HTTP/1.1\" 404 2573\u001b[0m\n",
            "[21/Jan/2024 09:54:16] \u001b[m\"POST /form HTTP/1.1\" 200 522\u001b[0m\n",
            "Not Found: /favicon.ico\n",
            "[21/Jan/2024 09:54:17] \u001b[33m\"GET /favicon.ico HTTP/1.1\" 404 2573\u001b[0m\n",
            "/content/drive/MyDrive/mysite/hello/views2.py changed, reloading.\n",
            "Watching for file changes with StatReloader\n",
            "Performing system checks...\n",
            "\n",
            "System check identified no issues (0 silenced).\n",
            "January 21, 2024 - 09:56:51\n",
            "Django version 5.0.1, using settings 'mysite.settings'\n",
            "Starting development server at http://127.0.0.1:8000/\n",
            "Quit the server with CONTROL-C.\n",
            "\n",
            "/content/drive/MyDrive/mysite/hello/views2.py changed, reloading.\n",
            "Watching for file changes with StatReloader\n",
            "Performing system checks...\n",
            "\n",
            "System check identified no issues (0 silenced).\n",
            "January 21, 2024 - 09:57:03\n",
            "Django version 5.0.1, using settings 'mysite.settings'\n",
            "Starting development server at http://127.0.0.1:8000/\n",
            "Quit the server with CONTROL-C.\n",
            "\n",
            "/content/drive/MyDrive/mysite/hello/views2.py changed, reloading.\n",
            "Watching for file changes with StatReloader\n",
            "Performing system checks...\n",
            "\n",
            "System check identified no issues (0 silenced).\n",
            "January 21, 2024 - 09:58:05\n",
            "Django version 5.0.1, using settings 'mysite.settings'\n",
            "Starting development server at http://127.0.0.1:8000/\n",
            "Quit the server with CONTROL-C.\n",
            "\n",
            "/content/drive/MyDrive/mysite/hello/views2.py changed, reloading.\n",
            "Watching for file changes with StatReloader\n",
            "Performing system checks...\n",
            "\n",
            "System check identified no issues (0 silenced).\n",
            "January 21, 2024 - 10:44:21\n",
            "Django version 5.0.1, using settings 'mysite.settings'\n",
            "Starting development server at http://127.0.0.1:8000/\n",
            "Quit the server with CONTROL-C.\n",
            "\n"
          ]
        }
      ]
    },
    {
      "cell_type": "code",
      "source": [],
      "metadata": {
        "id": "FbgGkepPT1Iu"
      },
      "execution_count": null,
      "outputs": []
    }
  ]
}