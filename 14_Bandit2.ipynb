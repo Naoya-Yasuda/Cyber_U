{
 "cells": [
  {
   "cell_type": "markdown",
   "metadata": {},
   "source": [
    "# 第14回演習「バンディットアルゴリズム」その2"
   ]
  },
  {
   "cell_type": "markdown",
   "metadata": {},
   "source": [
    "## 6) まずここを実行しましょう"
   ]
  },
  {
   "cell_type": "code",
   "execution_count": 1,
   "metadata": {},
   "outputs": [
    {
     "name": "stdout",
     "output_type": "stream",
     "text": [
      "#6 を実行しました\n"
     ]
    }
   ],
   "source": [
    "import numpy as np\n",
    "import random\n",
    "import matplotlib.pyplot as plt\n",
    "\n",
    "回数毎の平均報酬=[]\n",
    "回数毎の累積報酬=[]\n",
    "一回のシミュレーションで引く回数=250\n",
    "シミュレーションの回数=3000\n",
    "乱数発生器 = np.random.RandomState(3)\n",
    "#乱数発生器 = np.random\n",
    "\n",
    "class アーム():\n",
    "    def __init__(self,確率):\n",
    "        self.確率=確率\n",
    "        self.引いた回数=0\n",
    "        self.平均報酬=0\n",
    "    def アームの初期化(self):\n",
    "        self.引いた回数=0\n",
    "        self.平均報酬=0        \n",
    "    def 平均報酬を更新(self,この報酬):\n",
    "        n=self.引いた回数\n",
    "        self.平均報酬=((n-1)*self.平均報酬+この報酬)/n        \n",
    "    def 引く(self):\n",
    "        乱数_0から1まで = 乱数発生器.uniform(0, 1)\n",
    "        if 乱数_0から1まで <= self.確率:\n",
    "            この報酬=1\n",
    "        else:\n",
    "            この報酬=0\n",
    "        self.引いた回数=self.引いた回数+1\n",
    "        self.平均報酬を更新(この報酬)\n",
    "        return この報酬\n",
    "\n",
    "アーム1=アーム(0.1)\n",
    "アーム2=アーム(0.1)\n",
    "アーム3=アーム(0.1)\n",
    "アーム4=アーム(0.1)\n",
    "アーム5=アーム(0.9)\n",
    "アームの配列=[アーム1,アーム2,アーム3,アーム4,アーム5]\n",
    "\n",
    "def 平均報酬最大のアームのインデックスを知る(アームの配列):\n",
    "    暫定最大値 = -1\n",
    "    暫定最大インデックスの配列=[]\n",
    "    for このアームのインデックス in range(len(アームの配列)):\n",
    "        if アームの配列[このアームのインデックス].平均報酬 > 暫定最大値:\n",
    "            暫定最大値=アームの配列[このアームのインデックス].平均報酬\n",
    "            暫定最大インデックスの配列=[このアームのインデックス]\n",
    "        elif アームの配列[このアームのインデックス].平均報酬 == 暫定最大値:\n",
    "            暫定最大インデックスの配列.append(このアームのインデックス)\n",
    "    return 乱数発生器.choice(暫定最大インデックスの配列)\n",
    "\n",
    "def εグリーディ法でアームを決定(ランダム行動の選択率ε,アームの配列):\n",
    "    乱数_0から1まで = 乱数発生器.uniform(0, 1)\n",
    "    # 乱数がε以上なら、平均報酬最大のアームを選択    \n",
    "    if ランダム行動の選択率ε <= 乱数_0から1まで:\n",
    "        平均報酬最大のインデックス=平均報酬最大のアームのインデックスを知る(アームの配列)\n",
    "        return 平均報酬最大のインデックス\n",
    "    # 乱数がε未満なら、ランダムなアーム\n",
    "    else:\n",
    "        return 乱数発生器.randint(len(アームの配列))\n",
    "    \n",
    "def εグリーディ法でシミュレーション(アームの配列,一回のシミュレーションで引く回数,シミュレーションの回数,ランダム行動の選択率ε):\n",
    "    global 回数毎の平均報酬 # グローバル変数を弄るので\n",
    "    global 回数毎の累積報酬 # グローバル変数を弄るので\n",
    "    回数毎の平均報酬=[]\n",
    "    回数毎の累積報酬=[]\n",
    "    \n",
    "    for 回数 in range(一回のシミュレーションで引く回数):\n",
    "        回数毎の平均報酬.append([]) # 空にする\n",
    "        回数毎の累積報酬.append([]) # 空にする        \n",
    "\n",
    "    for このシミュレーション in range(シミュレーションの回数):\n",
    "        このシミュレーションの報酬総額=0\n",
    "        for このアーム in アームの配列:        \n",
    "            このアーム.アームの初期化()\n",
    "\n",
    "        #print(\"==========================================\")\n",
    "        #print(\"解の番号, 引いたアームのインデックス, 得た報酬, このアームを引いた回数, このアームの平均報酬, このシミュレーション内の平均報酬\")                \n",
    "        for この回 in range(一回のシミュレーションで引く回数):            \n",
    "            決めたアームのインデックス=εグリーディ法でアームを決定(ランダム行動の選択率ε,アームの配列)\n",
    "            このアーム=アームの配列[決めたアームのインデックス]\n",
    "            得た報酬=このアーム.引く()\n",
    "            このシミュレーションの報酬総額=このシミュレーションの報酬総額+得た報酬\n",
    "            このシミュレーションの平均報酬=このシミュレーションの報酬総額/(この回+1)        \n",
    "            #print(この回,\"\",end=\"\")\n",
    "            #print(決めたアームのインデックス,end=\"\")            \n",
    "            #print(\"\",得た報酬,このアーム.引いた回数,このアーム.平均報酬,end=\"\")\n",
    "            #print(\"\",このシミュレーションの平均報酬)            \n",
    "            回数毎の平均報酬[この回].append(このシミュレーションの平均報酬)\n",
    "            回数毎の累積報酬[この回].append(このシミュレーションの報酬総額)\n",
    "        #print(\"解の番号, 引いたアームのインデックス, 得た報酬, このアームを引いた回数, このアームの平均報酬, このシミュレーション内の平均報酬\")                        \n",
    "\n",
    "print(\"#6 を実行しました\")"
   ]
  },
  {
   "cell_type": "markdown",
   "metadata": {},
   "source": [
    "## 7) ε=0.5として「250回のアーム選択」を<br />3000回シミュレーションし、回数毎の平均報酬を<br />テキストとして出力<br />【注】 5～10秒程度、待たされます"
   ]
  },
  {
   "cell_type": "code",
   "execution_count": 2,
   "metadata": {},
   "outputs": [
    {
     "name": "stdout",
     "output_type": "stream",
     "text": [
      "0 0.2643333333333333\n",
      "1 0.28783333333333333\n",
      "2 0.31055555555555553\n",
      "3 0.3288333333333333\n",
      "4 0.34293333333333337\n",
      "5 0.3572222222222223\n",
      "6 0.36904761904761896\n",
      "7 0.37916666666666665\n",
      "8 0.38914814814814813\n",
      "9 0.3973999999999999\n",
      "10 0.4064545454545454\n",
      "11 0.4149722222222222\n",
      "12 0.42143589743589743\n",
      "13 0.4265238095238096\n",
      "14 0.4324\n",
      "15 0.43804166666666666\n",
      "16 0.4435490196078431\n",
      "17 0.44790740740740737\n",
      "18 0.45231578947368417\n",
      "19 0.45670000000000005\n",
      "20 0.46047619047619043\n",
      "21 0.4652121212121212\n",
      "22 0.4687826086956522\n",
      "23 0.47198611111111116\n",
      "24 0.47516\n",
      "25 0.47806410256410253\n",
      "26 0.48060493827160494\n",
      "27 0.48375\n",
      "28 0.48626436781609195\n",
      "29 0.4883222222222222\n",
      "30 0.49115053763440863\n",
      "31 0.4938020833333333\n",
      "32 0.4959494949494949\n",
      "33 0.49851960784313726\n",
      "34 0.5003333333333333\n",
      "35 0.5025925925925926\n",
      "36 0.5041531531531531\n",
      "37 0.5063070175438595\n",
      "38 0.5082905982905983\n",
      "39 0.5104083333333334\n",
      "40 0.5117804878048781\n",
      "41 0.5133888888888888\n",
      "42 0.5145426356589148\n",
      "43 0.5159924242424242\n",
      "44 0.5173481481481481\n",
      "45 0.5187971014492754\n",
      "46 0.519709219858156\n",
      "47 0.5205694444444445\n",
      "48 0.5214761904761905\n",
      "49 0.5225333333333333\n",
      "50 0.5237254901960785\n",
      "51 0.5246730769230769\n",
      "52 0.5258616352201259\n",
      "53 0.5271172839506173\n",
      "54 0.5282727272727272\n",
      "55 0.5292440476190475\n",
      "56 0.5305087719298246\n",
      "57 0.5314827586206897\n",
      "58 0.5323954802259887\n",
      "59 0.5330777777777778\n",
      "60 0.5339125683060109\n",
      "61 0.5344784946236559\n",
      "62 0.53505291005291\n",
      "63 0.5356354166666667\n",
      "64 0.5362358974358974\n",
      "65 0.5368787878787878\n",
      "66 0.5373930348258706\n",
      "67 0.5382107843137255\n",
      "68 0.5385700483091787\n",
      "69 0.5392571428571429\n",
      "70 0.5396197183098591\n",
      "71 0.5401527777777778\n",
      "72 0.5406666666666666\n",
      "73 0.5412612612612613\n",
      "74 0.5415866666666667\n",
      "75 0.542078947368421\n",
      "76 0.5424718614718614\n",
      "77 0.5430982905982905\n",
      "78 0.54357805907173\n",
      "79 0.543875\n",
      "80 0.5443168724279835\n",
      "81 0.544918699186992\n",
      "82 0.5453975903614459\n",
      "83 0.5458492063492063\n",
      "84 0.5462431372549019\n",
      "85 0.5466124031007753\n",
      "86 0.5469885057471264\n",
      "87 0.5471363636363636\n",
      "88 0.5476292134831461\n",
      "89 0.5479962962962962\n",
      "90 0.5485164835164835\n",
      "91 0.5488985507246377\n",
      "92 0.549146953405018\n",
      "93 0.5494858156028369\n",
      "94 0.5498736842105263\n",
      "95 0.5502291666666667\n",
      "96 0.5503780068728522\n",
      "97 0.5505816326530613\n",
      "98 0.5508383838383839\n",
      "99 0.5510433333333333\n",
      "100 0.5512838283828383\n",
      "101 0.5515424836601307\n",
      "102 0.5518802588996764\n",
      "103 0.5521346153846154\n",
      "104 0.5526126984126983\n",
      "105 0.5529874213836478\n",
      "106 0.5532616822429905\n",
      "107 0.5535462962962963\n",
      "108 0.5539204892966361\n",
      "109 0.5542484848484849\n",
      "110 0.5544744744744745\n",
      "111 0.5547351190476191\n",
      "112 0.5551445427728613\n",
      "113 0.5553011695906432\n",
      "114 0.5554869565217391\n",
      "115 0.5557155172413794\n",
      "116 0.5558945868945868\n",
      "117 0.5560960451977401\n",
      "118 0.5562773109243697\n",
      "119 0.5565416666666667\n",
      "120 0.5567796143250688\n",
      "121 0.5569234972677596\n",
      "122 0.5570569105691057\n",
      "123 0.557258064516129\n",
      "124 0.5574693333333333\n",
      "125 0.5576190476190476\n",
      "126 0.5576535433070865\n",
      "127 0.5578385416666667\n",
      "128 0.5580361757105944\n",
      "129 0.5582717948717949\n",
      "130 0.5584071246819338\n",
      "131 0.5586767676767677\n",
      "132 0.5589924812030076\n",
      "133 0.5591069651741294\n",
      "134 0.5592666666666667\n",
      "135 0.5594411764705882\n",
      "136 0.5595158150851581\n",
      "137 0.5598067632850242\n",
      "138 0.559937649880096\n",
      "139 0.5601309523809523\n",
      "140 0.5602695035460993\n",
      "141 0.5605446009389671\n",
      "142 0.5606013986013986\n",
      "143 0.5606736111111111\n",
      "144 0.5607655172413794\n",
      "145 0.5608767123287671\n",
      "146 0.5609954648526078\n",
      "147 0.561204954954955\n",
      "148 0.5613199105145413\n",
      "149 0.5615266666666666\n",
      "150 0.5616975717439294\n",
      "151 0.561828947368421\n",
      "152 0.561908496732026\n",
      "153 0.5620367965367965\n",
      "154 0.5622365591397849\n",
      "155 0.5624636752136751\n",
      "156 0.5625923566878981\n",
      "157 0.5627067510548523\n",
      "158 0.5628280922431866\n",
      "159 0.5628020833333334\n",
      "160 0.562807453416149\n",
      "161 0.5629670781893004\n",
      "162 0.5631492842535787\n",
      "163 0.563219512195122\n",
      "164 0.5633191919191919\n",
      "165 0.5634317269076305\n",
      "166 0.5635109780439121\n",
      "167 0.5636369047619048\n",
      "168 0.5637869822485208\n",
      "169 0.5638745098039215\n",
      "170 0.5638986354775828\n",
      "171 0.5639321705426357\n",
      "172 0.5641078998073218\n",
      "173 0.5643007662835249\n",
      "174 0.5643942857142857\n",
      "175 0.5645037878787879\n",
      "176 0.5645743879472693\n",
      "177 0.5647022471910111\n",
      "178 0.5648007448789572\n",
      "179 0.5649537037037036\n",
      "180 0.565\n",
      "181 0.565098901098901\n",
      "182 0.5652094717668488\n",
      "183 0.5653260869565216\n",
      "184 0.5653927927927929\n",
      "185 0.5655286738351254\n",
      "186 0.5656827094474153\n",
      "187 0.5657624113475177\n",
      "188 0.5658042328042328\n",
      "189 0.5658228070175438\n",
      "190 0.5659965095986038\n",
      "191 0.5660121527777777\n",
      "192 0.5660103626943006\n",
      "193 0.5661013745704466\n",
      "194 0.5661931623931623\n",
      "195 0.5662261904761905\n",
      "196 0.5663384094754653\n",
      "197 0.5664781144781144\n",
      "198 0.5665577889447236\n",
      "199 0.566675\n",
      "200 0.5666782752902155\n",
      "201 0.5667293729372938\n",
      "202 0.5668899835796387\n",
      "203 0.5669232026143791\n",
      "204 0.5670016260162601\n",
      "205 0.567032362459547\n",
      "206 0.5671256038647342\n",
      "207 0.5672403846153846\n",
      "208 0.5673173843700159\n",
      "209 0.5673809523809523\n",
      "210 0.5673965244865719\n",
      "211 0.5674905660377358\n",
      "212 0.5675837245696401\n",
      "213 0.5676666666666667\n",
      "214 0.5676682170542635\n",
      "215 0.5677206790123457\n",
      "216 0.5677465437788018\n",
      "217 0.5677859327217125\n",
      "218 0.5678295281582952\n",
      "219 0.567839393939394\n",
      "220 0.567945701357466\n",
      "221 0.5679924924924924\n",
      "222 0.568050822122571\n",
      "223 0.5681279761904762\n",
      "224 0.5682414814814816\n",
      "225 0.5682625368731563\n",
      "226 0.568337738619677\n",
      "227 0.568390350877193\n",
      "228 0.5684395924308587\n",
      "229 0.5684971014492753\n",
      "230 0.5685627705627705\n",
      "231 0.5686379310344827\n",
      "232 0.5686609442060087\n",
      "233 0.5687264957264956\n",
      "234 0.5688255319148936\n",
      "235 0.5688714689265536\n",
      "236 0.5689170182841069\n",
      "237 0.5689747899159664\n",
      "238 0.5690460251046026\n",
      "239 0.5690569444444444\n",
      "240 0.5690926694329183\n",
      "241 0.5691749311294766\n",
      "242 0.5691920438957475\n",
      "243 0.5693073770491803\n",
      "244 0.5693319727891156\n",
      "245 0.569379403794038\n",
      "246 0.5694736842105264\n",
      "247 0.5695094086021506\n",
      "248 0.5695381526104418\n",
      "249 0.5695653333333333\n"
     ]
    }
   ],
   "source": [
    "def 回数毎の平均報酬をテキストとして表示(一回のシミュレーションで引く回数):\n",
    "    for 回数 in range(一回のシミュレーションで引く回数):\n",
    "        print(回数,np.mean(回数毎の平均報酬[回数]))\n",
    "\n",
    "一回のシミュレーションで引く回数=250\n",
    "シミュレーションの回数=3000        \n",
    "εグリーディ法でシミュレーション(アームの配列,一回のシミュレーションで引く回数,シミュレーションの回数,0.5)\n",
    "回数毎の平均報酬をテキストとして表示(一回のシミュレーションで引く回数)"
   ]
  },
  {
   "cell_type": "markdown",
   "metadata": {},
   "source": [
    "## 小出しの任意課題6) \n",
    "<span style=\"background-color:#FFFF99\">上記#6を2~3回実行して250回目の平均報酬のブレが許容範囲内であることを確認しましょう。</span><br />【注】 5～10秒程度、待たされます<hr />"
   ]
  },
  {
   "cell_type": "code",
   "execution_count": 5,
   "metadata": {},
   "outputs": [
    {
     "name": "stdout",
     "output_type": "stream",
     "text": [
      "0 0.261\n",
      "1 0.2835\n",
      "2 0.30622222222222223\n",
      "3 0.32466666666666666\n",
      "4 0.3388666666666667\n",
      "5 0.3529444444444445\n",
      "6 0.36895238095238087\n",
      "7 0.38025\n",
      "8 0.3909629629629629\n",
      "9 0.4004333333333333\n",
      "10 0.4075151515151515\n",
      "11 0.4166388888888889\n",
      "12 0.4237692307692308\n",
      "13 0.43061904761904757\n",
      "14 0.43731111111111115\n",
      "15 0.4433958333333333\n",
      "16 0.44915686274509803\n",
      "17 0.4538518518518519\n",
      "18 0.45766666666666667\n",
      "19 0.4621166666666666\n",
      "20 0.4658253968253968\n",
      "21 0.4694848484848485\n",
      "22 0.4733188405797102\n",
      "23 0.4770972222222222\n",
      "24 0.4796133333333334\n",
      "25 0.48306410256410254\n",
      "26 0.4854074074074074\n",
      "27 0.4876904761904762\n",
      "28 0.49\n",
      "29 0.4921222222222222\n",
      "30 0.49462365591397844\n",
      "31 0.4970833333333333\n",
      "32 0.4993131313131313\n",
      "33 0.5016666666666667\n",
      "34 0.5041238095238095\n",
      "35 0.5059259259259259\n",
      "36 0.5081801801801802\n",
      "37 0.5098157894736841\n",
      "38 0.5116666666666667\n",
      "39 0.5132916666666667\n",
      "40 0.5142682926829268\n",
      "41 0.5155396825396825\n",
      "42 0.5168217054263565\n",
      "43 0.5181742424242424\n",
      "44 0.5194222222222222\n",
      "45 0.5207971014492754\n",
      "46 0.5220992907801417\n",
      "47 0.5231041666666667\n",
      "48 0.5241156462585034\n",
      "49 0.5249733333333334\n",
      "50 0.5258954248366012\n",
      "51 0.5269871794871795\n",
      "52 0.5280125786163521\n",
      "53 0.5293148148148148\n",
      "54 0.5302484848484849\n",
      "55 0.5309583333333333\n",
      "56 0.5314736842105262\n",
      "57 0.532264367816092\n",
      "58 0.5330395480225989\n",
      "59 0.5339944444444445\n",
      "60 0.5348524590163934\n",
      "61 0.5354784946236559\n",
      "62 0.5363174603174603\n",
      "63 0.537109375\n",
      "64 0.5377128205128204\n",
      "65 0.5381818181818182\n",
      "66 0.5386567164179105\n",
      "67 0.5392058823529412\n",
      "68 0.5396666666666666\n",
      "69 0.540295238095238\n",
      "70 0.5408075117370892\n",
      "71 0.5413425925925927\n",
      "72 0.5417671232876713\n",
      "73 0.5422117117117118\n",
      "74 0.5427555555555555\n",
      "75 0.5432631578947369\n",
      "76 0.5435497835497834\n",
      "77 0.544025641025641\n",
      "78 0.5445147679324894\n",
      "79 0.5450458333333332\n",
      "80 0.5455473251028806\n",
      "81 0.545829268292683\n",
      "82 0.5461044176706827\n",
      "83 0.546265873015873\n",
      "84 0.546713725490196\n",
      "85 0.547201550387597\n",
      "86 0.5476819923371646\n",
      "87 0.5480416666666668\n",
      "88 0.5483670411985019\n",
      "89 0.5488592592592592\n",
      "90 0.5489633699633699\n",
      "91 0.5493007246376812\n",
      "92 0.5495448028673835\n",
      "93 0.5497517730496454\n",
      "94 0.5500421052631579\n",
      "95 0.5504270833333333\n",
      "96 0.5507147766323024\n",
      "97 0.5510986394557823\n",
      "98 0.5514511784511784\n",
      "99 0.55162\n",
      "100 0.5518349834983498\n",
      "101 0.5522450980392156\n",
      "102 0.552598705501618\n",
      "103 0.5529038461538461\n",
      "104 0.5532571428571428\n",
      "105 0.5535440251572327\n",
      "106 0.5537289719626167\n",
      "107 0.5540740740740742\n",
      "108 0.5542507645259939\n",
      "109 0.5544666666666667\n",
      "110 0.5549189189189189\n",
      "111 0.5551517857142856\n",
      "112 0.5552802359882005\n",
      "113 0.5555994152046785\n",
      "114 0.5556492753623188\n",
      "115 0.5558994252873564\n",
      "116 0.5559686609686609\n",
      "117 0.5561892655367231\n",
      "118 0.5564509803921568\n",
      "119 0.5566611111111112\n",
      "120 0.556969696969697\n",
      "121 0.5572131147540984\n",
      "122 0.5573577235772358\n",
      "123 0.5574973118279569\n",
      "124 0.5576399999999999\n",
      "125 0.5577433862433862\n",
      "126 0.5579895013123359\n",
      "127 0.5581041666666666\n",
      "128 0.5582790697674419\n",
      "129 0.5584025641025641\n",
      "130 0.5584860050890585\n",
      "131 0.5586742424242425\n",
      "132 0.5588070175438596\n",
      "133 0.5589154228855722\n",
      "134 0.5591358024691357\n",
      "135 0.5593161764705883\n",
      "136 0.5594866180048662\n",
      "137 0.5595700483091788\n",
      "138 0.559695443645084\n",
      "139 0.5599357142857143\n",
      "140 0.5600567375886525\n",
      "141 0.560169014084507\n",
      "142 0.5603986013986014\n",
      "143 0.5604837962962963\n",
      "144 0.5604781609195402\n",
      "145 0.5606210045662101\n",
      "146 0.5607732426303855\n",
      "147 0.5608333333333333\n",
      "148 0.5608702460850111\n",
      "149 0.5610244444444444\n",
      "150 0.561158940397351\n",
      "151 0.5612850877192982\n",
      "152 0.5613899782135076\n",
      "153 0.561525974025974\n",
      "154 0.5617182795698924\n",
      "155 0.5619380341880341\n",
      "156 0.5621167728237793\n",
      "157 0.5622658227848101\n",
      "158 0.5624570230607966\n",
      "159 0.5626333333333333\n",
      "160 0.5626894409937888\n",
      "161 0.5627427983539095\n",
      "162 0.5627811860940695\n",
      "163 0.5629430894308943\n",
      "164 0.5630141414141414\n",
      "165 0.5631004016064257\n",
      "166 0.5631696606786427\n",
      "167 0.563359126984127\n",
      "168 0.563577909270217\n",
      "169 0.5637039215686274\n",
      "170 0.5638479532163743\n",
      "171 0.563953488372093\n",
      "172 0.5640597302504817\n",
      "173 0.5641743295019157\n",
      "174 0.5643771428571429\n",
      "175 0.5644431818181819\n",
      "176 0.564487758945386\n",
      "177 0.5646086142322096\n",
      "178 0.5647132216014897\n",
      "179 0.5647777777777777\n",
      "180 0.5648195211786372\n",
      "181 0.5648882783882784\n",
      "182 0.5649471766848816\n",
      "183 0.5650090579710145\n",
      "184 0.5650306306306306\n",
      "185 0.565094982078853\n",
      "186 0.5651711229946524\n",
      "187 0.5652659574468085\n",
      "188 0.5652733686067019\n",
      "189 0.5653456140350877\n",
      "190 0.5654694589877836\n",
      "191 0.5654583333333333\n",
      "192 0.5655509499136442\n",
      "193 0.5656718213058419\n",
      "194 0.5657487179487178\n",
      "195 0.5658248299319728\n",
      "196 0.5659018612521151\n",
      "197 0.5659680134680135\n",
      "198 0.5660703517587939\n",
      "199 0.5661433333333333\n",
      "200 0.566162520729685\n",
      "201 0.5661881188118811\n",
      "202 0.56628078817734\n",
      "203 0.5663562091503268\n",
      "204 0.5664764227642277\n",
      "205 0.5665226537216829\n",
      "206 0.5666312399355877\n",
      "207 0.5667564102564103\n",
      "208 0.566872408293461\n",
      "209 0.5668936507936507\n",
      "210 0.5669699842022117\n",
      "211 0.567062893081761\n",
      "212 0.5671752738654147\n",
      "213 0.5672694704049844\n",
      "214 0.5672883720930233\n",
      "215 0.5673086419753086\n",
      "216 0.5673118279569893\n",
      "217 0.5673929663608563\n",
      "218 0.5674809741248097\n",
      "219 0.5676060606060607\n",
      "220 0.5676591251885369\n",
      "221 0.5677687687687688\n",
      "222 0.5678400597907324\n",
      "223 0.567891369047619\n",
      "224 0.5679525925925926\n",
      "225 0.5679542772861357\n",
      "226 0.5680367107195301\n",
      "227 0.5680760233918128\n",
      "228 0.5681193595342067\n",
      "229 0.568231884057971\n",
      "230 0.5682597402597402\n",
      "231 0.5683505747126437\n",
      "232 0.5683805436337624\n",
      "233 0.5683960113960114\n",
      "234 0.5684170212765958\n",
      "235 0.5685197740112994\n",
      "236 0.5685738396624472\n",
      "237 0.5685770308123248\n",
      "238 0.5685718270571827\n",
      "239 0.568651388888889\n",
      "240 0.5686818810511756\n",
      "241 0.5686652892561983\n",
      "242 0.5686831275720164\n",
      "243 0.5687103825136612\n",
      "244 0.5687265306122449\n",
      "245 0.5687723577235773\n",
      "246 0.5688488529014845\n",
      "247 0.568891129032258\n",
      "248 0.5689290495314592\n",
      "249 0.5689626666666666\n"
     ]
    }
   ],
   "source": [
    "εグリーディ法でシミュレーション(アームの配列,一回のシミュレーションで引く回数,シミュレーションの回数,0.5)\n",
    "回数毎の平均報酬をテキストとして表示(一回のシミュレーションで引く回数)"
   ]
  },
  {
   "cell_type": "markdown",
   "metadata": {},
   "source": [
    "## 8) εを0.5で「250回のアーム選択」を3000回シミュレーションし、回数毎の平均報酬を図示<br />【注】 5～10秒程度、待たされます"
   ]
  },
  {
   "cell_type": "code",
   "execution_count": 6,
   "metadata": {},
   "outputs": [
    {
     "data": {
      "image/png": "[encoded data removed]",
      "text/plain": [
       "<Figure size 432x288 with 1 Axes>"
      ]
     },
     "metadata": {
      "needs_background": "light"
     },
     "output_type": "display_data"
    }
   ],
   "source": [
    "def 回数毎の平均報酬をプロット(ラベル,一回のシミュレーションで引く回数):\n",
    "    図示用のY=[]\n",
    "    for 回数 in range(一回のシミュレーションで引く回数):\n",
    "        図示用のY.append(np.mean(回数毎の平均報酬[回数]))\n",
    "    plt.plot(図示用のY,label=ラベル)\n",
    "    \n",
    "εグリーディ法でシミュレーション(アームの配列,一回のシミュレーションで引く回数,シミュレーションの回数,0.5)\n",
    "回数毎の平均報酬をプロット(0.5,一回のシミュレーションで引く回数)\n",
    "plt.show()"
   ]
  },
  {
   "cell_type": "markdown",
   "metadata": {},
   "source": [
    "## 9) εを0.1⇒0.3⇒0.5と変えながら「250回のアーム選択」をそれぞれ3000回シミュレーションし、回数毎の平均報酬を図示<br />【注】 それぞれ5～10秒程度、待たされます"
   ]
  },
  {
   "cell_type": "code",
   "execution_count": 7,
   "metadata": {},
   "outputs": [
    {
     "data": {
      "image/png": "[encoded data removed]",
      "text/plain": [
       "<Figure size 432x288 with 1 Axes>"
      ]
     },
     "metadata": {
      "needs_background": "light"
     },
     "output_type": "display_data"
    }
   ],
   "source": [
    "# ε=0.1\n",
    "εグリーディ法でシミュレーション(アームの配列,一回のシミュレーションで引く回数,シミュレーションの回数,0.1)\n",
    "回数毎の平均報酬をプロット(0.1,一回のシミュレーションで引く回数)\n",
    "plt.show()\n",
    "# ↓待たされます"
   ]
  },
  {
   "cell_type": "code",
   "execution_count": 8,
   "metadata": {},
   "outputs": [
    {
     "data": {
      "image/png": "[encoded data removed]",
      "text/plain": [
       "<Figure size 432x288 with 1 Axes>"
      ]
     },
     "metadata": {
      "needs_background": "light"
     },
     "output_type": "display_data"
    }
   ],
   "source": [
    "# ε=0.3\n",
    "εグリーディ法でシミュレーション(アームの配列,一回のシミュレーションで引く回数,シミュレーションの回数,0.3)\n",
    "回数毎の平均報酬をプロット(0.3,一回のシミュレーションで引く回数)\n",
    "plt.show()\n",
    "# ↓待たされます"
   ]
  },
  {
   "cell_type": "code",
   "execution_count": 9,
   "metadata": {},
   "outputs": [
    {
     "data": {
      "image/png": "[encoded data removed]",
      "text/plain": [
       "<Figure size 432x288 with 1 Axes>"
      ]
     },
     "metadata": {
      "needs_background": "light"
     },
     "output_type": "display_data"
    }
   ],
   "source": [
    "# ε=0.5\n",
    "εグリーディ法でシミュレーション(アームの配列,一回のシミュレーションで引く回数,シミュレーションの回数,0.5)\n",
    "回数毎の平均報酬をプロット(0.5,一回のシミュレーションで引く回数)\n",
    "plt.show()\n",
    "# ↓待たされます"
   ]
  },
  {
   "cell_type": "markdown",
   "metadata": {},
   "source": [
    "## 10) プログラム#9の3つの結果を重ねてプロットし、<br />凡例もつける<br />【注】 全体で20秒程度、待たされます"
   ]
  },
  {
   "cell_type": "code",
   "execution_count": 10,
   "metadata": {
    "scrolled": true
   },
   "outputs": [
    {
     "data": {
      "image/png": "[encoded data removed]",
      "text/plain": [
       "<Figure size 432x288 with 1 Axes>"
      ]
     },
     "metadata": {
      "needs_background": "light"
     },
     "output_type": "display_data"
    }
   ],
   "source": [
    "εグリーディ法でシミュレーション(アームの配列,一回のシミュレーションで引く回数,シミュレーションの回数,0.1)\n",
    "回数毎の平均報酬をプロット(0.1,一回のシミュレーションで引く回数)\n",
    "\n",
    "εグリーディ法でシミュレーション(アームの配列,一回のシミュレーションで引く回数,シミュレーションの回数,0.3)\n",
    "回数毎の平均報酬をプロット(0.3,一回のシミュレーションで引く回数)\n",
    "\n",
    "εグリーディ法でシミュレーション(アームの配列,一回のシミュレーションで引く回数,シミュレーションの回数,0.5)\n",
    "回数毎の平均報酬をプロット(0.5,一回のシミュレーションで引く回数)\n",
    "\n",
    "plt.legend(loc='best')\n",
    "plt.show()\n",
    "# ↓待たされます"
   ]
  },
  {
   "cell_type": "markdown",
   "metadata": {},
   "source": [
    "## 11) εを0.1⇒0.3⇒0.5と変え、回数毎の累積報酬を図示<br />【注】 全体で20秒程度、待たされます"
   ]
  },
  {
   "cell_type": "code",
   "execution_count": 11,
   "metadata": {},
   "outputs": [
    {
     "data": {
      "image/png": "[encoded data removed]",
      "text/plain": [
       "<Figure size 432x288 with 1 Axes>"
      ]
     },
     "metadata": {
      "needs_background": "light"
     },
     "output_type": "display_data"
    }
   ],
   "source": [
    "def 回数毎の累積報酬をプロット(ラベル,一回のシミュレーションで引く回数):\n",
    "    図示用のY=[]\n",
    "    for 回数 in range(一回のシミュレーションで引く回数):\n",
    "        図示用のY.append(np.mean(回数毎の累積報酬[回数]))\n",
    "    plt.plot(図示用のY,label=ラベル)\n",
    "\n",
    "εグリーディ法でシミュレーション(アームの配列,一回のシミュレーションで引く回数,シミュレーションの回数,0.1)\n",
    "回数毎の累積報酬をプロット(0.1,一回のシミュレーションで引く回数)\n",
    "\n",
    "εグリーディ法でシミュレーション(アームの配列,一回のシミュレーションで引く回数,シミュレーションの回数,0.3)\n",
    "回数毎の累積報酬をプロット(0.3,一回のシミュレーションで引く回数)\n",
    "\n",
    "εグリーディ法でシミュレーション(アームの配列,一回のシミュレーションで引く回数,シミュレーションの回数,0.5)\n",
    "回数毎の累積報酬をプロット(0.5,一回のシミュレーションで引く回数)\n",
    "\n",
    "plt.legend(loc='best')\n",
    "plt.show()\n",
    "# ↓待たされます"
   ]
  },
  {
   "cell_type": "markdown",
   "metadata": {},
   "source": [
    "## 12) ε=0 での平均報酬を図示し、<br />0.1⇒0.3⇒0.5の平均報酬の図に重ねる<br />【注】 全体で20秒程度、待たされます"
   ]
  },
  {
   "cell_type": "code",
   "execution_count": 12,
   "metadata": {
    "scrolled": true
   },
   "outputs": [
    {
     "data": {
      "image/png": "[encoded data removed]",
      "text/plain": [
       "<Figure size 432x288 with 1 Axes>"
      ]
     },
     "metadata": {
      "needs_background": "light"
     },
     "output_type": "display_data"
    }
   ],
   "source": [
    "εグリーディ法でシミュレーション(アームの配列,一回のシミュレーションで引く回数,シミュレーションの回数,0.1)\n",
    "回数毎の平均報酬をプロット(0.1,一回のシミュレーションで引く回数)\n",
    "\n",
    "εグリーディ法でシミュレーション(アームの配列,一回のシミュレーションで引く回数,シミュレーションの回数,0.3)\n",
    "回数毎の平均報酬をプロット(0.3,一回のシミュレーションで引く回数)\n",
    "\n",
    "εグリーディ法でシミュレーション(アームの配列,一回のシミュレーションで引く回数,シミュレーションの回数,0.5)\n",
    "回数毎の平均報酬をプロット(0.5,一回のシミュレーションで引く回数)\n",
    "\n",
    "εグリーディ法でシミュレーション(アームの配列,一回のシミュレーションで引く回数,シミュレーションの回数,0) # εは0\n",
    "回数毎の平均報酬をプロット(0,一回のシミュレーションで引く回数)\n",
    "\n",
    "plt.legend(loc='best')\n",
    "plt.show()\n",
    "# ↓待たされます"
   ]
  },
  {
   "cell_type": "markdown",
   "metadata": {},
   "source": [
    "## 小出しの任意課題7) \n",
    "<span style=\"background-color:#FFFF99\">ε=0がε=0.1に平均報酬で抜かれたのはなぜか、考えましょう。</span><hr />"
   ]
  },
  {
   "cell_type": "code",
   "execution_count": null,
   "metadata": {},
   "outputs": [],
   "source": [
    "#たまたま報酬がよく出たアームを選び続けてしまうから"
   ]
  },
  {
   "cell_type": "markdown",
   "metadata": {},
   "source": [
    "## 13) プログラム#12と同様、ε=1を試して図示<br />【注】 全体で20秒程度、待たされます"
   ]
  },
  {
   "cell_type": "code",
   "execution_count": 13,
   "metadata": {},
   "outputs": [
    {
     "data": {
      "image/png": "[encoded data removed]",
      "text/plain": [
       "<Figure size 432x288 with 1 Axes>"
      ]
     },
     "metadata": {
      "needs_background": "light"
     },
     "output_type": "display_data"
    }
   ],
   "source": [
    "εグリーディ法でシミュレーション(アームの配列,一回のシミュレーションで引く回数,シミュレーションの回数,0.1)\n",
    "回数毎の平均報酬をプロット(0.1,一回のシミュレーションで引く回数)\n",
    "\n",
    "εグリーディ法でシミュレーション(アームの配列,一回のシミュレーションで引く回数,シミュレーションの回数,0.3)\n",
    "回数毎の平均報酬をプロット(0.3,一回のシミュレーションで引く回数)\n",
    "\n",
    "εグリーディ法でシミュレーション(アームの配列,一回のシミュレーションで引く回数,シミュレーションの回数,0.5)\n",
    "回数毎の平均報酬をプロット(0.5,一回のシミュレーションで引く回数)\n",
    "\n",
    "εグリーディ法でシミュレーション(アームの配列,一回のシミュレーションで引く回数,シミュレーションの回数,0) # εは0\n",
    "回数毎の平均報酬をプロット(0,一回のシミュレーションで引く回数)\n",
    "\n",
    "εグリーディ法でシミュレーション(アームの配列,一回のシミュレーションで引く回数,シミュレーションの回数,1) # εは1\n",
    "回数毎の平均報酬をプロット(1,一回のシミュレーションで引く回数)\n",
    "\n",
    "plt.legend(loc='best')\n",
    "plt.show()\n",
    "# ↓待たされます"
   ]
  },
  {
   "cell_type": "markdown",
   "metadata": {},
   "source": [
    "## 14) εを0.5から徐々に減らすようにアニールさせ、<br />回数毎の平均報酬を図示<br />【注】 全体で20秒程度、待たされます"
   ]
  },
  {
   "cell_type": "code",
   "execution_count": 19,
   "metadata": {},
   "outputs": [
    {
     "data": {
      "image/png": "[encoded data removed]",
      "text/plain": [
       "<Figure size 432x288 with 1 Axes>"
      ]
     },
     "metadata": {
      "needs_background": "light"
     },
     "output_type": "display_data"
    }
   ],
   "source": [
    "def アニールするεグリーディ法でアームを決定(ランダム行動の選択率ε,アームの配列,回数):\n",
    "    ランダム行動の選択率ε = ランダム行動の選択率ε*(1/(回数+1)) # 引く回数が増えるとεが減る\n",
    "#     ランダム行動の選択率ε = ランダム行動の選択率ε*(2/(回数+1)) # 引く回数が増えるとεが減る→いい感じ\n",
    "#     ランダム行動の選択率ε = ランダム行動の選択率ε*(3/(回数+1)) # 引く回数が増えるとεが減る→ 0.1よりいい感じ\n",
    "#     ランダム行動の選択率ε = ランダム行動の選択率ε*(4/(回数+1)) # 引く回数が増えるとεが減る→ 0.1よりいい感じ\n",
    "#     ランダム行動の選択率ε = ランダム行動の選択率ε*(回数/(回数+1)) # 引く回数が増えるとεが減る→だめ\n",
    "    乱数_0から1まで = 乱数発生器.uniform(0, 1)\n",
    "    # 乱数がε以上なら、平均報酬最大のアームを選択    \n",
    "    if ランダム行動の選択率ε <= 乱数_0から1まで:\n",
    "        平均報酬最大のインデックス=平均報酬最大のアームのインデックスを知る(アームの配列)\n",
    "        return 平均報酬最大のインデックス\n",
    "    # 乱数がε未満なら、ランダムなアーム\n",
    "    else:\n",
    "        return 乱数発生器.randint(len(アームの配列))\n",
    "\n",
    "def アニールするεグリーディ法でシミュレーション(アームの配列,一回のシミュレーションで引く回数,シミュレーションの回数,ランダム行動の選択率ε):\n",
    "    global 回数毎の平均報酬 # グローバル変数を弄るので    \n",
    "    回数毎の平均報酬=[]\n",
    "    \n",
    "    for 回数 in range(一回のシミュレーションで引く回数):\n",
    "        回数毎の平均報酬.append([]) # 空にする\n",
    "\n",
    "    for このシミュレーション in range(シミュレーションの回数):\n",
    "        このシミュレーションの報酬総額=0\n",
    "        for このアーム in アームの配列:        \n",
    "            このアーム.アームの初期化()\n",
    "                    \n",
    "        for この回 in range(一回のシミュレーションで引く回数):\n",
    "            決めたアームのインデックス=アニールするεグリーディ法でアームを決定(ランダム行動の選択率ε,アームの配列,この回)\n",
    "            このアーム=アームの配列[決めたアームのインデックス]\n",
    "            得た報酬=このアーム.引く()\n",
    "            このシミュレーションの報酬総額=このシミュレーションの報酬総額+得た報酬\n",
    "            このシミュレーションの平均報酬=このシミュレーションの報酬総額/(この回+1)\n",
    "            回数毎の平均報酬[この回].append(このシミュレーションの平均報酬)\n",
    "\n",
    "εグリーディ法でシミュレーション(アームの配列,一回のシミュレーションで引く回数,シミュレーションの回数,0.1)\n",
    "回数毎の平均報酬をプロット(0.1,一回のシミュレーションで引く回数)\n",
    "\n",
    "εグリーディ法でシミュレーション(アームの配列,一回のシミュレーションで引く回数,シミュレーションの回数,0.3)\n",
    "回数毎の平均報酬をプロット(0.3,一回のシミュレーションで引く回数)\n",
    "\n",
    "εグリーディ法でシミュレーション(アームの配列,一回のシミュレーションで引く回数,シミュレーションの回数,0.5)\n",
    "回数毎の平均報酬をプロット(0.5,一回のシミュレーションで引く回数)\n",
    "\n",
    "アニールするεグリーディ法でシミュレーション(アームの配列,一回のシミュレーションで引く回数,シミュレーションの回数,0.5)\n",
    "回数毎の平均報酬をプロット(\"anneal-0.5\",一回のシミュレーションで引く回数)\n",
    "plt.legend(loc='best')\n",
    "plt.show()\n",
    "# ↓待たされます"
   ]
  },
  {
   "cell_type": "markdown",
   "metadata": {},
   "source": [
    "## 小出しの任意課題8) \n",
    "<span style=\"background-color:#FFFF99\">アニールの式を変えてみましょう。<br />εをどのように減らしていくか、アイディアを出して結果を確かめましょう。</span><hr />"
   ]
  },
  {
   "cell_type": "code",
   "execution_count": null,
   "metadata": {},
   "outputs": [],
   "source": []
  },
  {
   "cell_type": "markdown",
   "metadata": {},
   "source": [
    "## 15) アームの当たる確率を変更して回数毎の平均報酬を図示<br />【注】 全体で20秒程度、待たされます"
   ]
  },
  {
   "cell_type": "code",
   "execution_count": 21,
   "metadata": {},
   "outputs": [
    {
     "data": {
      "image/png": "[encoded data removed]",
      "text/plain": [
       "<Figure size 432x288 with 1 Axes>"
      ]
     },
     "metadata": {
      "needs_background": "light"
     },
     "output_type": "display_data"
    }
   ],
   "source": [
    "アーム1=アーム(0.7)\n",
    "アーム2=アーム(0.7)\n",
    "アーム3=アーム(0.7)\n",
    "アーム4=アーム(0.7)\n",
    "アーム5=アーム(0.9)\n",
    "アームの配列=[アーム1,アーム2,アーム3,アーム4,アーム5]\n",
    "\n",
    "εグリーディ法でシミュレーション(アームの配列,一回のシミュレーションで引く回数,シミュレーションの回数,0.1)\n",
    "回数毎の平均報酬をプロット(0.1,一回のシミュレーションで引く回数)\n",
    "εグリーディ法でシミュレーション(アームの配列,一回のシミュレーションで引く回数,シミュレーションの回数,0.3)\n",
    "回数毎の平均報酬をプロット(0.3,一回のシミュレーションで引く回数)\n",
    "εグリーディ法でシミュレーション(アームの配列,一回のシミュレーションで引く回数,シミュレーションの回数,0.5)\n",
    "回数毎の平均報酬をプロット(0.5,一回のシミュレーションで引く回数)\n",
    "plt.legend(loc='best')\n",
    "plt.show()"
   ]
  },
  {
   "cell_type": "markdown",
   "metadata": {},
   "source": [
    "## 小出しの任意課題9) \n",
    "<span style=\"background-color:#FFFF99\">プログラム #15 で、各アームの当たる確率を好みの値に変えて実行してみましょう。</span><hr />"
   ]
  },
  {
   "cell_type": "code",
   "execution_count": null,
   "metadata": {},
   "outputs": [],
   "source": []
  },
  {
   "cell_type": "markdown",
   "metadata": {},
   "source": [
    "第14回第4章の演習はここまでです。お疲れさまでした。"
   ]
  }
 ],
 "metadata": {
  "kernelspec": {
   "display_name": "Python 3",
   "language": "python",
   "name": "python3"
  },
  "language_info": {
   "codemirror_mode": {
    "name": "ipython",
    "version": 3
   },
   "file_extension": ".py",
   "mimetype": "text/x-python",
   "name": "python",
   "nbconvert_exporter": "python",
   "pygments_lexer": "ipython3",
   "version": "3.5.4"
  }
 },
 "nbformat": 4,
 "nbformat_minor": 2
}
