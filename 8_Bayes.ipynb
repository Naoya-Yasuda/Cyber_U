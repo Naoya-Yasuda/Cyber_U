{
 "cells": [
  {
   "cell_type": "markdown",
   "metadata": {
    "colab_type": "text",
    "id": "tKO2vBTnvZau"
   },
   "source": [
    "# 第8回演習「賞味期限切れのおやつを判別する」"
   ]
  },
  {
   "cell_type": "markdown",
   "metadata": {
    "colab_type": "text",
    "id": "x9YtyOQbvzDS"
   },
   "source": [
    "この演習ではベイズの定理を用いたプログラムの記述方法を習得します。<hr />"
   ]
  },
  {
   "cell_type": "markdown",
   "metadata": {
    "colab_type": "text",
    "id": "j760dWlowPdI"
   },
   "source": [
    "## 【例題】\n",
    "ケメ子さんの前にはクッキーが入った入れ物が2つあります。2つの入れ物には見た目での違いはありません。また「入れ物1のクッキー」と「入れ物2のクッキー」にも、見た目での違いはありません。\n",
    "\n",
    "<img src=\"http://pfe.p.cyber-u.ac.jp/img/Python/Week8/cookies.png\" style=\"width:300px\">\n",
    "\n",
    "しかし、両者には重要な違いがあります。入れ物1のクッキーは全て賞味期限が切れていて、たくさん食べるとお腹を壊してしまうのです。\n",
    "\n",
    "<img src=\"http://pfe.p.cyber-u.ac.jp/img/Python/Week8/hunger-413685__340.jpg\" style=\"width:300px\">\n",
    "\n",
    "ケメ子さんはどちらか1つの入れ物を選び、中のクッキーが賞味期限切れかどうかを判別しないといけません。\n",
    "(何の罰ゲームでしょうか!?)\n",
    "\n",
    "腹を壊したくないケメ子さんにとっての唯一の手掛かりは、2つの入れ物に入っているクッキーの種別だけです。入れ物1のほうが、バニラの割合が高くなっています。\n"
   ]
  },
  {
   "cell_type": "markdown",
   "metadata": {},
   "source": [
    "<table border=\"1\" style=\"margin-left: auto;margin-right: auto\">\n",
    "    <tr><th></th><th>入れ物1</th><th>入れ物2</th></tr>\n",
    "    <tr><th>バニラ</th><td>30個</td><td>20個</td></tr>\n",
    "    <tr><th>チョコレイト</th><td>10個</td><td>20個</td></tr>\n",
    "</table> "
   ]
  },
  {
   "cell_type": "markdown",
   "metadata": {
    "colab_type": "text",
    "id": "EjsAy8Ew2Z5R"
   },
   "source": [
    "ケメ子さんは入れ物を1つランダムに選び、\n",
    "* 中からクッキーを1枚取り出す\n",
    "* ニオイでクッキーの味を判別する(バニラかチョコレイトのどちらか)\n",
    "* クッキーを入れ物に戻す\n",
    "\n",
    "を3回繰り返しました。それぞれの味は\n",
    "「バニラ、バニラ、チョコレイト」でした。\n",
    "\n",
    "<img src=\"http://pfe.p.cyber-u.ac.jp/img/Python/Week8/VVC.png\" style=\"width:300px\">\n",
    "\n",
    "この状況のもとで、ケメ子さんの手元にある入れ物が入れ物1 (すなわち、賞味期限切れ) である確率はいくらでしょうか?\n",
    "\n",
    "入れ物は2つの中からランダムに選ぶので、確率はどちらも等しく 0.5 です。\n",
    "$$\n",
    "\\\\\n",
    "p(入れ物1)=0.5\n",
    "\\\\\n",
    "p(入れ物2)=0.5\n",
    "$$"
   ]
  },
  {
   "cell_type": "code",
   "execution_count": null,
   "metadata": {},
   "outputs": [],
   "source": [
    "確率['入れ物1']=0.5 # 事前確率の辞書オブジェクト p(入れ物1)\n",
    "確率['入れ物2']=0.5 # 事前確率の辞書オブジェクト p(入れ物2)"
   ]
  },
  {
   "cell_type": "code",
   "execution_count": null,
   "metadata": {
    "colab": {},
    "colab_type": "code",
    "id": "hb0UCuYl2VVW"
   },
   "outputs": [],
   "source": [
    "確率['入れ物1'] = 0.5 # 事前確率の辞書オブジェクト p(入れ物1)\n",
    "確率['入れ物2'] = 0.5 # 事前確率の辞書オブジェクト p(入れ物2)"
   ]
  },
  {
   "cell_type": "markdown",
   "metadata": {
    "colab_type": "text",
    "id": "OcsIHke50E-A"
   },
   "source": [
    "ベイズの定理を見直し…\n",
    "$$\n",
    "p(A|B)=\\frac{p(A)p(B|A)}{p(B)}\\\\\n",
    "$$"
   ]
  },
  {
   "cell_type": "markdown",
   "metadata": {
    "colab_type": "text",
    "id": "bUMUPbIp2hzB"
   },
   "source": [
    "尤度を設定します。\n",
    "$$\n",
    "p(バニラ|入れ物1)=0.75\\\\\n",
    "p(バニラ|入れ物2)=0.5\\\\\n",
    "p(チョコレイト|入れ物1)=0.25\\\\\n",
    "p(チョコレイト|入れ物2)=0.5\\\\\n",
    "$$"
   ]
  },
  {
   "cell_type": "code",
   "execution_count": null,
   "metadata": {
    "colab": {},
    "colab_type": "code",
    "id": "2loQbPuN3X6F"
   },
   "outputs": [],
   "source": [
    "# 尤度は2次元の辞書オブジェクトで表す\n",
    "尤度['バニラ']['入れ物1'] = 0.75 # 入れ物1からバニラが出る確率\n",
    "尤度['バニラ']['入れ物2'] = 0.5 # 入れ物2からバニラが出る確率\n",
    "尤度['チョコレイト']['入れ物1'] = 0.25 # 入れ物1からチョコレイトが出る確率 \n",
    "尤度['チョコレイト']['入れ物2'] = 0.5 # 入れ物2からチョコレイトが出る確率"
   ]
  },
  {
   "cell_type": "markdown",
   "metadata": {
    "colab_type": "text",
    "id": "iza-R7Iy3xLe"
   },
   "source": [
    "次に、確率を更新する関数と正規化する関数を定義します。更新とは、新たに得た情報(例えば、ケメ子さんが取り出したクッキーがバニラ味だった)に基づいて入れ物の確率を更新することです。クッキーを取り出す前は入れ物1、入れ物2はどちらも確率が0.5でしたが、中から1枚取り出したクッキーが「バニラ」だったなら\n",
    "* 入れ物1の確率は0.5よりも上になる\n",
    "* 入れ物2の確率は0.5よりも下になる\n",
    "\n",
    "として更新されるでしょう。正規化とは、入れ物1と入れ物2の確率の合計が1となるように調整することです。\n",
    "\n",
    "あとは、これらの2つの関数を呼び出すだけです。中でやっているのは基本的に足し算、掛け算、割り算だけです。"
   ]
  },
  {
   "cell_type": "code",
   "execution_count": null,
   "metadata": {
    "colab": {},
    "colab_type": "code",
    "id": "zLAKSX1S4fut"
   },
   "outputs": [],
   "source": [
    "def 更新(入れ物,この尤度): # ベイズ更新の関数\n",
    "  確率[入れ物]=確率[入れ物]*この尤度\n",
    "\n",
    "def 正規化(): # 確率の総和が1になるように正規化する関数\n",
    "  合計=0\n",
    "  for この入れ物 in 確率:\n",
    "    合計=合計+確率[この入れ物]\n",
    "  for この入れ物 in 確率:\n",
    "    確率[この入れ物]=確率[この入れ物]/合計\n",
    "\n",
    "# 更新する前、すなわち「クッキーを取り出す前」の入れ物1の確率\n",
    "print(\"取り出す前の入れ物1の確率: \"+str(確率['入れ物1'])) \n",
    "\n",
    "更新('入れ物1',尤度['バニラ']['入れ物1']) # 取り出したらバニラだった\n",
    "更新('入れ物2',尤度['バニラ']['入れ物2']) # 取り出したらバニラだった\n",
    "正規化()\n",
    "\n",
    "# クッキーを取り出した後の入れ物1の確率を出力\n",
    "print(\"取り出した後の入れ物1の確率: \"+str(確率['入れ物1'])) "
   ]
  },
  {
   "cell_type": "markdown",
   "metadata": {},
   "source": [
    "ここまでのプログラムを一つにまとめます。"
   ]
  },
  {
   "cell_type": "code",
   "execution_count": 16,
   "metadata": {
    "scrolled": false
   },
   "outputs": [
    {
     "name": "stdout",
     "output_type": "stream",
     "text": [
      "取り出す前の入れ物1の確率: 0.5\n",
      "取り出す前の入れ物2の確率: 0.5\n",
      "取り出した後の入れ物1の確率: 0.9192938209331651\n",
      "取り出した後の入れ物2の確率: 0.08070617906683483\n"
     ]
    },
    {
     "data": {
      "text/plain": [
       "[<matplotlib.lines.Line2D at 0x7f152430bcc0>]"
      ]
     },
     "execution_count": 16,
     "metadata": {},
     "output_type": "execute_result"
    },
    {
     "data": {
      "image/png": "[encoded data removed]",
      "text/plain": [
       "<Figure size 432x288 with 1 Axes>"
      ]
     },
     "metadata": {
      "needs_background": "light"
     },
     "output_type": "display_data"
    }
   ],
   "source": [
    "%matplotlib inline\n",
    "import matplotlib.pyplot as plt\n",
    "確率={}\n",
    "尤度={}\n",
    "尤度['バニラ']={}\n",
    "尤度['チョコレイト']={}\n",
    "\n",
    "確率['入れ物1']=0.5 # 事前確率の辞書オブジェクト p(入れ物1)\n",
    "確率['入れ物2']=0.5 # 事前確率の辞書オブジェクト p(入れ物2)\n",
    "\n",
    "# 尤度は2次元の辞書オブジェクトで表す\n",
    "尤度['バニラ']['入れ物1'] = 0.75 # 入れ物1からバニラが出る確率\n",
    "尤度['バニラ']['入れ物2'] = 0.5 # 入れ物2からバニラが出る確率\n",
    "尤度['チョコレイト']['入れ物1'] = 0.25 # 入れ物1からチョコレイトが出る確率 \n",
    "尤度['チョコレイト']['入れ物2'] = 0.5 # 入れ物2からチョコレイトが出る確率\n",
    "\n",
    "def 更新(入れ物,この尤度): # ベイズ更新の関数\n",
    "  確率[入れ物]=確率[入れ物]*この尤度\n",
    "\n",
    "def 正規化(): # 確率の総和が1になるように正規化する関数\n",
    "  合計=0\n",
    "  for この入れ物 in 確率:\n",
    "    合計=合計+確率[この入れ物]\n",
    "  for この入れ物 in 確率:\n",
    "    確率[この入れ物]=確率[この入れ物]/合計\n",
    "\n",
    "# 更新する前、すなわち「クッキーを取り出す前」の入れ物1の確率\n",
    "print(\"取り出す前の入れ物1の確率: \"+str(確率['入れ物1'])) \n",
    "print(\"取り出す前の入れ物2の確率: \"+str(確率['入れ物2'])) \n",
    "\n",
    "\n",
    "# 更新('入れ物1',尤度['バニラ']['入れ物1']) # 取り出したらバニラだった\n",
    "# 更新('入れ物1',尤度['バニラ']['入れ物1']) # 取り出したらバニラだった\n",
    "# 更新('入れ物1',尤度['チョコレイト']['入れ物1']) # 取り出したらバニラだった\n",
    "# 更新('入れ物2',尤度['バニラ']['入れ物2']) # 取り出したらバニラだった\n",
    "# 更新('入れ物2',尤度['バニラ']['入れ物2']) # 取り出したらバニラだった\n",
    "# 更新('入れ物2',尤度['チョコレイト']['入れ物2']) # 取り出したらバニラだった\n",
    "# 正規化()\n",
    "グラフ用確率リストx = []\n",
    "グラフ用確率リストy = []\n",
    "i=1\n",
    "while 確率['入れ物1'] < 0.9:\n",
    "    更新('入れ物1',尤度['バニラ']['入れ物1']) # 取り出したらバニラだった\n",
    "    更新('入れ物2',尤度['バニラ']['入れ物2']) # 取り出したらバニラだった\n",
    "    正規化()\n",
    "    グラフ用確率リストx.append(i)\n",
    "    i+=1\n",
    "#     print(i)\n",
    "    グラフ用確率リストy.append(確率['入れ物1'])\n",
    "\n",
    "print(\"取り出した後の入れ物1の確率: \"+str(確率['入れ物1'])) # ベイズ更新後のボウル1の確率\n",
    "print(\"取り出した後の入れ物2の確率: \"+str(確率['入れ物2'])) # ベイズ更新後のボウル1の確率\n",
    "\n",
    "\n",
    "######## ↑任意課題のプログラムはこのあたりで書きましょう\n",
    "plt.plot(グラフ用確率リストx,グラフ用確率リストy)"
   ]
  },
  {
   "cell_type": "markdown",
   "metadata": {
    "colab_type": "text",
    "id": "PLm5I_wc5NVM"
   },
   "source": [
    "上記の出力結果により\n",
    "\n",
    "* ランダムに選んだ入れ物から**1枚クッキー**を取り出して\n",
    "* それがバニラだった場合\n",
    "* 選んだ入れ物が「入れ物1」である\n",
    "\n",
    "ことの確率は 0.6 であることがわかりました。"
   ]
  },
  {
   "cell_type": "markdown",
   "metadata": {
    "colab_type": "text",
    "id": "OJArxziu5eTO"
   },
   "source": [
    "<hr />\n",
    "\n",
    "## 任意課題(1)\n",
    "\n",
    "では、ここからが皆さんの出番です。上記のコードに変更を加え、\n",
    "\n",
    "* ランダムに1つ選んだ入れ物から「クッキーを1枚取り出して、戻す」を3回繰り返し、\n",
    "* 取り出したクッキーが「バニラ、バニラ、チョコレイト」だった場合、\n",
    "* 選んだ入れ物が「入れ物1」である\n",
    "\n",
    "ことの確率を求めるプログラムを書いてください。定義済みの2つの関数(更新,正規化)に手を加える必要はありません。\n",
    "(結果は約0.529になります)\n",
    "\n",
    "## 任意課題(2)\n",
    "\n",
    "ケメ子さんは、入れ物1である確率が 0.9 を超えたら「入れ物1と断定し、このゲームを終わらせる」と決めました。\n",
    "\n",
    "* ランダムに1つ選んだ入れ物から「クッキーを1枚取り出して、戻す」をn回繰り返し、\n",
    "* 取り出したクッキーが全てバニラだった場合 (ひたすらバニラ、バニラ… と続きます)、\n",
    "* 選んだ入れ物を「入れ物1」と断定できる最小のnはいくつか?\n",
    "\n",
    "を求めるプログラムを書いてください。繰り返しや条件分岐を工夫して書きましょう。\n",
    "\n",
    "## 任意課題(3)\n",
    "\n",
    "上記の任意課題(2)のようにバニラが続く場合、入れ物1である確率が変化していく様子を matplotlib で折れ線グラフとして出力させてください。"
   ]
  },
  {
   "cell_type": "markdown",
   "metadata": {},
   "source": [
    "ここまでで、第8回第3章は終了です。お疲れさまでした。<br />\n",
    "第4章の講義では、第8回のまとめを行います。"
   ]
  }
 ],
 "metadata": {
  "colab": {
   "name": "myFirstBayes.ipynb",
   "provenance": [],
   "version": "0.3.2"
  },
  "kernelspec": {
   "display_name": "Python 3",
   "language": "python",
   "name": "python3"
  },
  "language_info": {
   "codemirror_mode": {
    "name": "ipython",
    "version": 3
   },
   "file_extension": ".py",
   "mimetype": "text/x-python",
   "name": "python",
   "nbconvert_exporter": "python",
   "pygments_lexer": "ipython3",
   "version": "3.5.4"
  }
 },
 "nbformat": 4,
 "nbformat_minor": 1
}
