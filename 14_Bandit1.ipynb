{
 "cells": [
  {
   "cell_type": "markdown",
   "metadata": {},
   "source": [
    "# 第14回演習「バンディットアルゴリズム」"
   ]
  },
  {
   "cell_type": "markdown",
   "metadata": {},
   "source": [
    "この演習では、探索と活用のバランスを調整する学習の方法を習得します。<br />\n",
    "グレイの背景のプログラムは上から順に、1つずつ実行していきましょう。<br />\n",
    "<img src=\"http://pfe.p.cyber-u.ac.jp/img/Python/Week14/slot.png\" style=\"width:150px\">\n",
    "<hr />"
   ]
  },
  {
   "cell_type": "markdown",
   "metadata": {},
   "source": [
    "## 1) アームのClassの動作確認"
   ]
  },
  {
   "cell_type": "code",
   "execution_count": null,
   "metadata": {},
   "outputs": [],
   "source": [
    "import numpy as np\n",
    "import random\n",
    "import matplotlib.pyplot as plt\n",
    "\n",
    "回数毎の平均報酬=[]\n",
    "回数毎の累積報酬=[]\n",
    "一回のシミュレーションで引く回数=250\n",
    "シミュレーションの回数=3000\n",
    "乱数発生器 = np.random.RandomState(3)\n",
    "#乱数発生器 = np.random\n",
    "\n",
    "class アーム():\n",
    "    def __init__(self,確率):\n",
    "        self.確率=確率\n",
    "        self.引いた回数=0\n",
    "        self.平均報酬=0\n",
    "    def アームの初期化(self):\n",
    "        self.引いた回数=0\n",
    "        self.平均報酬=0        \n",
    "    def 平均報酬を更新(self,この報酬):\n",
    "        n=self.引いた回数\n",
    "        self.平均報酬=((n-1)*self.平均報酬+この報酬)/n        \n",
    "    def 引く(self): # ベルヌーイ・アーム\n",
    "        乱数_0から1まで = 乱数発生器.uniform(0, 1)\n",
    "        if 乱数_0から1まで <= self.確率:\n",
    "            この報酬=1\n",
    "        else:\n",
    "            この報酬=0\n",
    "        self.引いた回数=self.引いた回数+1\n",
    "        self.平均報酬を更新(この報酬)\n",
    "        return この報酬\n",
    "\n",
    "アーム1=アーム(0.1)\n",
    "アーム2=アーム(0.1)\n",
    "アーム3=アーム(0.1)\n",
    "アーム4=アーム(0.1)\n",
    "アーム5=アーム(0.9)\n",
    "アームの配列=[アーム1,アーム2,アーム3,アーム4,アーム5]\n",
    "\n",
    "print(アーム1.引く(),アーム1.引いた回数,アーム1.平均報酬)\n",
    "print(アーム5.引く(),アーム5.引いた回数,アーム5.平均報酬)\n",
    "print(\"----------全てのアームを1回ずつ引く-----------\")\n",
    "for このアーム in アームの配列:\n",
    "    print(このアーム.引く(),このアーム.引いた回数,このアーム.平均報酬)"
   ]
  },
  {
   "cell_type": "markdown",
   "metadata": {},
   "source": [
    "## 小出しの任意課題1) \n",
    "<span style=\"background-color:#FFFF99\">当たりの確率を0.1や0.9のような極端でない値 (例えば0.5)にして、<br />アームを何度か引いてみましょう。</span><hr />"
   ]
  },
  {
   "cell_type": "code",
   "execution_count": null,
   "metadata": {},
   "outputs": [],
   "source": []
  },
  {
   "cell_type": "markdown",
   "metadata": {},
   "source": [
    "## 2) 「平均報酬最大のアームのインデックスを知る」の<br />動作確認"
   ]
  },
  {
   "cell_type": "code",
   "execution_count": null,
   "metadata": {},
   "outputs": [],
   "source": [
    "def 平均報酬最大のアームのインデックスを知る(アームの配列):\n",
    "    暫定最大値 = -1\n",
    "    暫定最大インデックスの配列=[]\n",
    "    for このアームのインデックス in range(len(アームの配列)):\n",
    "        if アームの配列[このアームのインデックス].平均報酬 > 暫定最大値:\n",
    "            暫定最大値=アームの配列[このアームのインデックス].平均報酬\n",
    "            暫定最大インデックスの配列=[このアームのインデックス]\n",
    "        elif アームの配列[このアームのインデックス].平均報酬 == 暫定最大値:\n",
    "            暫定最大インデックスの配列.append(このアームのインデックス)\n",
    "    return 乱数発生器.choice(暫定最大インデックスの配列)\n",
    "\n",
    "print(平均報酬最大のアームのインデックスを知る(アームの配列))"
   ]
  },
  {
   "cell_type": "markdown",
   "metadata": {},
   "source": [
    "## 3) ε-グリーディ法で、εを0.5として実行"
   ]
  },
  {
   "cell_type": "code",
   "execution_count": null,
   "metadata": {},
   "outputs": [],
   "source": [
    "def εグリーディ法でアームを決定(ランダム行動の選択率ε,アームの配列):\n",
    "    乱数_0から1まで = 乱数発生器.uniform(0, 1)\n",
    "    # 乱数がε以上なら、平均報酬最大のアームを選択    \n",
    "    if ランダム行動の選択率ε <= 乱数_0から1まで:\n",
    "        平均報酬最大のインデックス=平均報酬最大のアームのインデックスを知る(アームの配列)\n",
    "        print(\"活用 \",end=\"\")\n",
    "        return 平均報酬最大のインデックス\n",
    "    # 乱数がε未満なら、ランダムなアーム\n",
    "    else:\n",
    "        print(\"探索 \",end=\"\")\n",
    "        return 乱数発生器.randint(len(アームの配列))\n",
    "\n",
    "print(εグリーディ法でアームを決定(0.5,アームの配列))\n",
    "# 何度も実行すると、結果が変わる"
   ]
  },
  {
   "cell_type": "markdown",
   "metadata": {},
   "source": [
    "## 4) εｰグリーディ法を複数回実行(10回)"
   ]
  },
  {
   "cell_type": "code",
   "execution_count": null,
   "metadata": {},
   "outputs": [],
   "source": [
    "for i in range(10):\n",
    "    print(εグリーディ法でアームを決定(0.5,アームの配列))\n",
    "#    print(εグリーディ法でアームを決定(0,アームの配列))\n",
    "#    print(εグリーディ法でアームを決定(1,アームの配列))    "
   ]
  },
  {
   "cell_type": "markdown",
   "metadata": {},
   "source": [
    "## 小出しの任意課題2) \n",
    "<span style=\"background-color:#FFFF99\">上記のプログラム#4 で、εを0.5でなく、0にしてみましょう。<br />\n",
    "    繰り返しで何度回しても、同じ結果しか返ってこなくなります。<br />どんな結果でしょうか?</span><hr />"
   ]
  },
  {
   "cell_type": "code",
   "execution_count": null,
   "metadata": {},
   "outputs": [],
   "source": [
    "for i in range(10):\n",
    "    print(εグリーディ法でアームを決定(0,アームの配列))"
   ]
  },
  {
   "cell_type": "markdown",
   "metadata": {},
   "source": [
    "## 小出しの任意課題3) \n",
    "<span style=\"background-color:#FFFF99\">上記のプログラム#4 で、εを0.5でなく、1にしてみましょう。<br />\n",
    "    εを0にした時とは結果が違います。どんな結果でしょうか?</span><hr />"
   ]
  },
  {
   "cell_type": "code",
   "execution_count": null,
   "metadata": {},
   "outputs": [],
   "source": [
    "for i in range(10):\n",
    "    print(εグリーディ法でアームを決定(1,アームの配列))"
   ]
  },
  {
   "cell_type": "markdown",
   "metadata": {},
   "source": [
    "## 5) ε-グリーディのシミュレーションをε=0.5で、1回だけ実行"
   ]
  },
  {
   "cell_type": "code",
   "execution_count": null,
   "metadata": {},
   "outputs": [],
   "source": [
    "def εグリーディ法でシミュレーション(アームの配列,\n",
    "                     一回のシミュレーションで引く回数,シミュレーションの回数,ランダム行動の選択率ε):\n",
    "    global 回数毎の平均報酬 # グローバル変数を弄るので\n",
    "    global 回数毎の累積報酬 # グローバル変数を弄るので\n",
    "    回数毎の平均報酬=[]\n",
    "    回数毎の累積報酬=[]\n",
    "    \n",
    "    for 回数 in range(一回のシミュレーションで引く回数):\n",
    "        回数毎の平均報酬.append([]) # 空にする\n",
    "        回数毎の累積報酬.append([]) # 空にする        \n",
    "\n",
    "    for このシミュレーション in range(シミュレーションの回数):\n",
    "        このシミュレーションの報酬総額=0\n",
    "        for このアーム in アームの配列:        \n",
    "            このアーム.アームの初期化()\n",
    "\n",
    "        print(\"==========================================\")\n",
    "        print(\"探索or活用, 回の番号, 引いたアームのインデックス, 得た報酬, このアームを引いた回数, このアームの平均報酬, このシミュレーション内の平均報酬\")                                        \n",
    "        for この回 in range(一回のシミュレーションで引く回数):            \n",
    "            決めたアームのインデックス=εグリーディ法でアームを決定(ランダム行動の選択率ε,アームの配列)\n",
    "            このアーム=アームの配列[決めたアームのインデックス]\n",
    "            得た報酬=このアーム.引く()\n",
    "            このシミュレーションの報酬総額=このシミュレーションの報酬総額+得た報酬\n",
    "            このシミュレーションの平均報酬=このシミュレーションの報酬総額/(この回+1)        \n",
    "            print(この回,\"\",end=\"\")\n",
    "            print(決めたアームのインデックス,end=\"\")            \n",
    "            print(\"\",得た報酬,このアーム.引いた回数,このアーム.平均報酬,end=\"\")\n",
    "            print(\"\",このシミュレーションの平均報酬)            \n",
    "            回数毎の平均報酬[この回].append(このシミュレーションの平均報酬)\n",
    "            回数毎の累積報酬[この回].append(このシミュレーションの報酬総額)\n",
    "        print(\"探索or活用, 回の番号, 引いたアームのインデックス, 得た報酬, このアームを引いた回数, このアームの平均報酬, このシミュレーション内の平均報酬\")                        \n",
    "\n",
    "εグリーディ法でシミュレーション(アームの配列,250,1,0.5)"
   ]
  },
  {
   "cell_type": "markdown",
   "metadata": {},
   "source": [
    "## 小出しの任意課題4) \n",
    "<span style=\"background-color:#FFFF99\">εを0.5より小さくしてみましょう。<br />250回目における、このシミュレーション内の平均報酬はどれほど変わるでしょうか?</span><hr />"
   ]
  },
  {
   "cell_type": "code",
   "execution_count": null,
   "metadata": {},
   "outputs": [],
   "source": []
  },
  {
   "cell_type": "markdown",
   "metadata": {},
   "source": [
    "## 小出しの任意課題5) \n",
    "<span style=\"background-color:#FFFF99\">ε=0.5 とし、#5 のシミュレーションを複数回実行してみましょう。<br />シミュレーション終了時の最終的な平均報酬はどれほどブレるでしょうか?</span><hr />"
   ]
  },
  {
   "cell_type": "code",
   "execution_count": null,
   "metadata": {},
   "outputs": [],
   "source": [
    "#乱数発生器 = np.random\n",
    "#εグリーディ法でシミュレーション(アームの配列,250,3,0.5) # シミュレーションを3回実行"
   ]
  },
  {
   "cell_type": "markdown",
   "metadata": {},
   "source": [
    "第14回第2章の演習はここまでです。引き続き、第3章の講義を見ましょう。"
   ]
  }
 ],
 "metadata": {
  "kernelspec": {
   "display_name": "Python 3",
   "language": "python",
   "name": "python3"
  },
  "language_info": {
   "codemirror_mode": {
    "name": "ipython",
    "version": 3
   },
   "file_extension": ".py",
   "mimetype": "text/x-python",
   "name": "python",
   "nbconvert_exporter": "python",
   "pygments_lexer": "ipython3",
   "version": "3.5.4"
  }
 },
 "nbformat": 4,
 "nbformat_minor": 2
}
